{
  "nbformat": 4,
  "nbformat_minor": 0,
  "metadata": {
    "colab": {
      "name": "Jagan Exception handling Assignment.ipynb",
      "provenance": [],
      "authorship_tag": "ABX9TyOPTXnLMb4724TeEXJQeUe7",
      "include_colab_link": true
    },
    "kernelspec": {
      "name": "python3",
      "display_name": "Python 3"
    }
  },
  "cells": [
    {
      "cell_type": "markdown",
      "metadata": {
        "id": "view-in-github",
        "colab_type": "text"
      },
      "source": [
        "<a href=\"https://colab.research.google.com/github/jagangirisaballa/iNeuron-Assignments/blob/master/Jagan_Exception_handling_Assignment.ipynb\" target=\"_parent\"><img src=\"https://colab.research.google.com/assets/colab-badge.svg\" alt=\"Open In Colab\"/></a>"
      ]
    },
    {
      "cell_type": "markdown",
      "metadata": {
        "id": "yCZMZbVmIbKp",
        "colab_type": "text"
      },
      "source": [
        "1. Write a function to compute 5/0 and use try/except to catch the exceptions.\n",
        "\n"
      ]
    },
    {
      "cell_type": "code",
      "metadata": {
        "id": "TR0Upn1DG_Wv",
        "colab_type": "code",
        "outputId": "550be8e2-b8cf-4ce5-e077-3b6ec7913659",
        "colab": {
          "base_uri": "https://localhost:8080/",
          "height": 35
        }
      },
      "source": [
        "# Python code to illustrate working of try()  \n",
        "def divide(x, y): \n",
        "    try: \n",
        "        # Floor Division : Gives only Fractional Part as Answer \n",
        "        result = x // y \n",
        "        print(\"Your answer is :\", result) \n",
        "    except ZeroDivisionError: \n",
        "        print(\"Danger ! You are dividing by zero \") \n",
        "  \n",
        "# Look at parameters and note the working of Program \n",
        "divide(5, 0) "
      ],
      "execution_count": 3,
      "outputs": [
        {
          "output_type": "stream",
          "text": [
            "Danger ! You are dividing by zero \n"
          ],
          "name": "stdout"
        }
      ]
    },
    {
      "cell_type": "markdown",
      "metadata": {
        "id": "3_A4E_LPItCz",
        "colab_type": "text"
      },
      "source": [
        "2. Implement a Python program to generate all sentences where subject is in\n",
        "[\"Americans\", \"Indians\"] and verb is in [\"Play\", \"watch\"] and the object is in\n",
        "[\"Baseball\",\"cricket\"].\n",
        "Hint: Subject,Verb and Object should be declared in the program as shown below.\n",
        "subjects=[\"Americans \",\"Indians\"]\n",
        "verbs=[\"play\",\"watch\"]\n",
        "objects=[\"Baseball\",\"Cricket\"]\n",
        "Output should come as below:\n",
        "Americans play Baseball.\n",
        "Americans play Cricket.\n",
        "Americans watch Baseball.\n",
        "Americans watch Cricket.\n",
        "Indians play Baseball.\n",
        "Indians play Cricket.\n",
        "Indians watch Baseball.\n",
        "Indians watch Cricket."
      ]
    },
    {
      "cell_type": "code",
      "metadata": {
        "id": "GBgsoWxHIm7-",
        "colab_type": "code",
        "colab": {
          "base_uri": "https://localhost:8080/",
          "height": 156
        },
        "outputId": "8b1c2c56-bd27-4937-ca27-1b4039efef52"
      },
      "source": [
        "subjects=[\"Americans\", \"Indians\"]\n",
        "verbs=[\"play\", \"watch\"]\n",
        "objs=[\"Baseball\",\"Cricket\"]\n",
        "\n",
        "# Use list comprehension instead of looping over each of the predicates\n",
        "sentence_list = [(sub+\" \"+ vb + \" \" + ob) for sub in subjects for vb in verbs for ob in objs]\n",
        "for sentence in sentence_list:\n",
        "  print (sentence)"
      ],
      "execution_count": 2,
      "outputs": [
        {
          "output_type": "stream",
          "text": [
            "Americans play Baseball\n",
            "Americans play Cricket\n",
            "Americans watch Baseball\n",
            "Americans watch Cricket\n",
            "Indians play Baseball\n",
            "Indians play Cricket\n",
            "Indians watch Baseball\n",
            "Indians watch Cricket\n"
          ],
          "name": "stdout"
        }
      ]
    },
    {
      "cell_type": "code",
      "metadata": {
        "id": "mIA0nSlqJMfV",
        "colab_type": "code",
        "colab": {}
      },
      "source": [
        ""
      ],
      "execution_count": 0,
      "outputs": []
    }
  ]
}