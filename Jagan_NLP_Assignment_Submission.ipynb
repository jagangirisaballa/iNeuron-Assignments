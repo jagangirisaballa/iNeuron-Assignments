{
  "nbformat": 4,
  "nbformat_minor": 0,
  "metadata": {
    "colab": {
      "name": "Jagan NLP Assignment Submission.ipynb",
      "provenance": [],
      "authorship_tag": "ABX9TyOymKEWSP46uu3qn1KEzULa",
      "include_colab_link": true
    },
    "kernelspec": {
      "name": "python3",
      "display_name": "Python 3"
    }
  },
  "cells": [
    {
      "cell_type": "markdown",
      "metadata": {
        "id": "view-in-github",
        "colab_type": "text"
      },
      "source": [
        "<a href=\"https://colab.research.google.com/github/jagangirisaballa/iNeuron-Assignments/blob/master/Jagan_NLP_Assignment_Submission.ipynb\" target=\"_parent\"><img src=\"https://colab.research.google.com/assets/colab-badge.svg\" alt=\"Open In Colab\"/></a>"
      ]
    },
    {
      "cell_type": "markdown",
      "metadata": {
        "id": "1ytWvambbNeo",
        "colab_type": "text"
      },
      "source": [
        "\n",
        "In this assignment students have to find the frequency of words in a webpage. User can use urllib and BeautifulSoup to extract text from webpage.\n"
      ]
    },
    {
      "cell_type": "code",
      "metadata": {
        "id": "qb63C_7CasWs",
        "colab_type": "code",
        "colab": {
          "base_uri": "https://localhost:8080/",
          "height": 36
        },
        "outputId": "75bf23d6-2ac8-4b58-a643-a0974cc166cc"
      },
      "source": [
        "pip install beautifulsoup4"
      ],
      "execution_count": null,
      "outputs": [
        {
          "output_type": "stream",
          "text": [
            "Requirement already satisfied: beautifulsoup4 in /usr/local/lib/python3.6/dist-packages (4.6.3)\n"
          ],
          "name": "stdout"
        }
      ]
    },
    {
      "cell_type": "code",
      "metadata": {
        "id": "zUh0OoRObTgu",
        "colab_type": "code",
        "colab": {}
      },
      "source": [
        "import nltk\n",
        "import urllib.request\n",
        "from bs4 import BeautifulSoup\n",
        "import re\n",
        "import matplotlib.pyplot as plt\n",
        "%matplotlib inline"
      ],
      "execution_count": null,
      "outputs": []
    },
    {
      "cell_type": "markdown",
      "metadata": {
        "id": "RJQcQcjzbcLp",
        "colab_type": "text"
      },
      "source": [
        "\n",
        "Fetching url and the html"
      ]
    },
    {
      "cell_type": "code",
      "metadata": {
        "id": "GxS4wKP0bXX7",
        "colab_type": "code",
        "colab": {}
      },
      "source": [
        "response = urllib.request.urlopen('http://php.net/')\n",
        "html = response.read()\n",
        "soup = BeautifulSoup(html,\"html5lib\")"
      ],
      "execution_count": null,
      "outputs": []
    },
    {
      "cell_type": "code",
      "metadata": {
        "id": "f21mQd2HbggU",
        "colab_type": "code",
        "colab": {
          "base_uri": "https://localhost:8080/",
          "height": 56
        },
        "outputId": "7097866f-3ec8-49bb-9893-18f0847df8a6"
      },
      "source": [
        "print(html)"
      ],
      "execution_count": null,
      "outputs": [
        {
          "output_type": "stream",
          "text": [
            "b'<!DOCTYPE html>\\n<html xmlns=\"http://www.w3.org/1999/xhtml\" lang=\"en\">\\n<head>\\n\\n  <meta charset=\"utf-8\">\\n  <meta name=\"viewport\" content=\"width=device-width, initial-scale=1.0\">\\n\\n  <title>PHP: Hypertext Preprocessor</title>\\n\\n <link rel=\"shortcut icon\" href=\"https://www.php.net/favicon.ico\">\\n <link rel=\"search\" type=\"application/opensearchdescription+xml\" href=\"http://php.net/phpnetimprovedsearch.src\" title=\"Add PHP.net search\">\\n <link rel=\"alternate\" type=\"application/atom+xml\" href=\"https://www.php.net/releases/feed.php\" title=\"PHP Release feed\">\\n <link rel=\"alternate\" type=\"application/atom+xml\" href=\"https://www.php.net/feed.atom\" title=\"PHP: Hypertext Preprocessor\">\\n\\n <link rel=\"canonical\" href=\"https://www.php.net/index.php\">\\n <link rel=\"shorturl\" href=\"https://www.php.net/index\">\\n <link rel=\"alternate\" href=\"https://www.php.net/index\" hreflang=\"x-default\">\\n\\n\\n\\n<link rel=\"stylesheet\" type=\"text/css\" href=\"/cached.php?t=1539771603&amp;f=/fonts/Fira/fira.css\" media=\"screen\">\\n<link rel=\"stylesheet\" type=\"text/css\" href=\"/cached.php?t=1539765004&amp;f=/fonts/Font-Awesome/css/fontello.css\" media=\"screen\">\\n<link rel=\"stylesheet\" type=\"text/css\" href=\"/cached.php?t=1598370002&amp;f=/styles/theme-base.css\" media=\"screen\">\\n<link rel=\"stylesheet\" type=\"text/css\" href=\"/cached.php?t=1540425603&amp;f=/styles/theme-medium.css\" media=\"screen\">\\n<link rel=\"stylesheet\" type=\"text/css\" href=\"/cached.php?t=1429259403&amp;f=/styles/home.css\" media=\"screen\">\\n\\n <!--[if lte IE 7]>\\n <link rel=\"stylesheet\" type=\"text/css\" href=\"https://www.php.net/styles/workarounds.ie7.css\" media=\"screen\">\\n <![endif]-->\\n\\n <!--[if lte IE 8]>\\n <script>\\n  window.brokenIE = true;\\n </script>\\n <![endif]-->\\n\\n <!--[if lte IE 9]>\\n <link rel=\"stylesheet\" type=\"text/css\" href=\"https://www.php.net/styles/workarounds.ie9.css\" media=\"screen\">\\n <![endif]-->\\n\\n <!--[if IE]>\\n <script src=\"https://www.php.net/js/ext/html5.js\"></script>\\n <![endif]-->\\n\\n <base href=\"https://www.php.net/index.php\">\\n\\n</head>\\n<body class=\"home \">\\n\\n<nav id=\"head-nav\" class=\"navbar navbar-fixed-top\">\\n  <div class=\"navbar-inner clearfix\">\\n    <a href=\"/\" class=\"brand\"><img src=\"/images/logos/php-logo.svg\" width=\"48\" height=\"24\" alt=\"php\"></a>\\n    <div id=\"mainmenu-toggle-overlay\"></div>\\n    <input type=\"checkbox\" id=\"mainmenu-toggle\">\\n    <ul class=\"nav\">\\n      <li class=\"\"><a href=\"/downloads\">Downloads</a></li>\\n      <li class=\"\"><a href=\"/docs.php\">Documentation</a></li>\\n      <li class=\"\"><a href=\"/get-involved\" >Get Involved</a></li>\\n      <li class=\"\"><a href=\"/support\">Help</a></li>\\n    </ul>\\n    <form class=\"navbar-search\" id=\"topsearch\" action=\"/search.php\">\\n      <input type=\"hidden\" name=\"show\" value=\"quickref\">\\n      <input type=\"search\" name=\"pattern\" class=\"search-query\" placeholder=\"Search\" accesskey=\"s\">\\n    </form>\\n  </div>\\n  <div id=\"flash-message\"></div>\\n</nav>\\n<nav id=\"trick\"><div><dl>\\n<dt><a href=\\'/manual/en/getting-started.php\\'>Getting Started</a></dt>\\n\\t<dd><a href=\\'/manual/en/introduction.php\\'>Introduction</a></dd>\\n\\t<dd><a href=\\'/manual/en/tutorial.php\\'>A simple tutorial</a></dd>\\n<dt><a href=\\'/manual/en/langref.php\\'>Language Reference</a></dt>\\n\\t<dd><a href=\\'/manual/en/language.basic-syntax.php\\'>Basic syntax</a></dd>\\n\\t<dd><a href=\\'/manual/en/language.types.php\\'>Types</a></dd>\\n\\t<dd><a href=\\'/manual/en/language.variables.php\\'>Variables</a></dd>\\n\\t<dd><a href=\\'/manual/en/language.constants.php\\'>Constants</a></dd>\\n\\t<dd><a href=\\'/manual/en/language.expressions.php\\'>Expressions</a></dd>\\n\\t<dd><a href=\\'/manual/en/language.operators.php\\'>Operators</a></dd>\\n\\t<dd><a href=\\'/manual/en/language.control-structures.php\\'>Control Structures</a></dd>\\n\\t<dd><a href=\\'/manual/en/language.functions.php\\'>Functions</a></dd>\\n\\t<dd><a href=\\'/manual/en/language.oop5.php\\'>Classes and Objects</a></dd>\\n\\t<dd><a href=\\'/manual/en/language.namespaces.php\\'>Namespaces</a></dd>\\n\\t<dd><a href=\\'/manual/en/language.errors.php\\'>Errors</a></dd>\\n\\t<dd><a href=\\'/manual/en/language.exceptions.php\\'>Exceptions</a></dd>\\n\\t<dd><a href=\\'/manual/en/language.generators.php\\'>Generators</a></dd>\\n\\t<dd><a href=\\'/manual/en/language.references.php\\'>References Explained</a></dd>\\n\\t<dd><a href=\\'/manual/en/reserved.variables.php\\'>Predefined Variables</a></dd>\\n\\t<dd><a href=\\'/manual/en/reserved.exceptions.php\\'>Predefined Exceptions</a></dd>\\n\\t<dd><a href=\\'/manual/en/reserved.interfaces.php\\'>Predefined Interfaces and Classes</a></dd>\\n\\t<dd><a href=\\'/manual/en/context.php\\'>Context options and parameters</a></dd>\\n\\t<dd><a href=\\'/manual/en/wrappers.php\\'>Supported Protocols and Wrappers</a></dd>\\n</dl>\\n<dl>\\n<dt><a href=\\'/manual/en/security.php\\'>Security</a></dt>\\n\\t<dd><a href=\\'/manual/en/security.intro.php\\'>Introduction</a></dd>\\n\\t<dd><a href=\\'/manual/en/security.general.php\\'>General considerations</a></dd>\\n\\t<dd><a href=\\'/manual/en/security.cgi-bin.php\\'>Installed as CGI binary</a></dd>\\n\\t<dd><a href=\\'/manual/en/security.apache.php\\'>Installed as an Apache module</a></dd>\\n\\t<dd><a href=\\'/manual/en/security.sessions.php\\'>Session Security</a></dd>\\n\\t<dd><a href=\\'/manual/en/security.filesystem.php\\'>Filesystem Security</a></dd>\\n\\t<dd><a href=\\'/manual/en/security.database.php\\'>Database Security</a></dd>\\n\\t<dd><a href=\\'/manual/en/security.errors.php\\'>Error Reporting</a></dd>\\n\\t<dd><a href=\\'/manual/en/security.globals.php\\'>Using Register Globals</a></dd>\\n\\t<dd><a href=\\'/manual/en/security.variables.php\\'>User Submitted Data</a></dd>\\n\\t<dd><a href=\\'/manual/en/security.magicquotes.php\\'>Magic Quotes</a></dd>\\n\\t<dd><a href=\\'/manual/en/security.hiding.php\\'>Hiding PHP</a></dd>\\n\\t<dd><a href=\\'/manual/en/security.current.php\\'>Keeping Current</a></dd>\\n<dt><a href=\\'/manual/en/features.php\\'>Features</a></dt>\\n\\t<dd><a href=\\'/manual/en/features.http-auth.php\\'>HTTP authentication with PHP</a></dd>\\n\\t<dd><a href=\\'/manual/en/features.cookies.php\\'>Cookies</a></dd>\\n\\t<dd><a href=\\'/manual/en/features.sessions.php\\'>Sessions</a></dd>\\n\\t<dd><a href=\\'/manual/en/features.xforms.php\\'>Dealing with XForms</a></dd>\\n\\t<dd><a href=\\'/manual/en/features.file-upload.php\\'>Handling file uploads</a></dd>\\n\\t<dd><a href=\\'/manual/en/features.remote-files.php\\'>Using remote files</a></dd>\\n\\t<dd><a href=\\'/manual/en/features.connection-handling.php\\'>Connection handling</a></dd>\\n\\t<dd><a href=\\'/manual/en/features.persistent-connections.php\\'>Persistent Database Connections</a></dd>\\n\\t<dd><a href=\\'/manual/en/features.safe-mode.php\\'>Safe Mode</a></dd>\\n\\t<dd><a href=\\'/manual/en/features.commandline.php\\'>Command line usage</a></dd>\\n\\t<dd><a href=\\'/manual/en/features.gc.php\\'>Garbage Collection</a></dd>\\n\\t<dd><a href=\\'/manual/en/features.dtrace.php\\'>DTrace Dynamic Tracing</a></dd>\\n</dl>\\n<dl>\\n<dt><a href=\\'/manual/en/funcref.php\\'>Function Reference</a></dt>\\n\\t<dd><a href=\\'/manual/en/refs.basic.php.php\\'>Affecting PHP\\'s Behaviour</a></dd>\\n\\t<dd><a href=\\'/manual/en/refs.utilspec.audio.php\\'>Audio Formats Manipulation</a></dd>\\n\\t<dd><a href=\\'/manual/en/refs.remote.auth.php\\'>Authentication Services</a></dd>\\n\\t<dd><a href=\\'/manual/en/refs.utilspec.cmdline.php\\'>Command Line Specific Extensions</a></dd>\\n\\t<dd><a href=\\'/manual/en/refs.compression.php\\'>Compression and Archive Extensions</a></dd>\\n\\t<dd><a href=\\'/manual/en/refs.creditcard.php\\'>Credit Card Processing</a></dd>\\n\\t<dd><a href=\\'/manual/en/refs.crypto.php\\'>Cryptography Extensions</a></dd>\\n\\t<dd><a href=\\'/manual/en/refs.database.php\\'>Database Extensions</a></dd>\\n\\t<dd><a href=\\'/manual/en/refs.calendar.php\\'>Date and Time Related Extensions</a></dd>\\n\\t<dd><a href=\\'/manual/en/refs.fileprocess.file.php\\'>File System Related Extensions</a></dd>\\n\\t<dd><a href=\\'/manual/en/refs.international.php\\'>Human Language and Character Encoding Support</a></dd>\\n\\t<dd><a href=\\'/manual/en/refs.utilspec.image.php\\'>Image Processing and Generation</a></dd>\\n\\t<dd><a href=\\'/manual/en/refs.remote.mail.php\\'>Mail Related Extensions</a></dd>\\n\\t<dd><a href=\\'/manual/en/refs.math.php\\'>Mathematical Extensions</a></dd>\\n\\t<dd><a href=\\'/manual/en/refs.utilspec.nontext.php\\'>Non-Text MIME Output</a></dd>\\n\\t<dd><a href=\\'/manual/en/refs.fileprocess.process.php\\'>Process Control Extensions</a></dd>\\n\\t<dd><a href=\\'/manual/en/refs.basic.other.php\\'>Other Basic Extensions</a></dd>\\n\\t<dd><a href=\\'/manual/en/refs.remote.other.php\\'>Other Services</a></dd>\\n\\t<dd><a href=\\'/manual/en/refs.search.php\\'>Search Engine Extensions</a></dd>\\n\\t<dd><a href=\\'/manual/en/refs.utilspec.server.php\\'>Server Specific Extensions</a></dd>\\n\\t<dd><a href=\\'/manual/en/refs.basic.session.php\\'>Session Extensions</a></dd>\\n\\t<dd><a href=\\'/manual/en/refs.basic.text.php\\'>Text Processing</a></dd>\\n\\t<dd><a href=\\'/manual/en/refs.basic.vartype.php\\'>Variable and Type Related Extensions</a></dd>\\n\\t<dd><a href=\\'/manual/en/refs.webservice.php\\'>Web Services</a></dd>\\n\\t<dd><a href=\\'/manual/en/refs.utilspec.windows.php\\'>Windows Only Extensions</a></dd>\\n\\t<dd><a href=\\'/manual/en/refs.xml.php\\'>XML Manipulation</a></dd>\\n\\t<dd><a href=\\'/manual/en/refs.ui.php\\'>GUI Extensions</a></dd>\\n</dl>\\n<dl>\\n<dt>Keyboard Shortcuts</dt><dt>?</dt>\\n<dd>This help</dd>\\n<dt>j</dt>\\n<dd>Next menu item</dd>\\n<dt>k</dt>\\n<dd>Previous menu item</dd>\\n<dt>g p</dt>\\n<dd>Previous man page</dd>\\n<dt>g n</dt>\\n<dd>Next man page</dd>\\n<dt>G</dt>\\n<dd>Scroll to bottom</dd>\\n<dt>g g</dt>\\n<dd>Scroll to top</dd>\\n<dt>g h</dt>\\n<dd>Goto homepage</dd>\\n<dt>g s</dt>\\n<dd>Goto search<br>(current page)</dd>\\n<dt>/</dt>\\n<dd>Focus search box</dd>\\n</dl></div></nav>\\n<div id=\"goto\">\\n    <div class=\"search\">\\n         <div class=\"text\"></div>\\n         <div class=\"results\"><ul></ul></div>\\n   </div>\\n</div>\\n\\n\\n\\n<div id=\"intro\" class=\"clearfix\">\\n  <div class=\"container\">\\n      <div class=\"row clearfix\">\\n    <div class=\"blurb\">\\n      <p>PHP is a popular general-purpose scripting language that is especially suited to web development.</p>\\n      <p>Fast, flexible and pragmatic, PHP powers everything from your blog to the most popular websites in the world.</p>\\n    </div>\\n    <div class=\"download\">\\n      <h3>Download</h3><ul>\\n\\n            <li><a class=\\'download-link\\' href=\\'/downloads.php#v7.4.9\\'>7.4.9</a><span class=\\'dot\\'>&middot;</span><a class=\\'notes\\' href=\\'/ChangeLog-7.php#7.4.9\\'>Release Notes</a><span class=\\'dot\\'>&middot;</span><a class=\\'notes\\' href=\\'/migration74\\'>Upgrading</a></li>\\n\\n            <li><a class=\\'download-link\\' href=\\'/downloads.php#v7.3.21\\'>7.3.21</a><span class=\\'dot\\'>&middot;</span><a class=\\'notes\\' href=\\'/ChangeLog-7.php#7.3.21\\'>Release Notes</a><span class=\\'dot\\'>&middot;</span><a class=\\'notes\\' href=\\'/migration73\\'>Upgrading</a></li>\\n\\n            <li><a class=\\'download-link\\' href=\\'/downloads.php#v7.2.33\\'>7.2.33</a><span class=\\'dot\\'>&middot;</span><a class=\\'notes\\' href=\\'/ChangeLog-7.php#7.2.33\\'>Release Notes</a><span class=\\'dot\\'>&middot;</span><a class=\\'notes\\' href=\\'/migration72\\'>Upgrading</a></li>\\n</ul>\\n    </div>\\n  </div>  </div>\\n</div>\\n\\n\\n<div id=\"layout\" class=\"clearfix\">\\n  <section id=\"layout-content\">\\n<div class=\\'home-content\\'><article class=\"newsentry\">\\n  <header class=\"title\">\\n    <time datetime=\"2020-08-21T14:21:41+00:00\">21 Aug 2020</time>\\n    <h2 class=\"newstitle\">\\n      <a href=\"https://www.php.net/archive/2020.php#2020-08-21-1\" id=\"2020-08-21-1\">PHP 8.0.0beta2 Released!</a>\\n    </h2>\\n  </header>\\n  <div class=\"newscontent\">\\n    <div>\\n      <p>\\n        The PHP team is pleased to announce the fifth testing release of PHP 8.0.0, Beta 2.\\n        This continues the PHP 8.0 release cycle, the rough outline of which is specified in the\\n        <a href=\"https://wiki.php.net/todo/php80\">PHP Wiki</a>.\\n      </p>\\n\\n      <p>For source downloads of PHP 8.0.0 Beta 2 please visit the <a href=\"https://downloads.php.net/~pollita/\">download page</a>.</p>\\n\\n      <p>Please carefully test this version and report any issues found in the <a href=\"http://bugs.php.net\">bug reporting system</a>.</p>\\n\\n      <p><b>Please DO NOT use this version in production, it is an early test version.</b></p>\\n\\n      <p>\\n        For more information on the new features and other changes, you can read the\\n        <a href=\"https://github.com/php/php-src/blob/php-8.0.0beta2/NEWS\">NEWS</a> file,\\n        or the <a href=\"https://github.com/php/php-src/blob/php-8.0.0beta2/UPGRADING\">UPGRADING</a>\\n        file for a complete list of upgrading notes. These files can also be found in the release archive.\\n      </p>\\n\\n      <p>The next release will be Beta 3, planned for Sep 3 2020.</p>\\n\\n      <p>The signatures for the release can be found in <a href=\"https://gist.github.com/sgolemon/1694e5313d246eaf203318d516d53fba\">the manifest</a> or on <a href=\"https://qa.php.net/\">the QA site</a>.</p>\\n\\n      <p>Thank you for helping us make PHP better.</p>\\n    </div>\\n  \\n  </div>\\n</article><article class=\"newsentry\">\\n  <header class=\"title\">\\n    <time datetime=\"2020-08-06T10:08:21+00:00\">06 Aug 2020</time>\\n    <h2 class=\"newstitle\">\\n      <a href=\"https://www.php.net/archive/2020.php#2020-08-06-4\" id=\"2020-08-06-4\">PHP 7.4.9 Released!</a>\\n    </h2>\\n  </header>\\n  <div class=\"newscontent\">\\n    <div><p>The PHP development team announces the immediate availability of PHP 7.4.9. This is a bug fix release.</p>\\n\\n<p>All PHP 7.4 users are encouraged to upgrade to this version.</p>\\n\\n<p>For source downloads of PHP 7.4.9 please visit our <a href=\"https://www.php.net/downloads.php\">downloads page</a>,\\nWindows source and binaries can be found on <a href=\"https://windows.php.net/download/\">windows.php.net/download/</a>.\\nThe list of changes is recorded in the <a href=\"https://www.php.net/ChangeLog-7.php#7.4.9\">ChangeLog</a>.\\n</p>    </div>\\n  \\n  </div>\\n</article><article class=\"newsentry\">\\n  <header class=\"title\">\\n    <time datetime=\"2020-08-06T09:13:51+00:00\">06 Aug 2020</time>\\n    <h2 class=\"newstitle\">\\n      <a href=\"https://www.php.net/archive/2020.php#2020-08-06-3\" id=\"2020-08-06-3\">PHP 8.0.0 Beta 1 available for testing</a>\\n    </h2>\\n  </header>\\n  <div class=\"newscontent\">\\n    <div>\\n      <p>\\n        The PHP team is pleased to announce the fourth testing release of PHP 8.0.0, Beta 1.\\n        This continues the PHP 8.0 release cycle, the rough outline of which is specified in the\\n        <a href=\"https://wiki.php.net/todo/php80\">PHP Wiki</a>.\\n      </p>\\n\\n      <p>For source downloads of PHP 8.0.0 Beta 1 please visit the <a href=\"https://downloads.php.net/~carusogabriel\">download page</a>.</p>\\n\\n      <p>Please carefully test this version and report any issues found in the <a href=\"http://bugs.php.net\">bug reporting system</a>.</p>\\n\\n      <p><b>Please DO NOT use this version in production, it is an early test version.</b></p>\\n\\n      <p>\\n        For more information on the new features and other changes, you can read the\\n        <a href=\"https://github.com/php/php-src/blob/php-8.0.0beta1/NEWS\">NEWS</a> file,\\n        or the <a href=\"https://github.com/php/php-src/blob/php-8.0.0beta1/UPGRADING\">UPGRADING</a>\\n        file for a complete list of upgrading notes. These files can also be found in the release archive.\\n      </p>\\n\\n      <p>The next release will be Beta 2, planned for Aug 20 2020.</p>\\n\\n      <p>The signatures for the release can be found in <a href=\"https://gist.github.com/carusogabriel/527685326157fd31bdb6b277cbc0e45e\">the manifest</a> or on <a href=\"https://qa.php.net/\">the QA site</a>.</p>\\n\\n      <p>Thank you for helping us make PHP better.</p>\\n    </div>\\n  \\n  </div>\\n</article><article class=\"newsentry\">\\n  <header class=\"title\">\\n    <time datetime=\"2020-08-06T08:18:53+00:00\">06 Aug 2020</time>\\n    <h2 class=\"newstitle\">\\n      <a href=\"https://www.php.net/archive/2020.php#2020-08-06-2\" id=\"2020-08-06-2\">PHP 7.3.21 Released!</a>\\n    </h2>\\n  </header>\\n  <div class=\"newscontent\">\\n    <div><p>The PHP development team announces the immediate availability of PHP 7.3.21. This is a security release.</p>\\n\\n<p>All PHP 7.3 users are encouraged to upgrade to this version.</p>\\n\\n<p>For source downloads of PHP 7.3.21 please visit our <a href=\"https://www.php.net/downloads.php\">downloads page</a>,\\nWindows source and binaries can be found on <a href=\"https://windows.php.net/download/\">windows.php.net/download/</a>.\\nThe list of changes is recorded in the <a href=\"https://www.php.net/ChangeLog-7.php#7.3.21\">ChangeLog</a>.\\n</p>    </div>\\n  \\n  </div>\\n</article><article class=\"newsentry\">\\n  <header class=\"title\">\\n    <time datetime=\"2020-08-06T07:47:41+00:00\">06 Aug 2020</time>\\n    <h2 class=\"newstitle\">\\n      <a href=\"https://www.php.net/archive/2020.php#2020-08-06-1\" id=\"2020-08-06-1\">PHP 7.2.33 Released!</a>\\n    </h2>\\n  </header>\\n  <div class=\"newscontent\">\\n    <div>\\n     <p>The PHP development team announces the immediate availability of PHP 7.2.33.\\n     This is a security release.</p>\\n\\n     <p>All PHP 7.2 users are encouraged to upgrade to this version.</p>\\n\\n     <p>For source downloads of PHP 7.2.33 please visit our <a href=\"https://www.php.net/downloads.php\">downloads page</a>,\\n     Windows source and binaries can be found on <a href=\"https://windows.php.net/download/\">windows.php.net/download/</a>.\\n     The list of changes is recorded in the <a href=\"https://www.php.net/ChangeLog-7.php#7.2.33\">ChangeLog</a>.\\n     </p>\\n    </div>\\n  \\n  </div>\\n</article><article class=\"newsentry\">\\n  <header class=\"title\">\\n    <time datetime=\"2020-07-23T10:35:37+00:00\">23 Jul 2020</time>\\n    <h2 class=\"newstitle\">\\n      <a href=\"https://www.php.net/archive/2020.php#2020-07-23-1\" id=\"2020-07-23-1\">PHP 8.0.0 Alpha 3 available for testing</a>\\n    </h2>\\n  </header>\\n  <div class=\"newscontent\">\\n    <div>\\n      <p>\\n        The PHP team is pleased to announce the third testing release of PHP 8.0.0, Alpha 3.\\n        This continues the PHP 8.0 release cycle, the rough outline of which is specified in the\\n        <a href=\"https://wiki.php.net/todo/php80\">PHP Wiki</a>.\\n      </p>\\n\\n      <p>For source downloads of PHP 8.0.0 Alpha 3 please visit the <a href=\"https://downloads.php.net/~carusogabriel\">download page</a>.</p>\\n\\n      <p>Please carefully test this version and report any issues found in the <a href=\"http://bugs.php.net\">bug reporting system</a>.</p>\\n\\n      <p><b>Please DO NOT use this version in production, it is an early test version.</b></p>\\n\\n      <p>\\n        For more information on the new features and other changes, you can read the\\n        <a href=\"https://github.com/php/php-src/blob/php-8.0.0alpha3/NEWS\">NEWS</a> file,\\n        or the <a href=\"https://github.com/php/php-src/blob/php-8.0.0alpha3/UPGRADING\">UPGRADING</a>\\n        file for a complete list of upgrading notes. These files can also be found in the release archive.\\n      </p>\\n\\n      <p>The next release will be Beta 1, planned for Aug 06 2020.</p>\\n\\n      <p>The signatures for the release can be found in <a href=\"https://gist.github.com/carusogabriel/6e0b8b33ee4dd2da23002863af4de965\">the manifest</a> or on <a href=\"https://qa.php.net/\">the QA site</a>.</p>\\n\\n      <p>Thank you for helping us make PHP better.</p>\\n    </div>\\n  \\n  </div>\\n</article><article class=\"newsentry\">\\n  <header class=\"title\">\\n    <time datetime=\"2020-07-09T13:54:17+00:00\">09 Jul 2020</time>\\n    <h2 class=\"newstitle\">\\n      <a href=\"https://www.php.net/archive/2020.php#2020-07-09-4\" id=\"2020-07-09-4\">PHP 7.4.8 Released!</a>\\n    </h2>\\n  </header>\\n  <div class=\"newscontent\">\\n    <div>\\n<p>The PHP development team announces the immediate availability of PHP 7.4.8.\\nThis is a security release impacting the <a href=\"https://windows.php.net/\">official Windows builds</a> of PHP.</p>\\n\\n<p>For windows users running an official build, this release contains a\\npatched version of <a href=\"https://curl.haxx.se\">libcurl</a> addressing\\n<a href=\"https://curl.haxx.se/docs/CVE-2020-8169.html\">CVE-2020-8169</a>.</p>\\n\\n<p>For all other consumers of PHP, this is a bug fix release.</p>\\n\\n<p>All PHP 7.4 users are encouraged to upgrade to this version.</p>\\n\\n<p>For source downloads of PHP 7.4.8 please visit our <a href=\"https://www.php.net/downloads.php\">downloads page</a>,\\nWindows source and binaries can be found on <a href=\"https://windows.php.net/download/\">windows.php.net/download/</a>.\\nThe list of changes is recorded in the <a href=\"https://www.php.net/ChangeLog-7.php#7.4.8\">ChangeLog</a>.\\n</p>\\n\\t</div>\\n  \\n  </div>\\n</article><article class=\"newsentry\">\\n  <header class=\"title\">\\n    <time datetime=\"2020-07-09T13:23:41+00:00\">09 Jul 2020</time>\\n    <h2 class=\"newstitle\">\\n      <a href=\"https://www.php.net/archive/2020.php#2020-07-09-2\" id=\"2020-07-09-2\">PHP 7.2.32 Released!</a>\\n    </h2>\\n  </header>\\n  <div class=\"newscontent\">\\n    <div>\\n      <p>\\n        The PHP development team announces the immediate availability of PHP 7.2.32.\\n        This is a security release impacting the\\n        <a href=\"https://windows.php.net/\">official Windows builds</a> of PHP.\\n      </p>\\n\\n      <p>\\n        For windows users running an official build, this release contains a\\n        patched version of <a href=\"https://curl.haxx.se\">libcurl</a> addressing\\n        <a href=\"https://curl.haxx.se/docs/CVE-2020-8169.html\">CVE-2020-8169</a>.\\n      </p>\\n\\n      <p>\\n        For all other consumers of PHP, this release is functionally identical\\n        to PHP 7.2.31 and no upgrade from that point release is necessary.\\n      </p>\\n\\n      <p>\\n        For source downloads of PHP 7.2.32 please visit our <a href=\"http://www.php.net/downloads.php\">downloads page</a>,\\n        Windows source and binaries can be found on <a href=\"http://windows.php.net/download/\">windows.php.net/download/</a>.\\n        The list of changes is recorded in the <a href=\"http://www.php.net/ChangeLog-7.php#7.2.32\">ChangeLog</a>.\\n      </p>\\n    </div>\\n  \\n  </div>\\n</article><article class=\"newsentry\">\\n  <header class=\"title\">\\n    <time datetime=\"2020-07-09T13:26:32+00:00\">09 Jul 2020</time>\\n    <h2 class=\"newstitle\">\\n      <a href=\"https://www.php.net/archive/2020.php#2020-07-09-2\" id=\"2020-07-09-2\">PHP 7.3.20 Released!</a>\\n    </h2>\\n  </header>\\n  <div class=\"newscontent\">\\n    <div><p>The PHP development team announces the immediate availability of PHP 7.3.20.  This is a security release impacting the\\n<a href=\"https://windows.php.net/\">official Windows builds</a> of PHP.</p>\\n\\n<p>For windows users running an official build, this release contains a\\npatched version of <a href=\"https://curl.haxx.se\">libcurl</a> addressing\\n<a href=\"https://curl.haxx.se/docs/CVE-2020-8169.html\">CVE-2020-8169</a>.</p>\\n\\n<p>For all other consumers of PHP, this is a bug fix release.</p>\\n\\n<p>All PHP 7.3 users are encouraged to upgrade to this version.</p>\\n\\n<p>For source downloads of PHP 7.3.20 please visit our <a href=\"https://www.php.net/downloads.php\">downloads page</a>,\\nWindows source and binaries can be found on <a href=\"https://windows.php.net/download/\">windows.php.net/download/</a>.\\nThe list of changes is recorded in the <a href=\"https://www.php.net/ChangeLog-7.php#7.3.20\">ChangeLog</a>.\\n</p>\\n    </div>\\n  \\n  </div>\\n</article><article class=\"newsentry\">\\n  <header class=\"title\">\\n    <time datetime=\"2020-07-09T09:55:15+00:00\">09 Jul 2020</time>\\n    <h2 class=\"newstitle\">\\n      <a href=\"https://www.php.net/archive/2020.php#2020-07-09-1\" id=\"2020-07-09-1\">PHP 8.0.0 Alpha 2 available for testing</a>\\n    </h2>\\n  </header>\\n  <div class=\"newscontent\">\\n    <div>\\n      <p>\\n        The PHP team is pleased to announce the second testing release of PHP 8.0.0, Alpha 2.\\n        This continues the PHP 8.0 release cycle, the rough outline of which is specified in the\\n        <a href=\"https://wiki.php.net/todo/php80\">PHP Wiki</a>.\\n        </p>\\n        \\n        <p>For source downloads of PHP 8.0.0 Alpha 2 please visit the <a href=\"https://downloads.php.net/~carusogabriel\">download page</a>.</p>\\n        \\n        <p>Please carefully test this version and report any issues found in the <a href=\"http://bugs.php.net\">bug reporting system</a>.</p>\\n        \\n        <p><b>Please DO NOT use this version in production, it is an early test version.</b></p>\\n        \\n        <p>\\n         For more information on the new features and other changes, you can read the\\n         <a href=\"https://github.com/php/php-src/blob/php-8.0.0alpha2/NEWS\">NEWS</a> file,\\n         or the <a href=\"https://github.com/php/php-src/blob/php-8.0.0alpha2/UPGRADING\">UPGRADING</a>\\n         file for a complete list of upgrading notes. These files can also be found in the release archive.\\n        </p>\\n        \\n        <p>The next release will be Alpha 3, planned for 23 Jul 2020.</p>\\n        \\n        <p>The signatures for the release can be found in <a href=\"https://gist.github.com/carusogabriel/0ae8a6238ab9336be7d8e1eb6873888f\">the manifest</a> or on <a href=\"https://qa.php.net/\">the QA site</a>.</p>\\n        \\n        <p>Thank you for helping us make PHP better.</p>\\n    </div>\\n  \\n  </div>\\n</article><article class=\"newsentry\">\\n  <header class=\"title\">\\n    <time datetime=\"2020-06-25T16:40:41+00:00\">25 Jun 2020</time>\\n    <h2 class=\"newstitle\">\\n      <a href=\"https://www.php.net/archive/2020.php#2020-06-25-1\" id=\"2020-06-25-1\">PHP 8.0.0 Alpha 1 available for testing</a>\\n    </h2>\\n  </header>\\n  <div class=\"newscontent\">\\n    <div>\\n     <p>\\n     The PHP team is pleased to announce the first testing release of PHP 8.0.0, Alpha 1.\\n     This starts the PHP 8.0 release cycle, the rough outline of which is specified in the\\n     <a href=\"https://wiki.php.net/todo/php80\">PHP Wiki</a>.\\n     </p>\\n     \\n     <p>For source downloads of PHP 8.0.0 Alpha 1 please visit the <a href=\"https://downloads.php.net/~pollita\">download page</a>.</p>\\n     \\n     <p>Please carefully test this version and report any issues found in the <a href=\"http://bugs.php.net\">bug reporting system</a>.</p>\\n     \\n     <p><b>Please DO NOT use this version in production, it is an early test version.</b></p>\\n     \\n     <p>\\n      For more information on the new features and other changes, you can read the\\n      <a href=\"https://github.com/php/php-src/blob/php-8.0.0alpha1/NEWS\">NEWS</a> file,\\n      or the <a href=\"https://github.com/php/php-src/blob/php-8.0.0alpha1/UPGRADING\">UPGRADING</a>\\n      file for a complete list of upgrading notes. These files can also be found in the release archive.\\n     </p>\\n     \\n     <p>The next release will be Alpha 2, planned for 9 Jul 2020.</p>\\n     \\n     <p>The signatures for the release can be found in <a href=\"https://gist.github.com/sgolemon/9b268eb2606cdc9664d77a77f9595540\">the manifest</a> or on <a href=\"https://qa.php.net/\">the QA site</a>.</p>\\n     \\n     <p>Thank you for helping us make PHP better.</p>\\n    </div>\\n  \\n  </div>\\n</article><article class=\"newsentry\">\\n  <header class=\"title\">\\n    <time datetime=\"2020-06-11T14:13:17+00:00\">11 Jun 2020</time>\\n    <h2 class=\"newstitle\">\\n      <a href=\"https://www.php.net/archive/2020.php#2020-06-11-2\" id=\"2020-06-11-2\">PHP 7.4.7 Released!</a>\\n    </h2>\\n  </header>\\n  <div class=\"newscontent\">\\n    <div>\\n     <p>The PHP development team announces the immediate availability of PHP\\n     7.4.7. This release is a bug fix release.</p>\\n     \\n     <p>All PHP 7.4 users are encouraged to upgrade to this version.</p>\\n     \\n     <p>For source downloads of PHP 7.4.7 please visit our <a href=\"http://www.php.net/downloads.php\">downloads page</a>,\\n     Windows source and binaries can be found on <a href=\"http://windows.php.net/download/\">windows.php.net/download/</a>.\\n     The list of changes is recorded in the <a href=\"http://www.php.net/ChangeLog-7.php#7.4.7\">ChangeLog</a>.\\n     </p>\\n    </div>\\n  \\n  </div>\\n</article><article class=\"newsentry\">\\n  <header class=\"title\">\\n    <time datetime=\"2020-06-11T10:51:02+00:00\">11 Jun 2020</time>\\n    <h2 class=\"newstitle\">\\n      <a href=\"https://www.php.net/archive/2020.php#2020-06-11-2\" id=\"2020-06-11-2\">PHP 7.3.19 Released</a>\\n    </h2>\\n  </header>\\n  <div class=\"newscontent\">\\n    <div>\\n      <p>The PHP development team announces the immediate availability of PHP\\n      7.3.19. This is a bug fix release.</p>\\n\\n      <p>All PHP 7.3 users are encouraged to upgrade to this version.</p>\\n\\n      <p>For source downloads of PHP 7.3.19 please visit our <a href=\"https://www.php.net/downloads.php\">downloads page</a>,\\n      Windows source and binaries can be found on <a href=\"https://windows.php.net/download/\">windows.php.net/download/</a>.\\n      The list of changes is recorded in the <a href=\"https://www.php.net/ChangeLog-7.php#7.3.19\">ChangeLog</a>.\\n      </p>\\n    </div>\\n  \\n  </div>\\n</article><article class=\"newsentry\">\\n  <header class=\"title\">\\n    <time datetime=\"2020-05-14T08:49:42+00:00\">14 May 2020</time>\\n    <h2 class=\"newstitle\">\\n      <a href=\"https://www.php.net/archive/2020.php#2020-05-14-3\" id=\"2020-05-14-3\">PHP 7.4.6 Released!</a>\\n    </h2>\\n  </header>\\n  <div class=\"newscontent\">\\n    <div>\\n     <p>The PHP development team announces the immediate availability of PHP\\n     7.4.6. This is a security release which also contains several bug fixes.</p>\\n     \\n     <p>All PHP 7.4 users are encouraged to upgrade to this version.</p>\\n     \\n     <p>For source downloads of PHP 7.4.6 please visit our <a href=\"http://www.php.net/downloads.php\">downloads page</a>,\\n     Windows source and binaries can be found on <a href=\"http://windows.php.net/download/\">windows.php.net/download/</a>.\\n     The list of changes is recorded in the <a href=\"http://www.php.net/ChangeLog-7.php#7.4.6\">ChangeLog</a>.\\n     </p>\\n    </div>\\n  \\n  </div>\\n</article><article class=\"newsentry\">\\n  <header class=\"title\">\\n    <time datetime=\"2020-05-14T08:26:30+00:00\">14 May 2020</time>\\n    <h2 class=\"newstitle\">\\n      <a href=\"https://www.php.net/archive/2020.php#2020-05-14-2\" id=\"2020-05-14-2\">PHP 7.3.18 Released</a>\\n    </h2>\\n  </header>\\n  <div class=\"newscontent\">\\n    <div>\\n      <p>The PHP development team announces the immediate availability of PHP\\n      7.3.18 This is a security release which also contains several bug fixes.</p>\\n    \\n      <p>All PHP 7.3 users are encouraged to upgrade to this version.</p>\\n    \\n      <p>For source downloads of PHP 7.3.18 please visit our <a href=\"https://www.php.net/downloads.php\">downloads page</a>,\\n      Windows source and binaries can be found on <a href=\"https://windows.php.net/download/\">windows.php.net/download/</a>.\\n      The list of changes is recorded in the <a href=\"https://www.php.net/ChangeLog-7.php#7.3.18\">ChangeLog</a>.\\n      </p>\\n    </div>\\n  \\n  </div>\\n</article><article class=\"newsentry\">\\n  <header class=\"title\">\\n    <time datetime=\"2020-05-14T07:35:50+00:00\">14 May 2020</time>\\n    <h2 class=\"newstitle\">\\n      <a href=\"https://www.php.net/archive/2020.php#2020-05-14-1\" id=\"2020-05-14-1\">PHP 7.2.31 Released</a>\\n    </h2>\\n  </header>\\n  <div class=\"newscontent\">\\n    <div>\\n     <p>The PHP development team announces the immediate availability of PHP\\n     7.2.31. This is a security release.</p>\\n\\n     <p>All PHP 7.2 users are encouraged to upgrade to this version.</p>\\n\\n     <p>For source downloads of PHP 7.2.31 please visit our <a href=\"http://www.php.net/downloads.php\">downloads page</a>,\\n     Windows source and binaries can be found on <a href=\"http://windows.php.net/download/\">windows.php.net/download/</a>.\\n     The list of changes is recorded in the <a href=\"http://www.php.net/ChangeLog-7.php#7.2.31\">ChangeLog</a>.\\n     </p>\\n    </div>\\n  \\n  </div>\\n</article><article class=\"newsentry\">\\n  <header class=\"title\">\\n    <time datetime=\"2020-04-17T20:23:20+00:00\">17 Apr 2020</time>\\n    <h2 class=\"newstitle\">\\n      <a href=\"https://www.php.net/archive/2020.php#2020-04-17-1\" id=\"2020-04-17-1\">PHP 7.2.30 Release Announcement</a>\\n    </h2>\\n  </header>\\n  <div class=\"newscontent\">\\n    <div>\\n     <p>The PHP development team announces the immediate availability of PHP 7.2.30.\\n     This is a security release.</p>\\n     \\n     <p>All PHP 7.2 users are encouraged to upgrade to this version.</p>\\n     \\n     <p>For source downloads of PHP 7.2.30 please visit our <a href=\"http://www.php.net/downloads.php\">downloads page</a>,\\n     Windows source and binaries can be found on <a href=\"http://windows.php.net/download/\">windows.php.net/download/</a>.\\n     The list of changes is recorded in the <a href=\"http://www.php.net/ChangeLog-7.php#7.2.30\">ChangeLog</a>.\\n     </p>\\n    </div>\\n  \\n  </div>\\n</article><article class=\"newsentry\">\\n  <header class=\"title\">\\n    <time datetime=\"2020-04-16T09:46:52+00:00\">16 Apr 2020</time>\\n    <h2 class=\"newstitle\">\\n      <a href=\"https://www.php.net/archive/2020.php#2020-04-16-2\" id=\"2020-04-16-2\">PHP 7.4.5 Released</a>\\n    </h2>\\n  </header>\\n  <div class=\"newscontent\">\\n    <div>\\n     <p>The PHP development team announces the immediate availability of PHP\\n     7.4.5. This is a security release which also contains several bug fixes.</p>\\n     \\n     <p>All PHP 7.4 users are encouraged to upgrade to this version.</p>\\n     \\n     <p>For source downloads of PHP 7.4.5 please visit our <a href=\"http://www.php.net/downloads.php\">downloads page</a>,\\n     Windows source and binaries can be found on <a href=\"http://windows.php.net/download/\">windows.php.net/download/</a>.\\n     The list of changes is recorded in the <a href=\"http://www.php.net/ChangeLog-7.php#7.4.5\">ChangeLog</a>.\\n     </p>\\n    </div>\\n  \\n  </div>\\n</article><article class=\"newsentry\">\\n  <header class=\"title\">\\n    <time datetime=\"2020-04-16T08:14:04+00:00\">16 Apr 2020</time>\\n    <h2 class=\"newstitle\">\\n      <a href=\"https://www.php.net/archive/2020.php#2020-04-16-1\" id=\"2020-04-16-1\">PHP 7.3.17 Released</a>\\n    </h2>\\n  </header>\\n  <div class=\"newscontent\">\\n    <div>\\n      <p>The PHP development team announces the immediate availability of PHP\\n      7.3.17 This is a security release which also contains several bug fixes.</p>\\n    \\n      <p>All PHP 7.3 users are encouraged to upgrade to this version.</p>\\n    \\n      <p>For source downloads of PHP 7.3.17 please visit our <a href=\"https://www.php.net/downloads.php\">downloads page</a>,\\n      Windows source and binaries can be found on <a href=\"https://windows.php.net/download/\">windows.php.net/download/</a>.\\n      The list of changes is recorded in the <a href=\"https://www.php.net/ChangeLog-7.php#7.3.17\">ChangeLog</a>.\\n      </p>\\n    </div>\\n  \\n  </div>\\n</article><article class=\"newsentry\">\\n  <header class=\"title\">\\n    <time datetime=\"2020-03-19T14:46:06+00:00\">19 Mar 2020</time>\\n    <h2 class=\"newstitle\">\\n      <a href=\"https://www.php.net/archive/2020.php#2020-03-19-3\" id=\"2020-03-19-3\">PHP 7.4.4 Released!</a>\\n    </h2>\\n  </header>\\n  <div class=\"newscontent\">\\n    <div>\\n     <p>The PHP development team announces the immediate availability of PHP 7.4.4.\\n     This is a bug fix release.</p>\\n     \\n     <p>All PHP 7.4 users are encouraged to upgrade to this version.</p>\\n     \\n     <p>For source downloads of PHP 7.4.4 please visit our\\n     <a href=\"http://www.php.net/downloads\">downloads</a> page Windows binaries can\\n     be found on the <a href=\"http://windows.php.net/download\">PHP for Windows</a>\\n     site. The list of changes is recorded in the\\n     <a href=\"http://www.php.net/ChangeLog-7.php#7.4.4\">ChangeLog</a>.</p>\\n    </div>\\n  \\n  </div>\\n</article><article class=\"newsentry\">\\n  <header class=\"title\">\\n    <time datetime=\"2020-03-19T09:56:36+00:00\">19 Mar 2020</time>\\n    <h2 class=\"newstitle\">\\n      <a href=\"https://www.php.net/archive/2020.php#2020-03-19-2\" id=\"2020-03-19-2\">PHP 7.2.29 Released</a>\\n    </h2>\\n  </header>\\n  <div class=\"newscontent\">\\n    <div>\\n     <p>The PHP development team announces the immediate availability of PHP\\n     7.2.29. This is a security release.</p>\\n\\n     <p>All PHP 7.2 users are encouraged to upgrade to this version.</p>\\n\\n     <p>For source downloads of PHP 7.2.29 please visit our <a href=\"http://www.php.net/downloads.php\">downloads page</a>,\\n     Windows source and binaries can be found on <a href=\"http://windows.php.net/download/\">windows.php.net/download/</a>.\\n     The list of changes is recorded in the <a href=\"http://www.php.net/ChangeLog-7.php#7.2.29\">ChangeLog</a>.\\n     </p>\\n    </div>\\n  \\n  </div>\\n</article><article class=\"newsentry\">\\n  <header class=\"title\">\\n    <time datetime=\"2020-03-19T09:16:55+00:00\">19 Mar 2020</time>\\n    <h2 class=\"newstitle\">\\n      <a href=\"https://www.php.net/archive/2020.php#2020-03-19-1\" id=\"2020-03-19-1\">PHP 7.3.16 Released</a>\\n    </h2>\\n  </header>\\n  <div class=\"newscontent\">\\n    <div>\\n      <p>The PHP development team announces the immediate availability of PHP\\n      7.3.16. This is a security release which also contains several bug fixes.</p>\\n    \\n      <p>All PHP 7.3 users are encouraged to upgrade to this version.</p>\\n    \\n      <p>For source downloads of PHP 7.3.16 please visit our <a href=\"https://www.php.net/downloads.php\">downloads page</a>,\\n      Windows source and binaries can be found on <a href=\"https://windows.php.net/download/\">windows.php.net/download/</a>.\\n      The list of changes is recorded in the <a href=\"https://www.php.net/ChangeLog-7.php#7.3.16\">ChangeLog</a>.\\n      </p>\\n    </div>\\n  \\n  </div>\\n</article><article class=\"newsentry\">\\n  <header class=\"title\">\\n    <time datetime=\"2020-02-20T20:53:17+09:00\">20 Feb 2020</time>\\n    <h2 class=\"newstitle\">\\n      <a href=\"https://www.php.net/archive/2020.php#2020-02-20-3\" id=\"2020-02-20-3\">PHP 7.4.3 released</a>\\n    </h2>\\n  </header>\\n  <div class=\"newscontent\">\\n    <div>\\n       <p>The PHP development team announces the immediate availability of PHP\\n       7.4.3. This is a security release which also contains several bug fixes.</p>\\n     \\n       <p>All PHP 7.4 users are encouraged to upgrade to this version.</p>\\n     \\n       <p>For source downloads of PHP 7.4.3 please visit our <a href=\"http://www.php.net/downloads.php\">downloads page</a>,\\n       Windows source and binaries can be found on <a href=\"http://windows.php.net/download/\">windows.php.net/download/</a>.\\n       The list of changes is recorded in the <a href=\"http://www.php.net/ChangeLog-7.php#7.4.3\">ChangeLog</a>.\\n       </p>\\n    </div>\\n  \\n  </div>\\n</article><article class=\"newsentry\">\\n  <header class=\"title\">\\n    <time datetime=\"2020-02-20T09:32:08+00:00\">20 Feb 2020</time>\\n    <h2 class=\"newstitle\">\\n      <a href=\"https://www.php.net/archive/2020.php#2020-02-20-2\" id=\"2020-02-20-2\">PHP 7.3.15 Released</a>\\n    </h2>\\n  </header>\\n  <div class=\"newscontent\">\\n    <div>\\n      <p>The PHP development team announces the immediate availability of PHP\\n      7.3.15. This is a security release which also contains several bug fixes.</p>\\n\\n      <p>All PHP 7.3 users are encouraged to upgrade to this version.</p>\\n\\n      <p>For source downloads of PHP 7.3.15 please visit our <a href=\"https://www.php.net/downloads.php\">downloads page</a>,\\n      Windows source and binaries can be found on <a href=\"https://windows.php.net/download/\">windows.php.net/download/</a>.\\n      The list of changes is recorded in the <a href=\"https://www.php.net/ChangeLog-7.php#7.3.15\">ChangeLog</a>.\\n      </p>\\n    </div>\\n  \\n  </div>\\n</article><article class=\"newsentry\">\\n  <header class=\"title\">\\n    <time datetime=\"2020-02-20T09:01:15+00:00\">20 Feb 2020</time>\\n    <h2 class=\"newstitle\">\\n      <a href=\"https://www.php.net/archive/2020.php#2020-02-20-1\" id=\"2020-02-20-1\">PHP 7.2.28 Released</a>\\n    </h2>\\n  </header>\\n  <div class=\"newscontent\">\\n    <div>\\n     <p>The PHP development team announces the immediate availability of PHP\\n     7.2.28. This is a security release.</p>\\n\\n     <p>All PHP 7.2 users are encouraged to upgrade to this version.</p>\\n\\n     <p>For source downloads of PHP 7.2.28 please visit our <a href=\"http://www.php.net/downloads.php\">downloads page</a>,\\n     Windows source and binaries can be found on <a href=\"http://windows.php.net/download/\">windows.php.net/download/</a>.\\n     The list of changes is recorded in the <a href=\"http://www.php.net/ChangeLog-7.php#7.2.28\">ChangeLog</a>.\\n     </p>\\n    </div>\\n  \\n  </div>\\n</article><p class=\"archive\"><a href=\"/archive/\">Older News Entries</a></p></div>    </section><!-- layout-content -->\\n    \\n<aside class=\"tips\">\\n    <div class=\"inner\">\\n<div class=\"panel\">  <a href=\"/conferences\" class=\"headline\" title=\"Upcoming conferences\">Upcoming conferences</a><div class=\"body\"><ul><li><a href=\\'https://www.php.net/conferences/index.php#id2020-07-14-2\\' title=\\'International PHP Conference Munich 2020\\'>International PHP Conference Munich 2020</a></li><li><a href=\\'https://www.php.net/conferences/index.php#id2020-07-14-1\\' title=\\'International PHP Conference Berlin 2020\\'>International PHP Conference Berlin 2020</a></li><li><a href=\\'https://www.php.net/conferences/index.php#id2020-06-24-1\\' title=\\'PHP.RUHR 2020 - Web Development & Digital Commerce\\'>PHP.RUHR 2020 - Web Development & Digital Commerce</a></li></ul></div></div>\\n    <p class=\\'panel\\'><a href=\\'/cal.php\\'>User Group Events</a></p>\\n    <p class=\\'panel\\'><a href=\\'/thanks.php\\'>Special Thanks</a></p>\\n    <p class=\\'panel social-media\\'>\\n      <span class=\\'headline\\'>Social media</span>\\n      <div class=\\'body\\'>\\n        <ul>\\n          <li>\\n            <a href=\"https://twitter.com/official_php\">\\n              <i class=\"icon-twitter\"></i>\\n              @official_php\\n            </a>\\n          </li>\\n        </ul>\\n      </div>\\n    </p>\\n</div>\\n</aside>\\n\\n  </div><!-- layout -->\\n\\n  <footer>\\n    <div class=\"container footer-content\">\\n      <div class=\"row-fluid\">\\n      <ul class=\"footmenu\">\\n        <li><a href=\"/copyright.php\">Copyright &copy; 2001-2020 The PHP Group</a></li>\\n        <li><a href=\"/my.php\">My PHP.net</a></li>\\n        <li><a href=\"/contact.php\">Contact</a></li>\\n        <li><a href=\"/sites.php\">Other PHP.net sites</a></li>\\n        <li><a href=\"/privacy.php\">Privacy policy</a></li>\\n      </ul>\\n      </div>\\n    </div>\\n  </footer>\\n\\n    <div class=\\'elephpants\\'><div class=images></div></div>\\n <!-- External and third party libraries. -->\\n <script src=\"//ajax.googleapis.com/ajax/libs/jquery/1.10.2/jquery.min.js\"></script>\\n<script src=\"/cached.php?t=1421837618&amp;f=/js/ext/modernizr.js\"></script>\\n<script src=\"/cached.php?t=1421837618&amp;f=/js/ext/hogan-2.0.0.min.js\"></script>\\n<script src=\"/cached.php?t=1421837618&amp;f=/js/ext/typeahead.min.js\"></script>\\n<script src=\"/cached.php?t=1421837618&amp;f=/js/ext/mousetrap.min.js\"></script>\\n<script src=\"/cached.php?t=1421837618&amp;f=/js/search.js\"></script>\\n<script src=\"/cached.php?t=1598370002&amp;f=/js/common.js\"></script>\\n\\n<a id=\"toTop\" href=\"javascript:;\"><span id=\"toTopHover\"></span><img width=\"40\" height=\"40\" alt=\"To Top\" src=\"/images/to-top@2x.png\"></a>\\n\\n</body>\\n</html>\\n'\n"
          ],
          "name": "stdout"
        }
      ]
    },
    {
      "cell_type": "code",
      "metadata": {
        "id": "rKCe5VUQbl7M",
        "colab_type": "code",
        "colab": {
          "base_uri": "https://localhost:8080/",
          "height": 54
        },
        "outputId": "08a49aaf-4b09-4b62-e9a6-84575dfa85f1"
      },
      "source": [
        "print(soup.title)\n",
        "print(soup.title.string)"
      ],
      "execution_count": null,
      "outputs": [
        {
          "output_type": "stream",
          "text": [
            "<title>PHP: Hypertext Preprocessor</title>\n",
            "PHP: Hypertext Preprocessor\n"
          ],
          "name": "stdout"
        }
      ]
    },
    {
      "cell_type": "markdown",
      "metadata": {
        "id": "QIlVNiVwb7C-",
        "colab_type": "text"
      },
      "source": [
        "\n",
        "## Extracting text\n",
        "\n",
        "finding tokens\n"
      ]
    },
    {
      "cell_type": "code",
      "metadata": {
        "id": "h4WKSptjb3sv",
        "colab_type": "code",
        "colab": {}
      },
      "source": [
        "#text= soup.find('body').get_text(strip=True)     for body text\n",
        "text = soup.get_text()\n",
        "#tokens = [t for t in text.split()]   # words list \n",
        "\n",
        "# or by re\n",
        "\n",
        "tokens = re.findall('\\w+', text)"
      ],
      "execution_count": null,
      "outputs": []
    },
    {
      "cell_type": "code",
      "metadata": {
        "id": "gC6d0GP_hqyC",
        "colab_type": "code",
        "colab": {
          "base_uri": "https://localhost:8080/",
          "height": 296
        },
        "outputId": "c1ae861c-6893-4889-9d38-bdd9f8070d14"
      },
      "source": [
        "tokens[:15]   # printing words list"
      ],
      "execution_count": null,
      "outputs": [
        {
          "output_type": "execute_result",
          "data": {
            "text/plain": [
              "['PHP',\n",
              " 'Hypertext',\n",
              " 'Preprocessor',\n",
              " 'Downloads',\n",
              " 'Documentation',\n",
              " 'Get',\n",
              " 'Involved',\n",
              " 'Help',\n",
              " 'Getting',\n",
              " 'Started',\n",
              " 'Introduction',\n",
              " 'A',\n",
              " 'simple',\n",
              " 'tutorial',\n",
              " 'Language']"
            ]
          },
          "metadata": {
            "tags": []
          },
          "execution_count": 18
        }
      ]
    },
    {
      "cell_type": "markdown",
      "metadata": {
        "id": "IE-sBfEmqbkm",
        "colab_type": "text"
      },
      "source": [
        "\n",
        "converting tokens to lower case\n"
      ]
    },
    {
      "cell_type": "code",
      "metadata": {
        "id": "5QqEHQY4qTXG",
        "colab_type": "code",
        "colab": {
          "base_uri": "https://localhost:8080/",
          "height": 36
        },
        "outputId": "0572880f-0602-4ec3-f168-7bc8af4f184e"
      },
      "source": [
        "words = []\n",
        "for word in tokens:\n",
        "  words.append(word.lower())\n",
        "words[:5]"
      ],
      "execution_count": null,
      "outputs": [
        {
          "output_type": "execute_result",
          "data": {
            "text/plain": [
              "['php', 'hypertext', 'preprocessor', 'downloads', 'documentation']"
            ]
          },
          "metadata": {
            "tags": []
          },
          "execution_count": 19
        }
      ]
    },
    {
      "cell_type": "markdown",
      "metadata": {
        "id": "To0zGPR7qjsy",
        "colab_type": "text"
      },
      "source": [
        "Removing Stopwords"
      ]
    },
    {
      "cell_type": "code",
      "metadata": {
        "id": "kE2ix6nNqgCn",
        "colab_type": "code",
        "colab": {
          "base_uri": "https://localhost:8080/",
          "height": 73
        },
        "outputId": "f60c088c-d2b0-4d21-bca0-d6a833ba9788"
      },
      "source": [
        "import nltk\n",
        "nltk.download('stopwords')"
      ],
      "execution_count": null,
      "outputs": [
        {
          "output_type": "stream",
          "text": [
            "[nltk_data] Downloading package stopwords to /root/nltk_data...\n",
            "[nltk_data]   Unzipping corpora/stopwords.zip.\n"
          ],
          "name": "stdout"
        },
        {
          "output_type": "execute_result",
          "data": {
            "text/plain": [
              "True"
            ]
          },
          "metadata": {
            "tags": []
          },
          "execution_count": 20
        }
      ]
    },
    {
      "cell_type": "code",
      "metadata": {
        "id": "0y64NRhnqmlR",
        "colab_type": "code",
        "colab": {
          "base_uri": "https://localhost:8080/",
          "height": 36
        },
        "outputId": "a6cbf078-3805-42c4-990c-6c8946b6c29e"
      },
      "source": [
        "stopWords = nltk.corpus.stopwords.words('english')\n",
        "stopWords[:5]"
      ],
      "execution_count": null,
      "outputs": [
        {
          "output_type": "execute_result",
          "data": {
            "text/plain": [
              "['i', 'me', 'my', 'myself', 'we']"
            ]
          },
          "metadata": {
            "tags": []
          },
          "execution_count": 21
        }
      ]
    },
    {
      "cell_type": "code",
      "metadata": {
        "id": "HZw_u5KEqqNE",
        "colab_type": "code",
        "colab": {
          "base_uri": "https://localhost:8080/",
          "height": 520
        },
        "outputId": "5c229abe-9720-483c-9286-3890f9df5619"
      },
      "source": [
        "print(\"Total including stopwords:\", len(words))\n",
        "clean_words = []\n",
        "for w in words:\n",
        "  if w not in stopWords:\n",
        "    clean_words.append(w)\n",
        "    \n",
        "print(\"Length after stopwords:\", len(clean_words) )\n",
        "print(\"Total removed stopwords:\", len(words)-len(clean_words) )\n",
        "clean_words[:24]"
      ],
      "execution_count": null,
      "outputs": [
        {
          "output_type": "stream",
          "text": [
            "Total including stopwords: 2768\n",
            "Length after stopwords: 1900\n",
            "Total removed stopwords: 868\n"
          ],
          "name": "stdout"
        },
        {
          "output_type": "execute_result",
          "data": {
            "text/plain": [
              "['php',\n",
              " 'hypertext',\n",
              " 'preprocessor',\n",
              " 'downloads',\n",
              " 'documentation',\n",
              " 'get',\n",
              " 'involved',\n",
              " 'help',\n",
              " 'getting',\n",
              " 'started',\n",
              " 'introduction',\n",
              " 'simple',\n",
              " 'tutorial',\n",
              " 'language',\n",
              " 'reference',\n",
              " 'basic',\n",
              " 'syntax',\n",
              " 'types',\n",
              " 'variables',\n",
              " 'constants',\n",
              " 'expressions',\n",
              " 'operators',\n",
              " 'control',\n",
              " 'structures']"
            ]
          },
          "metadata": {
            "tags": []
          },
          "execution_count": 22
        }
      ]
    },
    {
      "cell_type": "markdown",
      "metadata": {
        "id": "hhY6ICfGq7u0",
        "colab_type": "text"
      },
      "source": [
        "\n",
        "words Frequency distribution\n",
        "\n",
        "    Total count\n",
        "    unique(vocab)\n",
        "    lexical diversity\n",
        "    most common\n",
        "    max count word\n",
        "    A list of all hapax legomena (words that only appear one time in the corpus).\n",
        "    counts.freq(): The percentage of the corpus for the given token.\n",
        "    counts.plot(): Plot the frequencies of the n most commonly occuring words.\n",
        "\n"
      ]
    },
    {
      "cell_type": "code",
      "metadata": {
        "id": "zZXqhFmaqs_9",
        "colab_type": "code",
        "colab": {
          "base_uri": "https://localhost:8080/",
          "height": 36
        },
        "outputId": "59539aa6-8e8f-41c0-a5ad-2d7a98db1b95"
      },
      "source": [
        "counts  = nltk.FreqDist(clean_words)\n",
        "vocab   = len(counts.keys())\n",
        "words   = sum(counts.values())\n",
        "lexdiv  = float(words) / float(vocab)\n",
        "print(\"Text has %i types and %i tokens for a lexical diversity of %0.3f\" % (vocab, words, lexdiv))"
      ],
      "execution_count": null,
      "outputs": [
        {
          "output_type": "stream",
          "text": [
            "Text has 315 types and 1900 tokens for a lexical diversity of 6.032\n"
          ],
          "name": "stdout"
        }
      ]
    },
    {
      "cell_type": "code",
      "metadata": {
        "id": "rfIKf63zrH1D",
        "colab_type": "code",
        "colab": {
          "base_uri": "https://localhost:8080/",
          "height": 56
        },
        "outputId": "66e2a5e8-e97e-4335-c8ce-82bf24231596"
      },
      "source": [
        "print(counts.most_common(10))"
      ],
      "execution_count": null,
      "outputs": [
        {
          "output_type": "stream",
          "text": [
            "[('php', 172), ('7', 86), ('release', 57), ('windows', 47), ('downloads', 46), ('source', 44), ('3', 38), ('version', 37), ('2020', 35), ('please', 35)]\n"
          ],
          "name": "stdout"
        }
      ]
    },
    {
      "cell_type": "code",
      "metadata": {
        "id": "u5TjPyTUrPeQ",
        "colab_type": "code",
        "colab": {
          "base_uri": "https://localhost:8080/",
          "height": 36
        },
        "outputId": "217df1fe-5f77-4f3e-ba62-4a9fb2465eb9"
      },
      "source": [
        "print(counts.max())"
      ],
      "execution_count": null,
      "outputs": [
        {
          "output_type": "stream",
          "text": [
            "php\n"
          ],
          "name": "stdout"
        }
      ]
    },
    {
      "cell_type": "code",
      "metadata": {
        "id": "7P9iAgVVrR8U",
        "colab_type": "code",
        "colab": {
          "base_uri": "https://localhost:8080/",
          "height": 56
        },
        "outputId": "4959021a-d607-4d65-f981-45a344f730f1"
      },
      "source": [
        "print(counts.hapaxes()[0:10])"
      ],
      "execution_count": null,
      "outputs": [
        {
          "output_type": "stream",
          "text": [
            "['hypertext', 'preprocessor', 'documentation', 'get', 'involved', 'getting', 'started', 'simple', 'tutorial', 'syntax']\n"
          ],
          "name": "stdout"
        }
      ]
    },
    {
      "cell_type": "code",
      "metadata": {
        "id": "MOFj98FtrUnj",
        "colab_type": "code",
        "colab": {
          "base_uri": "https://localhost:8080/",
          "height": 36
        },
        "outputId": "295d0c72-0431-494c-f67d-772f5f0a3b9a"
      },
      "source": [
        "counts.freq('php'), counts.freq('hypertext'),"
      ],
      "execution_count": null,
      "outputs": [
        {
          "output_type": "execute_result",
          "data": {
            "text/plain": [
              "(0.09052631578947369, 0.0005263157894736842)"
            ]
          },
          "metadata": {
            "tags": []
          },
          "execution_count": 27
        }
      ]
    },
    {
      "cell_type": "code",
      "metadata": {
        "id": "2tH1C5s7rXhM",
        "colab_type": "code",
        "colab": {
          "base_uri": "https://localhost:8080/",
          "height": 323
        },
        "outputId": "9a2f6c83-3c9d-49ad-87b1-58dfdc1dab50"
      },
      "source": [
        "counts.plot(10, cumulative=False)"
      ],
      "execution_count": null,
      "outputs": [
        {
          "output_type": "display_data",
          "data": {
            "image/png": "[encoded data removed]",
            "text/plain": [
              "<Figure size 432x288 with 1 Axes>"
            ]
          },
          "metadata": {
            "tags": [],
            "needs_background": "light"
          }
        }
      ]
    },
    {
      "cell_type": "code",
      "metadata": {
        "id": "8yA8iRAsrb1z",
        "colab_type": "code",
        "colab": {
          "base_uri": "https://localhost:8080/",
          "height": 323
        },
        "outputId": "ddde2d50-69f7-45d8-d5c5-3ac00d63382d"
      },
      "source": [
        "counts.plot(20,cumulative=False)"
      ],
      "execution_count": null,
      "outputs": [
        {
          "output_type": "display_data",
          "data": {
            "image/png": "[encoded data removed]",
            "text/plain": [
              "<Figure size 432x288 with 1 Axes>"
            ]
          },
          "metadata": {
            "tags": [],
            "needs_background": "light"
          }
        }
      ]
    }
  ]
}