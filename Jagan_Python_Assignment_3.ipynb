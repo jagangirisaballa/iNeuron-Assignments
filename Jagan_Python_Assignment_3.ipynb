{
  "nbformat": 4,
  "nbformat_minor": 0,
  "metadata": {
    "colab": {
      "name": "Jagan Python Assignment 3.ipynb",
      "provenance": [],
      "authorship_tag": "ABX9TyOq3EL2gCz3bJ9IOBeAV3RH",
      "include_colab_link": true
    },
    "kernelspec": {
      "name": "python3",
      "display_name": "Python 3"
    }
  },
  "cells": [
    {
      "cell_type": "markdown",
      "metadata": {
        "id": "view-in-github",
        "colab_type": "text"
      },
      "source": [
        "<a href=\"https://colab.research.google.com/github/jagangirisaballa/iNeuron-Assignments/blob/master/Jagan_Python_Assignment_3.ipynb\" target=\"_parent\"><img src=\"https://colab.research.google.com/assets/colab-badge.svg\" alt=\"Open In Colab\"/></a>"
      ]
    },
    {
      "cell_type": "markdown",
      "metadata": {
        "id": "1VFmiEU83B6b",
        "colab_type": "text"
      },
      "source": [
        "1.1 Write a Python Program to implement your own myreduce() function which works exactly\n",
        "like Python's built-in function reduce()"
      ]
    },
    {
      "cell_type": "code",
      "metadata": {
        "id": "TQAMYhZd3Ffb",
        "colab_type": "code",
        "colab": {
          "base_uri": "https://localhost:8080/",
          "height": 35
        },
        "outputId": "368eb8e3-b2b6-4b91-b66d-8b64d0c5476c"
      },
      "source": [
        "lst = [47, 11, 42, 13]\n",
        "sum = 0\n",
        "for i in lst:\n",
        "  sum = sum + i\n",
        "sum"
      ],
      "execution_count": 1,
      "outputs": [
        {
          "output_type": "execute_result",
          "data": {
            "text/plain": [
              "113"
            ]
          },
          "metadata": {
            "tags": []
          },
          "execution_count": 1
        }
      ]
    },
    {
      "cell_type": "markdown",
      "metadata": {
        "id": "aHwtE__m3QeD",
        "colab_type": "text"
      },
      "source": [
        "1.2 Write a Python program to implement your own myfilter() function which works exactly\n",
        "like Python's built-in function filter()"
      ]
    },
    {
      "cell_type": "code",
      "metadata": {
        "id": "kU1zdNGu3XL_",
        "colab_type": "code",
        "colab": {
          "base_uri": "https://localhost:8080/",
          "height": 87
        },
        "outputId": "4d6b35a2-6131-416b-cca2-672dbcd53042"
      },
      "source": [
        "lst = [47, 11, 42, 13]\n",
        "\n",
        "for i in lst:\n",
        "  if i%2==0:\n",
        "    print(\"{} is an even number\".format(i))\n",
        "  else:\n",
        "    print(\"{} is an odd number\".format(i))"
      ],
      "execution_count": 2,
      "outputs": [
        {
          "output_type": "stream",
          "text": [
            "47 is an odd number\n",
            "11 is an odd number\n",
            "42 is an even number\n",
            "13 is an odd number\n"
          ],
          "name": "stdout"
        }
      ]
    },
    {
      "cell_type": "markdown",
      "metadata": {
        "id": "s-pMw_Zb3eGH",
        "colab_type": "text"
      },
      "source": [
        "2. Implement List comprehensions to produce the following lists.\n",
        "Write List comprehensions to produce the following Lists"
      ]
    },
    {
      "cell_type": "markdown",
      "metadata": {
        "id": "vAB4vAx23ich",
        "colab_type": "text"
      },
      "source": [
        "['x', 'xx', 'xxx', 'xxxx', 'y', 'yy', 'yyy', 'yyyy', 'z', 'zz', 'zzz', 'zzzz']"
      ]
    },
    {
      "cell_type": "code",
      "metadata": {
        "id": "oALa38ir3uVb",
        "colab_type": "code",
        "colab": {
          "base_uri": "https://localhost:8080/",
          "height": 35
        },
        "outputId": "8c1797bf-1a29-4df7-edcc-932149a3bb29"
      },
      "source": [
        "input_list = ['x','y','z']\n",
        "result = [ item*num for item in input_list for num in range(1,5)  ]\n",
        "print(\"['x','y','z'] => \" +   str(result))"
      ],
      "execution_count": 3,
      "outputs": [
        {
          "output_type": "stream",
          "text": [
            "['x','y','z'] => ['x', 'xx', 'xxx', 'xxxx', 'y', 'yy', 'yyy', 'yyyy', 'z', 'zz', 'zzz', 'zzzz']\n"
          ],
          "name": "stdout"
        }
      ]
    },
    {
      "cell_type": "markdown",
      "metadata": {
        "id": "iDY0KoEc3xNh",
        "colab_type": "text"
      },
      "source": [
        "['x', 'y', 'z', 'xx', 'yy', 'zz', 'xxx', 'yyy', 'zzz', 'xxxx', 'yyyy', 'zzzz']"
      ]
    },
    {
      "cell_type": "code",
      "metadata": {
        "id": "4EGy7q2Y3M_j",
        "colab_type": "code",
        "colab": {
          "base_uri": "https://localhost:8080/",
          "height": 35
        },
        "outputId": "e0320cab-cdc0-40d4-e88d-575e37fb3542"
      },
      "source": [
        "input_list = ['x','y','z']\n",
        "result = [ item*num for num in range(1,5) for item in input_list ]\n",
        "print(\"['x','y','z'] => \" +   str(result))"
      ],
      "execution_count": 4,
      "outputs": [
        {
          "output_type": "stream",
          "text": [
            "['x','y','z'] => ['x', 'y', 'z', 'xx', 'yy', 'zz', 'xxx', 'yyy', 'zzz', 'xxxx', 'yyyy', 'zzzz']\n"
          ],
          "name": "stdout"
        }
      ]
    },
    {
      "cell_type": "markdown",
      "metadata": {
        "id": "pSk-u70M4AUR",
        "colab_type": "text"
      },
      "source": [
        "[[2], [3], [4], [3], [4], [5], [4], [5], [6]] "
      ]
    },
    {
      "cell_type": "code",
      "metadata": {
        "id": "APPkL0bj38Gw",
        "colab_type": "code",
        "colab": {
          "base_uri": "https://localhost:8080/",
          "height": 35
        },
        "outputId": "143635df-aad1-47dd-aed3-21b7cbc5f499"
      },
      "source": [
        "input_list = [2, 3, 4]\n",
        "result = [ [item+num] for item in input_list for num in range(0,3)  ]\n",
        "print(\"[2, 3, 4] => \" +   str(result))"
      ],
      "execution_count": 5,
      "outputs": [
        {
          "output_type": "stream",
          "text": [
            "[2, 3, 4] => [[2], [3], [4], [3], [4], [5], [4], [5], [6]]\n"
          ],
          "name": "stdout"
        }
      ]
    },
    {
      "cell_type": "markdown",
      "metadata": {
        "id": "_PbhpyzY4Pg2",
        "colab_type": "text"
      },
      "source": [
        "[[2, 3, 4, 5], [3, 4, 5, 6],\n",
        "[4, 5, 6, 7], [5, 6, 7, 8]]"
      ]
    },
    {
      "cell_type": "code",
      "metadata": {
        "id": "nG9-sy3A4NFg",
        "colab_type": "code",
        "colab": {
          "base_uri": "https://localhost:8080/",
          "height": 35
        },
        "outputId": "fb46976d-ec1f-4cc3-c1d1-d5efffa96ff4"
      },
      "source": [
        "input_list = [2, 3, 4, 5]\n",
        "result = [ [item+num for item in input_list] for num in range(0,4)  ]\n",
        "print(\"[2, 3, 4, 5] => \" +   str(result))"
      ],
      "execution_count": 6,
      "outputs": [
        {
          "output_type": "stream",
          "text": [
            "[2, 3, 4, 5] => [[2, 3, 4, 5], [3, 4, 5, 6], [4, 5, 6, 7], [5, 6, 7, 8]]\n"
          ],
          "name": "stdout"
        }
      ]
    },
    {
      "cell_type": "markdown",
      "metadata": {
        "id": "ncMwab_t4qmv",
        "colab_type": "text"
      },
      "source": [
        "[(1, 1), (2, 1), (3, 1), (1, 2), (2, 2), (3, 2), (1, 3), (2, 3), (3, 3)]"
      ]
    },
    {
      "cell_type": "code",
      "metadata": {
        "id": "4dq7Ar6v4h4H",
        "colab_type": "code",
        "colab": {
          "base_uri": "https://localhost:8080/",
          "height": 35
        },
        "outputId": "c8a32f67-0fb5-465d-a4a6-e753d5ac06ef"
      },
      "source": [
        "input_list = [1, 2, 3]\n",
        "result = [ (b,a) for a in input_list for b in input_list ]\n",
        "print(\"[2, 3, 4] => \" +   str(result))"
      ],
      "execution_count": 7,
      "outputs": [
        {
          "output_type": "stream",
          "text": [
            "[2, 3, 4] => [(1, 1), (2, 1), (3, 1), (1, 2), (2, 2), (3, 2), (1, 3), (2, 3), (3, 3)]\n"
          ],
          "name": "stdout"
        }
      ]
    },
    {
      "cell_type": "code",
      "metadata": {
        "id": "702mCats4vPV",
        "colab_type": "code",
        "colab": {}
      },
      "source": [
        ""
      ],
      "execution_count": 0,
      "outputs": []
    }
  ]
}