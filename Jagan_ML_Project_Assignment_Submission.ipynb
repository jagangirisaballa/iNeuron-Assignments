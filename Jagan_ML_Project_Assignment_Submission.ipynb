{
  "nbformat": 4,
  "nbformat_minor": 0,
  "metadata": {
    "accelerator": "GPU",
    "colab": {
      "name": "Jagan ML Project Assignment Submission.ipynb",
      "provenance": [],
      "include_colab_link": true
    },
    "kernelspec": {
      "display_name": "Python 3",
      "language": "python",
      "name": "python3"
    },
    "language_info": {
      "codemirror_mode": {
        "name": "ipython",
        "version": 3
      },
      "file_extension": ".py",
      "mimetype": "text/x-python",
      "name": "python",
      "nbconvert_exporter": "python",
      "pygments_lexer": "ipython3",
      "version": "3.7.6"
    },
    "varInspector": {
      "cols": {
        "lenName": 16,
        "lenType": 16,
        "lenVar": 40
      },
      "kernels_config": {
        "python": {
          "delete_cmd_postfix": "",
          "delete_cmd_prefix": "del ",
          "library": "var_list.py",
          "varRefreshCmd": "print(var_dic_list())"
        },
        "r": {
          "delete_cmd_postfix": ") ",
          "delete_cmd_prefix": "rm(",
          "library": "var_list.r",
          "varRefreshCmd": "cat(var_dic_list()) "
        }
      },
      "types_to_exclude": [
        "module",
        "function",
        "builtin_function_or_method",
        "instance",
        "_Feature"
      ],
      "window_display": false
    }
  },
  "cells": [
    {
      "cell_type": "markdown",
      "metadata": {
        "id": "view-in-github",
        "colab_type": "text"
      },
      "source": [
        "<a href=\"https://colab.research.google.com/github/jagangirisaballa/iNeuron-Assignments/blob/master/Jagan_ML_Project_Assignment_Submission.ipynb\" target=\"_parent\"><img src=\"https://colab.research.google.com/assets/colab-badge.svg\" alt=\"Open In Colab\"/></a>"
      ]
    },
    {
      "cell_type": "code",
      "metadata": {
        "ExecuteTime": {
          "end_time": "2020-08-26T07:57:27.760124Z",
          "start_time": "2020-08-26T07:57:27.332095Z"
        },
        "colab_type": "code",
        "id": "JhLJojW0DMRV",
        "colab": {}
      },
      "source": [
        "import sqlite3\n",
        "import numpy as np\n",
        "import pandas as pd\n",
        "%matplotlib notebook\n",
        "import matplotlib.pyplot as plt\n",
        "import xgboost as xgb\n",
        "from xgboost.sklearn import XGBRegressor\n",
        "from xgboost import plot_importance\n",
        "\n",
        "from sklearn.linear_model import LinearRegression\n",
        "from sklearn.tree import DecisionTreeRegressor\n",
        "from sklearn.ensemble import RandomForestRegressor\n",
        "from sklearn.impute import SimpleImputer\n",
        "from sklearn.preprocessing import StandardScaler\n",
        "from sklearn.feature_selection import SelectFromModel\n",
        "from sklearn.model_selection import train_test_split, GridSearchCV, ShuffleSplit, RandomizedSearchCV\n",
        "from sklearn.pipeline import make_pipeline\n",
        "\n",
        "import pickle"
      ],
      "execution_count": 2,
      "outputs": []
    },
    {
      "cell_type": "code",
      "metadata": {
        "id": "SYKy9OiyHHiV",
        "colab_type": "code",
        "colab": {
          "base_uri": "https://localhost:8080/",
          "height": 130
        },
        "outputId": "ebf26f61-9a37-47d9-901f-9432a6e767ae"
      },
      "source": [
        "from google.colab import drive\n",
        "drive.mount('/content/drive')"
      ],
      "execution_count": 1,
      "outputs": [
        {
          "output_type": "stream",
          "text": [
            "Go to this URL in a browser: https://accounts.google.com/o/oauth2/auth?client_id=947318989803-6bn6qk8qdgf4n4g3pfee6491hc0brc4i.apps.googleusercontent.com&redirect_uri=urn%3aietf%3awg%3aoauth%3a2.0%3aoob&scope=email%20https%3a%2f%2fwww.googleapis.com%2fauth%2fdocs.test%20https%3a%2f%2fwww.googleapis.com%2fauth%2fdrive%20https%3a%2f%2fwww.googleapis.com%2fauth%2fdrive.photos.readonly%20https%3a%2f%2fwww.googleapis.com%2fauth%2fpeopleapi.readonly&response_type=code\n",
            "\n",
            "Enter your authorization code:\n",
            "··········\n",
            "Mounted at /content/drive\n"
          ],
          "name": "stdout"
        }
      ]
    },
    {
      "cell_type": "code",
      "metadata": {
        "ExecuteTime": {
          "end_time": "2020-08-26T07:57:34.060044Z",
          "start_time": "2020-08-26T07:57:34.017456Z"
        },
        "colab_type": "code",
        "id": "WNI7ibaxDMRb",
        "colab": {}
      },
      "source": [
        "cnx = sqlite3.connect('/content/drive/My Drive/Colab Files/datasets/database (1).sqlite')"
      ],
      "execution_count": 5,
      "outputs": []
    },
    {
      "cell_type": "code",
      "metadata": {
        "ExecuteTime": {
          "end_time": "2020-08-26T07:57:38.646466Z",
          "start_time": "2020-08-26T07:57:37.013492Z"
        },
        "id": "3xlcClPlGrL4",
        "colab_type": "code",
        "colab": {}
      },
      "source": [
        "dd = pd.read_sql_query(\"SELECT name FROM sqlite_master WHERE type='table'\", cnx)"
      ],
      "execution_count": 6,
      "outputs": []
    },
    {
      "cell_type": "code",
      "metadata": {
        "ExecuteTime": {
          "end_time": "2020-08-26T07:57:40.544636Z",
          "start_time": "2020-08-26T07:57:40.490258Z"
        },
        "id": "wnGaH5glGrMF",
        "colab_type": "code",
        "colab": {
          "base_uri": "https://localhost:8080/",
          "height": 185
        },
        "outputId": "7a1bc9c0-d8cc-462e-9a14-03b6204dee4e"
      },
      "source": [
        "print(dd)"
      ],
      "execution_count": 7,
      "outputs": [
        {
          "output_type": "stream",
          "text": [
            "                name\n",
            "0    sqlite_sequence\n",
            "1  Player_Attributes\n",
            "2             Player\n",
            "3              Match\n",
            "4             League\n",
            "5            Country\n",
            "6               Team\n",
            "7    Team_Attributes\n"
          ],
          "name": "stdout"
        }
      ]
    },
    {
      "cell_type": "code",
      "metadata": {
        "ExecuteTime": {
          "end_time": "2020-08-26T07:57:55.249148Z",
          "start_time": "2020-08-26T07:57:47.447428Z"
        },
        "colab_type": "code",
        "id": "8HohvjfcDMRf",
        "colab": {}
      },
      "source": [
        "df = pd.read_sql_query(\"SELECT * FROM Player_Attributes\", cnx)"
      ],
      "execution_count": 8,
      "outputs": []
    },
    {
      "cell_type": "code",
      "metadata": {
        "ExecuteTime": {
          "end_time": "2020-08-26T07:57:59.875784Z",
          "start_time": "2020-08-26T07:57:59.751298Z"
        },
        "colab_type": "code",
        "id": "AykT_5AZDMRh",
        "colab": {
          "base_uri": "https://localhost:8080/",
          "height": 313
        },
        "outputId": "d341f5a1-82e8-4c28-fba9-ec03d96ad51e"
      },
      "source": [
        "df.head()"
      ],
      "execution_count": 9,
      "outputs": [
        {
          "output_type": "execute_result",
          "data": {
            "text/html": [
              "<div>\n",
              "<style scoped>\n",
              "    .dataframe tbody tr th:only-of-type {\n",
              "        vertical-align: middle;\n",
              "    }\n",
              "\n",
              "    .dataframe tbody tr th {\n",
              "        vertical-align: top;\n",
              "    }\n",
              "\n",
              "    .dataframe thead th {\n",
              "        text-align: right;\n",
              "    }\n",
              "</style>\n",
              "<table border=\"1\" class=\"dataframe\">\n",
              "  <thead>\n",
              "    <tr style=\"text-align: right;\">\n",
              "      <th></th>\n",
              "      <th>id</th>\n",
              "      <th>player_fifa_api_id</th>\n",
              "      <th>player_api_id</th>\n",
              "      <th>date</th>\n",
              "      <th>overall_rating</th>\n",
              "      <th>potential</th>\n",
              "      <th>preferred_foot</th>\n",
              "      <th>attacking_work_rate</th>\n",
              "      <th>defensive_work_rate</th>\n",
              "      <th>crossing</th>\n",
              "      <th>finishing</th>\n",
              "      <th>heading_accuracy</th>\n",
              "      <th>short_passing</th>\n",
              "      <th>volleys</th>\n",
              "      <th>dribbling</th>\n",
              "      <th>curve</th>\n",
              "      <th>free_kick_accuracy</th>\n",
              "      <th>long_passing</th>\n",
              "      <th>ball_control</th>\n",
              "      <th>acceleration</th>\n",
              "      <th>sprint_speed</th>\n",
              "      <th>agility</th>\n",
              "      <th>reactions</th>\n",
              "      <th>balance</th>\n",
              "      <th>shot_power</th>\n",
              "      <th>jumping</th>\n",
              "      <th>stamina</th>\n",
              "      <th>strength</th>\n",
              "      <th>long_shots</th>\n",
              "      <th>aggression</th>\n",
              "      <th>interceptions</th>\n",
              "      <th>positioning</th>\n",
              "      <th>vision</th>\n",
              "      <th>penalties</th>\n",
              "      <th>marking</th>\n",
              "      <th>standing_tackle</th>\n",
              "      <th>sliding_tackle</th>\n",
              "      <th>gk_diving</th>\n",
              "      <th>gk_handling</th>\n",
              "      <th>gk_kicking</th>\n",
              "      <th>gk_positioning</th>\n",
              "      <th>gk_reflexes</th>\n",
              "    </tr>\n",
              "  </thead>\n",
              "  <tbody>\n",
              "    <tr>\n",
              "      <th>0</th>\n",
              "      <td>1</td>\n",
              "      <td>218353</td>\n",
              "      <td>505942</td>\n",
              "      <td>2016-02-18 00:00:00</td>\n",
              "      <td>67.0</td>\n",
              "      <td>71.0</td>\n",
              "      <td>right</td>\n",
              "      <td>medium</td>\n",
              "      <td>medium</td>\n",
              "      <td>49.0</td>\n",
              "      <td>44.0</td>\n",
              "      <td>71.0</td>\n",
              "      <td>61.0</td>\n",
              "      <td>44.0</td>\n",
              "      <td>51.0</td>\n",
              "      <td>45.0</td>\n",
              "      <td>39.0</td>\n",
              "      <td>64.0</td>\n",
              "      <td>49.0</td>\n",
              "      <td>60.0</td>\n",
              "      <td>64.0</td>\n",
              "      <td>59.0</td>\n",
              "      <td>47.0</td>\n",
              "      <td>65.0</td>\n",
              "      <td>55.0</td>\n",
              "      <td>58.0</td>\n",
              "      <td>54.0</td>\n",
              "      <td>76.0</td>\n",
              "      <td>35.0</td>\n",
              "      <td>71.0</td>\n",
              "      <td>70.0</td>\n",
              "      <td>45.0</td>\n",
              "      <td>54.0</td>\n",
              "      <td>48.0</td>\n",
              "      <td>65.0</td>\n",
              "      <td>69.0</td>\n",
              "      <td>69.0</td>\n",
              "      <td>6.0</td>\n",
              "      <td>11.0</td>\n",
              "      <td>10.0</td>\n",
              "      <td>8.0</td>\n",
              "      <td>8.0</td>\n",
              "    </tr>\n",
              "    <tr>\n",
              "      <th>1</th>\n",
              "      <td>2</td>\n",
              "      <td>218353</td>\n",
              "      <td>505942</td>\n",
              "      <td>2015-11-19 00:00:00</td>\n",
              "      <td>67.0</td>\n",
              "      <td>71.0</td>\n",
              "      <td>right</td>\n",
              "      <td>medium</td>\n",
              "      <td>medium</td>\n",
              "      <td>49.0</td>\n",
              "      <td>44.0</td>\n",
              "      <td>71.0</td>\n",
              "      <td>61.0</td>\n",
              "      <td>44.0</td>\n",
              "      <td>51.0</td>\n",
              "      <td>45.0</td>\n",
              "      <td>39.0</td>\n",
              "      <td>64.0</td>\n",
              "      <td>49.0</td>\n",
              "      <td>60.0</td>\n",
              "      <td>64.0</td>\n",
              "      <td>59.0</td>\n",
              "      <td>47.0</td>\n",
              "      <td>65.0</td>\n",
              "      <td>55.0</td>\n",
              "      <td>58.0</td>\n",
              "      <td>54.0</td>\n",
              "      <td>76.0</td>\n",
              "      <td>35.0</td>\n",
              "      <td>71.0</td>\n",
              "      <td>70.0</td>\n",
              "      <td>45.0</td>\n",
              "      <td>54.0</td>\n",
              "      <td>48.0</td>\n",
              "      <td>65.0</td>\n",
              "      <td>69.0</td>\n",
              "      <td>69.0</td>\n",
              "      <td>6.0</td>\n",
              "      <td>11.0</td>\n",
              "      <td>10.0</td>\n",
              "      <td>8.0</td>\n",
              "      <td>8.0</td>\n",
              "    </tr>\n",
              "    <tr>\n",
              "      <th>2</th>\n",
              "      <td>3</td>\n",
              "      <td>218353</td>\n",
              "      <td>505942</td>\n",
              "      <td>2015-09-21 00:00:00</td>\n",
              "      <td>62.0</td>\n",
              "      <td>66.0</td>\n",
              "      <td>right</td>\n",
              "      <td>medium</td>\n",
              "      <td>medium</td>\n",
              "      <td>49.0</td>\n",
              "      <td>44.0</td>\n",
              "      <td>71.0</td>\n",
              "      <td>61.0</td>\n",
              "      <td>44.0</td>\n",
              "      <td>51.0</td>\n",
              "      <td>45.0</td>\n",
              "      <td>39.0</td>\n",
              "      <td>64.0</td>\n",
              "      <td>49.0</td>\n",
              "      <td>60.0</td>\n",
              "      <td>64.0</td>\n",
              "      <td>59.0</td>\n",
              "      <td>47.0</td>\n",
              "      <td>65.0</td>\n",
              "      <td>55.0</td>\n",
              "      <td>58.0</td>\n",
              "      <td>54.0</td>\n",
              "      <td>76.0</td>\n",
              "      <td>35.0</td>\n",
              "      <td>63.0</td>\n",
              "      <td>41.0</td>\n",
              "      <td>45.0</td>\n",
              "      <td>54.0</td>\n",
              "      <td>48.0</td>\n",
              "      <td>65.0</td>\n",
              "      <td>66.0</td>\n",
              "      <td>69.0</td>\n",
              "      <td>6.0</td>\n",
              "      <td>11.0</td>\n",
              "      <td>10.0</td>\n",
              "      <td>8.0</td>\n",
              "      <td>8.0</td>\n",
              "    </tr>\n",
              "    <tr>\n",
              "      <th>3</th>\n",
              "      <td>4</td>\n",
              "      <td>218353</td>\n",
              "      <td>505942</td>\n",
              "      <td>2015-03-20 00:00:00</td>\n",
              "      <td>61.0</td>\n",
              "      <td>65.0</td>\n",
              "      <td>right</td>\n",
              "      <td>medium</td>\n",
              "      <td>medium</td>\n",
              "      <td>48.0</td>\n",
              "      <td>43.0</td>\n",
              "      <td>70.0</td>\n",
              "      <td>60.0</td>\n",
              "      <td>43.0</td>\n",
              "      <td>50.0</td>\n",
              "      <td>44.0</td>\n",
              "      <td>38.0</td>\n",
              "      <td>63.0</td>\n",
              "      <td>48.0</td>\n",
              "      <td>60.0</td>\n",
              "      <td>64.0</td>\n",
              "      <td>59.0</td>\n",
              "      <td>46.0</td>\n",
              "      <td>65.0</td>\n",
              "      <td>54.0</td>\n",
              "      <td>58.0</td>\n",
              "      <td>54.0</td>\n",
              "      <td>76.0</td>\n",
              "      <td>34.0</td>\n",
              "      <td>62.0</td>\n",
              "      <td>40.0</td>\n",
              "      <td>44.0</td>\n",
              "      <td>53.0</td>\n",
              "      <td>47.0</td>\n",
              "      <td>62.0</td>\n",
              "      <td>63.0</td>\n",
              "      <td>66.0</td>\n",
              "      <td>5.0</td>\n",
              "      <td>10.0</td>\n",
              "      <td>9.0</td>\n",
              "      <td>7.0</td>\n",
              "      <td>7.0</td>\n",
              "    </tr>\n",
              "    <tr>\n",
              "      <th>4</th>\n",
              "      <td>5</td>\n",
              "      <td>218353</td>\n",
              "      <td>505942</td>\n",
              "      <td>2007-02-22 00:00:00</td>\n",
              "      <td>61.0</td>\n",
              "      <td>65.0</td>\n",
              "      <td>right</td>\n",
              "      <td>medium</td>\n",
              "      <td>medium</td>\n",
              "      <td>48.0</td>\n",
              "      <td>43.0</td>\n",
              "      <td>70.0</td>\n",
              "      <td>60.0</td>\n",
              "      <td>43.0</td>\n",
              "      <td>50.0</td>\n",
              "      <td>44.0</td>\n",
              "      <td>38.0</td>\n",
              "      <td>63.0</td>\n",
              "      <td>48.0</td>\n",
              "      <td>60.0</td>\n",
              "      <td>64.0</td>\n",
              "      <td>59.0</td>\n",
              "      <td>46.0</td>\n",
              "      <td>65.0</td>\n",
              "      <td>54.0</td>\n",
              "      <td>58.0</td>\n",
              "      <td>54.0</td>\n",
              "      <td>76.0</td>\n",
              "      <td>34.0</td>\n",
              "      <td>62.0</td>\n",
              "      <td>40.0</td>\n",
              "      <td>44.0</td>\n",
              "      <td>53.0</td>\n",
              "      <td>47.0</td>\n",
              "      <td>62.0</td>\n",
              "      <td>63.0</td>\n",
              "      <td>66.0</td>\n",
              "      <td>5.0</td>\n",
              "      <td>10.0</td>\n",
              "      <td>9.0</td>\n",
              "      <td>7.0</td>\n",
              "      <td>7.0</td>\n",
              "    </tr>\n",
              "  </tbody>\n",
              "</table>\n",
              "</div>"
            ],
            "text/plain": [
              "   id  player_fifa_api_id  ...  gk_positioning gk_reflexes\n",
              "0   1              218353  ...             8.0         8.0\n",
              "1   2              218353  ...             8.0         8.0\n",
              "2   3              218353  ...             8.0         8.0\n",
              "3   4              218353  ...             7.0         7.0\n",
              "4   5              218353  ...             7.0         7.0\n",
              "\n",
              "[5 rows x 42 columns]"
            ]
          },
          "metadata": {
            "tags": []
          },
          "execution_count": 9
        }
      ]
    },
    {
      "cell_type": "code",
      "metadata": {
        "ExecuteTime": {
          "end_time": "2020-08-26T07:58:07.296479Z",
          "start_time": "2020-08-26T07:58:07.172214Z"
        },
        "colab_type": "code",
        "id": "xKfKgkI2DMRo",
        "colab": {}
      },
      "source": [
        "target = df.pop('overall_rating')"
      ],
      "execution_count": 10,
      "outputs": []
    },
    {
      "cell_type": "code",
      "metadata": {
        "ExecuteTime": {
          "end_time": "2020-08-26T07:58:09.951293Z",
          "start_time": "2020-08-26T07:58:09.903642Z"
        },
        "colab_type": "code",
        "id": "jIAuRYeSDMRr",
        "colab": {
          "base_uri": "https://localhost:8080/",
          "height": 36
        },
        "outputId": "c7553b69-1a1b-40f9-cdc7-622416994c18"
      },
      "source": [
        "df.shape"
      ],
      "execution_count": 11,
      "outputs": [
        {
          "output_type": "execute_result",
          "data": {
            "text/plain": [
              "(183978, 41)"
            ]
          },
          "metadata": {
            "tags": []
          },
          "execution_count": 11
        }
      ]
    },
    {
      "cell_type": "code",
      "metadata": {
        "ExecuteTime": {
          "end_time": "2020-08-26T07:58:12.156976Z",
          "start_time": "2020-08-26T07:58:12.117080Z"
        },
        "colab_type": "code",
        "id": "1zU01-qiDMRw",
        "colab": {
          "base_uri": "https://localhost:8080/",
          "height": 129
        },
        "outputId": "bad79b72-0594-49f1-c080-f484c39a4f79"
      },
      "source": [
        "target.head()"
      ],
      "execution_count": 12,
      "outputs": [
        {
          "output_type": "execute_result",
          "data": {
            "text/plain": [
              "0    67.0\n",
              "1    67.0\n",
              "2    62.0\n",
              "3    61.0\n",
              "4    61.0\n",
              "Name: overall_rating, dtype: float64"
            ]
          },
          "metadata": {
            "tags": []
          },
          "execution_count": 12
        }
      ]
    },
    {
      "cell_type": "markdown",
      "metadata": {
        "colab_type": "text",
        "id": "23I6XR4jDMR0"
      },
      "source": [
        "## Imputing target funtion :"
      ]
    },
    {
      "cell_type": "code",
      "metadata": {
        "ExecuteTime": {
          "end_time": "2020-08-26T07:58:17.227768Z",
          "start_time": "2020-08-26T07:58:17.198219Z"
        },
        "colab_type": "code",
        "id": "KCU9Kt2-DMR1",
        "colab": {
          "base_uri": "https://localhost:8080/",
          "height": 36
        },
        "outputId": "b05b4523-1143-4685-fff0-27f253bf2b3b"
      },
      "source": [
        "target.isnull().values.sum()"
      ],
      "execution_count": 13,
      "outputs": [
        {
          "output_type": "execute_result",
          "data": {
            "text/plain": [
              "836"
            ]
          },
          "metadata": {
            "tags": []
          },
          "execution_count": 13
        }
      ]
    },
    {
      "cell_type": "markdown",
      "metadata": {
        "colab_type": "text",
        "id": "KxqzwtBMDMR5"
      },
      "source": [
        "there are 836 missing value present in target function."
      ]
    },
    {
      "cell_type": "code",
      "metadata": {
        "ExecuteTime": {
          "end_time": "2020-08-26T07:58:20.847750Z",
          "start_time": "2020-08-26T07:58:20.785570Z"
        },
        "colab_type": "code",
        "id": "FeUp8fssDMR7",
        "colab": {
          "base_uri": "https://localhost:8080/",
          "height": 185
        },
        "outputId": "5b018e7a-99f0-4400-cab8-97abb5044c8d"
      },
      "source": [
        "target.describe()"
      ],
      "execution_count": 14,
      "outputs": [
        {
          "output_type": "execute_result",
          "data": {
            "text/plain": [
              "count    183142.000000\n",
              "mean         68.600015\n",
              "std           7.041139\n",
              "min          33.000000\n",
              "25%          64.000000\n",
              "50%          69.000000\n",
              "75%          73.000000\n",
              "max          94.000000\n",
              "Name: overall_rating, dtype: float64"
            ]
          },
          "metadata": {
            "tags": []
          },
          "execution_count": 14
        }
      ]
    },
    {
      "cell_type": "code",
      "metadata": {
        "ExecuteTime": {
          "end_time": "2020-08-26T07:58:58.819638Z",
          "start_time": "2020-08-26T07:58:58.641762Z"
        },
        "colab_type": "code",
        "id": "jvr8PUMkDMR_",
        "colab": {
          "base_uri": "https://localhost:8080/",
          "height": 352
        },
        "outputId": "3c7fab05-5f88-48c6-edde-daccdfb6b3fa"
      },
      "source": [
        "plt.hist(target, 30, range=(33, 94))"
      ],
      "execution_count": 15,
      "outputs": [
        {
          "output_type": "display_data",
          "data": {
            "application/javascript": [
              "/* Put everything inside the global mpl namespace */\n",
              "window.mpl = {};\n",
              "\n",
              "\n",
              "mpl.get_websocket_type = function() {\n",
              "    if (typeof(WebSocket) !== 'undefined') {\n",
              "        return WebSocket;\n",
              "    } else if (typeof(MozWebSocket) !== 'undefined') {\n",
              "        return MozWebSocket;\n",
              "    } else {\n",
              "        alert('Your browser does not have WebSocket support. ' +\n",
              "              'Please try Chrome, Safari or Firefox ≥ 6. ' +\n",
              "              'Firefox 4 and 5 are also supported but you ' +\n",
              "              'have to enable WebSockets in about:config.');\n",
              "    };\n",
              "}\n",
              "\n",
              "mpl.figure = function(figure_id, websocket, ondownload, parent_element) {\n",
              "    this.id = figure_id;\n",
              "\n",
              "    this.ws = websocket;\n",
              "\n",
              "    this.supports_binary = (this.ws.binaryType != undefined);\n",
              "\n",
              "    if (!this.supports_binary) {\n",
              "        var warnings = document.getElementById(\"mpl-warnings\");\n",
              "        if (warnings) {\n",
              "            warnings.style.display = 'block';\n",
              "            warnings.textContent = (\n",
              "                \"This browser does not support binary websocket messages. \" +\n",
              "                    \"Performance may be slow.\");\n",
              "        }\n",
              "    }\n",
              "\n",
              "    this.imageObj = new Image();\n",
              "\n",
              "    this.context = undefined;\n",
              "    this.message = undefined;\n",
              "    this.canvas = undefined;\n",
              "    this.rubberband_canvas = undefined;\n",
              "    this.rubberband_context = undefined;\n",
              "    this.format_dropdown = undefined;\n",
              "\n",
              "    this.image_mode = 'full';\n",
              "\n",
              "    this.root = $('<div/>');\n",
              "    this._root_extra_style(this.root)\n",
              "    this.root.attr('style', 'display: inline-block');\n",
              "\n",
              "    $(parent_element).append(this.root);\n",
              "\n",
              "    this._init_header(this);\n",
              "    this._init_canvas(this);\n",
              "    this._init_toolbar(this);\n",
              "\n",
              "    var fig = this;\n",
              "\n",
              "    this.waiting = false;\n",
              "\n",
              "    this.ws.onopen =  function () {\n",
              "            fig.send_message(\"supports_binary\", {value: fig.supports_binary});\n",
              "            fig.send_message(\"send_image_mode\", {});\n",
              "            if (mpl.ratio != 1) {\n",
              "                fig.send_message(\"set_dpi_ratio\", {'dpi_ratio': mpl.ratio});\n",
              "            }\n",
              "            fig.send_message(\"refresh\", {});\n",
              "        }\n",
              "\n",
              "    this.imageObj.onload = function() {\n",
              "            if (fig.image_mode == 'full') {\n",
              "                // Full images could contain transparency (where diff images\n",
              "                // almost always do), so we need to clear the canvas so that\n",
              "                // there is no ghosting.\n",
              "                fig.context.clearRect(0, 0, fig.canvas.width, fig.canvas.height);\n",
              "            }\n",
              "            fig.context.drawImage(fig.imageObj, 0, 0);\n",
              "        };\n",
              "\n",
              "    this.imageObj.onunload = function() {\n",
              "        fig.ws.close();\n",
              "    }\n",
              "\n",
              "    this.ws.onmessage = this._make_on_message_function(this);\n",
              "\n",
              "    this.ondownload = ondownload;\n",
              "}\n",
              "\n",
              "mpl.figure.prototype._init_header = function() {\n",
              "    var titlebar = $(\n",
              "        '<div class=\"ui-dialog-titlebar ui-widget-header ui-corner-all ' +\n",
              "        'ui-helper-clearfix\"/>');\n",
              "    var titletext = $(\n",
              "        '<div class=\"ui-dialog-title\" style=\"width: 100%; ' +\n",
              "        'text-align: center; padding: 3px;\"/>');\n",
              "    titlebar.append(titletext)\n",
              "    this.root.append(titlebar);\n",
              "    this.header = titletext[0];\n",
              "}\n",
              "\n",
              "\n",
              "\n",
              "mpl.figure.prototype._canvas_extra_style = function(canvas_div) {\n",
              "\n",
              "}\n",
              "\n",
              "\n",
              "mpl.figure.prototype._root_extra_style = function(canvas_div) {\n",
              "\n",
              "}\n",
              "\n",
              "mpl.figure.prototype._init_canvas = function() {\n",
              "    var fig = this;\n",
              "\n",
              "    var canvas_div = $('<div/>');\n",
              "\n",
              "    canvas_div.attr('style', 'position: relative; clear: both; outline: 0');\n",
              "\n",
              "    function canvas_keyboard_event(event) {\n",
              "        return fig.key_event(event, event['data']);\n",
              "    }\n",
              "\n",
              "    canvas_div.keydown('key_press', canvas_keyboard_event);\n",
              "    canvas_div.keyup('key_release', canvas_keyboard_event);\n",
              "    this.canvas_div = canvas_div\n",
              "    this._canvas_extra_style(canvas_div)\n",
              "    this.root.append(canvas_div);\n",
              "\n",
              "    var canvas = $('<canvas/>');\n",
              "    canvas.addClass('mpl-canvas');\n",
              "    canvas.attr('style', \"left: 0; top: 0; z-index: 0; outline: 0\")\n",
              "\n",
              "    this.canvas = canvas[0];\n",
              "    this.context = canvas[0].getContext(\"2d\");\n",
              "\n",
              "    var backingStore = this.context.backingStorePixelRatio ||\n",
              "\tthis.context.webkitBackingStorePixelRatio ||\n",
              "\tthis.context.mozBackingStorePixelRatio ||\n",
              "\tthis.context.msBackingStorePixelRatio ||\n",
              "\tthis.context.oBackingStorePixelRatio ||\n",
              "\tthis.context.backingStorePixelRatio || 1;\n",
              "\n",
              "    mpl.ratio = (window.devicePixelRatio || 1) / backingStore;\n",
              "\n",
              "    var rubberband = $('<canvas/>');\n",
              "    rubberband.attr('style', \"position: absolute; left: 0; top: 0; z-index: 1;\")\n",
              "\n",
              "    var pass_mouse_events = true;\n",
              "\n",
              "    canvas_div.resizable({\n",
              "        start: function(event, ui) {\n",
              "            pass_mouse_events = false;\n",
              "        },\n",
              "        resize: function(event, ui) {\n",
              "            fig.request_resize(ui.size.width, ui.size.height);\n",
              "        },\n",
              "        stop: function(event, ui) {\n",
              "            pass_mouse_events = true;\n",
              "            fig.request_resize(ui.size.width, ui.size.height);\n",
              "        },\n",
              "    });\n",
              "\n",
              "    function mouse_event_fn(event) {\n",
              "        if (pass_mouse_events)\n",
              "            return fig.mouse_event(event, event['data']);\n",
              "    }\n",
              "\n",
              "    rubberband.mousedown('button_press', mouse_event_fn);\n",
              "    rubberband.mouseup('button_release', mouse_event_fn);\n",
              "    // Throttle sequential mouse events to 1 every 20ms.\n",
              "    rubberband.mousemove('motion_notify', mouse_event_fn);\n",
              "\n",
              "    rubberband.mouseenter('figure_enter', mouse_event_fn);\n",
              "    rubberband.mouseleave('figure_leave', mouse_event_fn);\n",
              "\n",
              "    canvas_div.on(\"wheel\", function (event) {\n",
              "        event = event.originalEvent;\n",
              "        event['data'] = 'scroll'\n",
              "        if (event.deltaY < 0) {\n",
              "            event.step = 1;\n",
              "        } else {\n",
              "            event.step = -1;\n",
              "        }\n",
              "        mouse_event_fn(event);\n",
              "    });\n",
              "\n",
              "    canvas_div.append(canvas);\n",
              "    canvas_div.append(rubberband);\n",
              "\n",
              "    this.rubberband = rubberband;\n",
              "    this.rubberband_canvas = rubberband[0];\n",
              "    this.rubberband_context = rubberband[0].getContext(\"2d\");\n",
              "    this.rubberband_context.strokeStyle = \"#000000\";\n",
              "\n",
              "    this._resize_canvas = function(width, height) {\n",
              "        // Keep the size of the canvas, canvas container, and rubber band\n",
              "        // canvas in synch.\n",
              "        canvas_div.css('width', width)\n",
              "        canvas_div.css('height', height)\n",
              "\n",
              "        canvas.attr('width', width * mpl.ratio);\n",
              "        canvas.attr('height', height * mpl.ratio);\n",
              "        canvas.attr('style', 'width: ' + width + 'px; height: ' + height + 'px;');\n",
              "\n",
              "        rubberband.attr('width', width);\n",
              "        rubberband.attr('height', height);\n",
              "    }\n",
              "\n",
              "    // Set the figure to an initial 600x600px, this will subsequently be updated\n",
              "    // upon first draw.\n",
              "    this._resize_canvas(600, 600);\n",
              "\n",
              "    // Disable right mouse context menu.\n",
              "    $(this.rubberband_canvas).bind(\"contextmenu\",function(e){\n",
              "        return false;\n",
              "    });\n",
              "\n",
              "    function set_focus () {\n",
              "        canvas.focus();\n",
              "        canvas_div.focus();\n",
              "    }\n",
              "\n",
              "    window.setTimeout(set_focus, 100);\n",
              "}\n",
              "\n",
              "mpl.figure.prototype._init_toolbar = function() {\n",
              "    var fig = this;\n",
              "\n",
              "    var nav_element = $('<div/>');\n",
              "    nav_element.attr('style', 'width: 100%');\n",
              "    this.root.append(nav_element);\n",
              "\n",
              "    // Define a callback function for later on.\n",
              "    function toolbar_event(event) {\n",
              "        return fig.toolbar_button_onclick(event['data']);\n",
              "    }\n",
              "    function toolbar_mouse_event(event) {\n",
              "        return fig.toolbar_button_onmouseover(event['data']);\n",
              "    }\n",
              "\n",
              "    for(var toolbar_ind in mpl.toolbar_items) {\n",
              "        var name = mpl.toolbar_items[toolbar_ind][0];\n",
              "        var tooltip = mpl.toolbar_items[toolbar_ind][1];\n",
              "        var image = mpl.toolbar_items[toolbar_ind][2];\n",
              "        var method_name = mpl.toolbar_items[toolbar_ind][3];\n",
              "\n",
              "        if (!name) {\n",
              "            // put a spacer in here.\n",
              "            continue;\n",
              "        }\n",
              "        var button = $('<button/>');\n",
              "        button.addClass('ui-button ui-widget ui-state-default ui-corner-all ' +\n",
              "                        'ui-button-icon-only');\n",
              "        button.attr('role', 'button');\n",
              "        button.attr('aria-disabled', 'false');\n",
              "        button.click(method_name, toolbar_event);\n",
              "        button.mouseover(tooltip, toolbar_mouse_event);\n",
              "\n",
              "        var icon_img = $('<span/>');\n",
              "        icon_img.addClass('ui-button-icon-primary ui-icon');\n",
              "        icon_img.addClass(image);\n",
              "        icon_img.addClass('ui-corner-all');\n",
              "\n",
              "        var tooltip_span = $('<span/>');\n",
              "        tooltip_span.addClass('ui-button-text');\n",
              "        tooltip_span.html(tooltip);\n",
              "\n",
              "        button.append(icon_img);\n",
              "        button.append(tooltip_span);\n",
              "\n",
              "        nav_element.append(button);\n",
              "    }\n",
              "\n",
              "    var fmt_picker_span = $('<span/>');\n",
              "\n",
              "    var fmt_picker = $('<select/>');\n",
              "    fmt_picker.addClass('mpl-toolbar-option ui-widget ui-widget-content');\n",
              "    fmt_picker_span.append(fmt_picker);\n",
              "    nav_element.append(fmt_picker_span);\n",
              "    this.format_dropdown = fmt_picker[0];\n",
              "\n",
              "    for (var ind in mpl.extensions) {\n",
              "        var fmt = mpl.extensions[ind];\n",
              "        var option = $(\n",
              "            '<option/>', {selected: fmt === mpl.default_extension}).html(fmt);\n",
              "        fmt_picker.append(option);\n",
              "    }\n",
              "\n",
              "    // Add hover states to the ui-buttons\n",
              "    $( \".ui-button\" ).hover(\n",
              "        function() { $(this).addClass(\"ui-state-hover\");},\n",
              "        function() { $(this).removeClass(\"ui-state-hover\");}\n",
              "    );\n",
              "\n",
              "    var status_bar = $('<span class=\"mpl-message\"/>');\n",
              "    nav_element.append(status_bar);\n",
              "    this.message = status_bar[0];\n",
              "}\n",
              "\n",
              "mpl.figure.prototype.request_resize = function(x_pixels, y_pixels) {\n",
              "    // Request matplotlib to resize the figure. Matplotlib will then trigger a resize in the client,\n",
              "    // which will in turn request a refresh of the image.\n",
              "    this.send_message('resize', {'width': x_pixels, 'height': y_pixels});\n",
              "}\n",
              "\n",
              "mpl.figure.prototype.send_message = function(type, properties) {\n",
              "    properties['type'] = type;\n",
              "    properties['figure_id'] = this.id;\n",
              "    this.ws.send(JSON.stringify(properties));\n",
              "}\n",
              "\n",
              "mpl.figure.prototype.send_draw_message = function() {\n",
              "    if (!this.waiting) {\n",
              "        this.waiting = true;\n",
              "        this.ws.send(JSON.stringify({type: \"draw\", figure_id: this.id}));\n",
              "    }\n",
              "}\n",
              "\n",
              "\n",
              "mpl.figure.prototype.handle_save = function(fig, msg) {\n",
              "    var format_dropdown = fig.format_dropdown;\n",
              "    var format = format_dropdown.options[format_dropdown.selectedIndex].value;\n",
              "    fig.ondownload(fig, format);\n",
              "}\n",
              "\n",
              "\n",
              "mpl.figure.prototype.handle_resize = function(fig, msg) {\n",
              "    var size = msg['size'];\n",
              "    if (size[0] != fig.canvas.width || size[1] != fig.canvas.height) {\n",
              "        fig._resize_canvas(size[0], size[1]);\n",
              "        fig.send_message(\"refresh\", {});\n",
              "    };\n",
              "}\n",
              "\n",
              "mpl.figure.prototype.handle_rubberband = function(fig, msg) {\n",
              "    var x0 = msg['x0'] / mpl.ratio;\n",
              "    var y0 = (fig.canvas.height - msg['y0']) / mpl.ratio;\n",
              "    var x1 = msg['x1'] / mpl.ratio;\n",
              "    var y1 = (fig.canvas.height - msg['y1']) / mpl.ratio;\n",
              "    x0 = Math.floor(x0) + 0.5;\n",
              "    y0 = Math.floor(y0) + 0.5;\n",
              "    x1 = Math.floor(x1) + 0.5;\n",
              "    y1 = Math.floor(y1) + 0.5;\n",
              "    var min_x = Math.min(x0, x1);\n",
              "    var min_y = Math.min(y0, y1);\n",
              "    var width = Math.abs(x1 - x0);\n",
              "    var height = Math.abs(y1 - y0);\n",
              "\n",
              "    fig.rubberband_context.clearRect(\n",
              "        0, 0, fig.canvas.width / mpl.ratio, fig.canvas.height / mpl.ratio);\n",
              "\n",
              "    fig.rubberband_context.strokeRect(min_x, min_y, width, height);\n",
              "}\n",
              "\n",
              "mpl.figure.prototype.handle_figure_label = function(fig, msg) {\n",
              "    // Updates the figure title.\n",
              "    fig.header.textContent = msg['label'];\n",
              "}\n",
              "\n",
              "mpl.figure.prototype.handle_cursor = function(fig, msg) {\n",
              "    var cursor = msg['cursor'];\n",
              "    switch(cursor)\n",
              "    {\n",
              "    case 0:\n",
              "        cursor = 'pointer';\n",
              "        break;\n",
              "    case 1:\n",
              "        cursor = 'default';\n",
              "        break;\n",
              "    case 2:\n",
              "        cursor = 'crosshair';\n",
              "        break;\n",
              "    case 3:\n",
              "        cursor = 'move';\n",
              "        break;\n",
              "    }\n",
              "    fig.rubberband_canvas.style.cursor = cursor;\n",
              "}\n",
              "\n",
              "mpl.figure.prototype.handle_message = function(fig, msg) {\n",
              "    fig.message.textContent = msg['message'];\n",
              "}\n",
              "\n",
              "mpl.figure.prototype.handle_draw = function(fig, msg) {\n",
              "    // Request the server to send over a new figure.\n",
              "    fig.send_draw_message();\n",
              "}\n",
              "\n",
              "mpl.figure.prototype.handle_image_mode = function(fig, msg) {\n",
              "    fig.image_mode = msg['mode'];\n",
              "}\n",
              "\n",
              "mpl.figure.prototype.updated_canvas_event = function() {\n",
              "    // Called whenever the canvas gets updated.\n",
              "    this.send_message(\"ack\", {});\n",
              "}\n",
              "\n",
              "// A function to construct a web socket function for onmessage handling.\n",
              "// Called in the figure constructor.\n",
              "mpl.figure.prototype._make_on_message_function = function(fig) {\n",
              "    return function socket_on_message(evt) {\n",
              "        if (evt.data instanceof Blob) {\n",
              "            /* FIXME: We get \"Resource interpreted as Image but\n",
              "             * transferred with MIME type text/plain:\" errors on\n",
              "             * Chrome.  But how to set the MIME type?  It doesn't seem\n",
              "             * to be part of the websocket stream */\n",
              "            evt.data.type = \"image/png\";\n",
              "\n",
              "            /* Free the memory for the previous frames */\n",
              "            if (fig.imageObj.src) {\n",
              "                (window.URL || window.webkitURL).revokeObjectURL(\n",
              "                    fig.imageObj.src);\n",
              "            }\n",
              "\n",
              "            fig.imageObj.src = (window.URL || window.webkitURL).createObjectURL(\n",
              "                evt.data);\n",
              "            fig.updated_canvas_event();\n",
              "            fig.waiting = false;\n",
              "            return;\n",
              "        }\n",
              "        else if (typeof evt.data === 'string' && evt.data.slice(0, 21) == \"data:image/png;base64\") {\n",
              "            fig.imageObj.src = evt.data;\n",
              "            fig.updated_canvas_event();\n",
              "            fig.waiting = false;\n",
              "            return;\n",
              "        }\n",
              "\n",
              "        var msg = JSON.parse(evt.data);\n",
              "        var msg_type = msg['type'];\n",
              "\n",
              "        // Call the  \"handle_{type}\" callback, which takes\n",
              "        // the figure and JSON message as its only arguments.\n",
              "        try {\n",
              "            var callback = fig[\"handle_\" + msg_type];\n",
              "        } catch (e) {\n",
              "            console.log(\"No handler for the '\" + msg_type + \"' message type: \", msg);\n",
              "            return;\n",
              "        }\n",
              "\n",
              "        if (callback) {\n",
              "            try {\n",
              "                // console.log(\"Handling '\" + msg_type + \"' message: \", msg);\n",
              "                callback(fig, msg);\n",
              "            } catch (e) {\n",
              "                console.log(\"Exception inside the 'handler_\" + msg_type + \"' callback:\", e, e.stack, msg);\n",
              "            }\n",
              "        }\n",
              "    };\n",
              "}\n",
              "\n",
              "// from http://stackoverflow.com/questions/1114465/getting-mouse-location-in-canvas\n",
              "mpl.findpos = function(e) {\n",
              "    //this section is from http://www.quirksmode.org/js/events_properties.html\n",
              "    var targ;\n",
              "    if (!e)\n",
              "        e = window.event;\n",
              "    if (e.target)\n",
              "        targ = e.target;\n",
              "    else if (e.srcElement)\n",
              "        targ = e.srcElement;\n",
              "    if (targ.nodeType == 3) // defeat Safari bug\n",
              "        targ = targ.parentNode;\n",
              "\n",
              "    // jQuery normalizes the pageX and pageY\n",
              "    // pageX,Y are the mouse positions relative to the document\n",
              "    // offset() returns the position of the element relative to the document\n",
              "    var x = e.pageX - $(targ).offset().left;\n",
              "    var y = e.pageY - $(targ).offset().top;\n",
              "\n",
              "    return {\"x\": x, \"y\": y};\n",
              "};\n",
              "\n",
              "/*\n",
              " * return a copy of an object with only non-object keys\n",
              " * we need this to avoid circular references\n",
              " * http://stackoverflow.com/a/24161582/3208463\n",
              " */\n",
              "function simpleKeys (original) {\n",
              "  return Object.keys(original).reduce(function (obj, key) {\n",
              "    if (typeof original[key] !== 'object')\n",
              "        obj[key] = original[key]\n",
              "    return obj;\n",
              "  }, {});\n",
              "}\n",
              "\n",
              "mpl.figure.prototype.mouse_event = function(event, name) {\n",
              "    var canvas_pos = mpl.findpos(event)\n",
              "\n",
              "    if (name === 'button_press')\n",
              "    {\n",
              "        this.canvas.focus();\n",
              "        this.canvas_div.focus();\n",
              "    }\n",
              "\n",
              "    var x = canvas_pos.x * mpl.ratio;\n",
              "    var y = canvas_pos.y * mpl.ratio;\n",
              "\n",
              "    this.send_message(name, {x: x, y: y, button: event.button,\n",
              "                             step: event.step,\n",
              "                             guiEvent: simpleKeys(event)});\n",
              "\n",
              "    /* This prevents the web browser from automatically changing to\n",
              "     * the text insertion cursor when the button is pressed.  We want\n",
              "     * to control all of the cursor setting manually through the\n",
              "     * 'cursor' event from matplotlib */\n",
              "    event.preventDefault();\n",
              "    return false;\n",
              "}\n",
              "\n",
              "mpl.figure.prototype._key_event_extra = function(event, name) {\n",
              "    // Handle any extra behaviour associated with a key event\n",
              "}\n",
              "\n",
              "mpl.figure.prototype.key_event = function(event, name) {\n",
              "\n",
              "    // Prevent repeat events\n",
              "    if (name == 'key_press')\n",
              "    {\n",
              "        if (event.which === this._key)\n",
              "            return;\n",
              "        else\n",
              "            this._key = event.which;\n",
              "    }\n",
              "    if (name == 'key_release')\n",
              "        this._key = null;\n",
              "\n",
              "    var value = '';\n",
              "    if (event.ctrlKey && event.which != 17)\n",
              "        value += \"ctrl+\";\n",
              "    if (event.altKey && event.which != 18)\n",
              "        value += \"alt+\";\n",
              "    if (event.shiftKey && event.which != 16)\n",
              "        value += \"shift+\";\n",
              "\n",
              "    value += 'k';\n",
              "    value += event.which.toString();\n",
              "\n",
              "    this._key_event_extra(event, name);\n",
              "\n",
              "    this.send_message(name, {key: value,\n",
              "                             guiEvent: simpleKeys(event)});\n",
              "    return false;\n",
              "}\n",
              "\n",
              "mpl.figure.prototype.toolbar_button_onclick = function(name) {\n",
              "    if (name == 'download') {\n",
              "        this.handle_save(this, null);\n",
              "    } else {\n",
              "        this.send_message(\"toolbar_button\", {name: name});\n",
              "    }\n",
              "};\n",
              "\n",
              "mpl.figure.prototype.toolbar_button_onmouseover = function(tooltip) {\n",
              "    this.message.textContent = tooltip;\n",
              "};\n",
              "mpl.toolbar_items = [[\"Home\", \"Reset original view\", \"fa fa-home icon-home\", \"home\"], [\"Back\", \"Back to previous view\", \"fa fa-arrow-left icon-arrow-left\", \"back\"], [\"Forward\", \"Forward to next view\", \"fa fa-arrow-right icon-arrow-right\", \"forward\"], [\"\", \"\", \"\", \"\"], [\"Pan\", \"Pan axes with left mouse, zoom with right\", \"fa fa-arrows icon-move\", \"pan\"], [\"Zoom\", \"Zoom to rectangle\", \"fa fa-square-o icon-check-empty\", \"zoom\"], [\"\", \"\", \"\", \"\"], [\"Download\", \"Download plot\", \"fa fa-floppy-o icon-save\", \"download\"]];\n",
              "\n",
              "mpl.extensions = [\"eps\", \"jpeg\", \"pdf\", \"png\", \"ps\", \"raw\", \"svg\", \"tif\"];\n",
              "\n",
              "mpl.default_extension = \"png\";var comm_websocket_adapter = function(comm) {\n",
              "    // Create a \"websocket\"-like object which calls the given IPython comm\n",
              "    // object with the appropriate methods. Currently this is a non binary\n",
              "    // socket, so there is still some room for performance tuning.\n",
              "    var ws = {};\n",
              "\n",
              "    ws.close = function() {\n",
              "        comm.close()\n",
              "    };\n",
              "    ws.send = function(m) {\n",
              "        //console.log('sending', m);\n",
              "        comm.send(m);\n",
              "    };\n",
              "    // Register the callback with on_msg.\n",
              "    comm.on_msg(function(msg) {\n",
              "        //console.log('receiving', msg['content']['data'], msg);\n",
              "        // Pass the mpl event to the overridden (by mpl) onmessage function.\n",
              "        ws.onmessage(msg['content']['data'])\n",
              "    });\n",
              "    return ws;\n",
              "}\n",
              "\n",
              "mpl.mpl_figure_comm = function(comm, msg) {\n",
              "    // This is the function which gets called when the mpl process\n",
              "    // starts-up an IPython Comm through the \"matplotlib\" channel.\n",
              "\n",
              "    var id = msg.content.data.id;\n",
              "    // Get hold of the div created by the display call when the Comm\n",
              "    // socket was opened in Python.\n",
              "    var element = $(\"#\" + id);\n",
              "    var ws_proxy = comm_websocket_adapter(comm)\n",
              "\n",
              "    function ondownload(figure, format) {\n",
              "        window.open(figure.imageObj.src);\n",
              "    }\n",
              "\n",
              "    var fig = new mpl.figure(id, ws_proxy,\n",
              "                           ondownload,\n",
              "                           element.get(0));\n",
              "\n",
              "    // Call onopen now - mpl needs it, as it is assuming we've passed it a real\n",
              "    // web socket which is closed, not our websocket->open comm proxy.\n",
              "    ws_proxy.onopen();\n",
              "\n",
              "    fig.parent_element = element.get(0);\n",
              "    fig.cell_info = mpl.find_output_cell(\"<div id='\" + id + \"'></div>\");\n",
              "    if (!fig.cell_info) {\n",
              "        console.error(\"Failed to find cell for figure\", id, fig);\n",
              "        return;\n",
              "    }\n",
              "\n",
              "    var output_index = fig.cell_info[2]\n",
              "    var cell = fig.cell_info[0];\n",
              "\n",
              "};\n",
              "\n",
              "mpl.figure.prototype.handle_close = function(fig, msg) {\n",
              "    var width = fig.canvas.width/mpl.ratio\n",
              "    fig.root.unbind('remove')\n",
              "\n",
              "    // Update the output cell to use the data from the current canvas.\n",
              "    fig.push_to_output();\n",
              "    var dataURL = fig.canvas.toDataURL();\n",
              "    // Re-enable the keyboard manager in IPython - without this line, in FF,\n",
              "    // the notebook keyboard shortcuts fail.\n",
              "    IPython.keyboard_manager.enable()\n",
              "    $(fig.parent_element).html('<img src=\"' + dataURL + '\" width=\"' + width + '\">');\n",
              "    fig.close_ws(fig, msg);\n",
              "}\n",
              "\n",
              "mpl.figure.prototype.close_ws = function(fig, msg){\n",
              "    fig.send_message('closing', msg);\n",
              "    // fig.ws.close()\n",
              "}\n",
              "\n",
              "mpl.figure.prototype.push_to_output = function(remove_interactive) {\n",
              "    // Turn the data on the canvas into data in the output cell.\n",
              "    var width = this.canvas.width/mpl.ratio\n",
              "    var dataURL = this.canvas.toDataURL();\n",
              "    this.cell_info[1]['text/html'] = '<img src=\"' + dataURL + '\" width=\"' + width + '\">';\n",
              "}\n",
              "\n",
              "mpl.figure.prototype.updated_canvas_event = function() {\n",
              "    // Tell IPython that the notebook contents must change.\n",
              "    IPython.notebook.set_dirty(true);\n",
              "    this.send_message(\"ack\", {});\n",
              "    var fig = this;\n",
              "    // Wait a second, then push the new image to the DOM so\n",
              "    // that it is saved nicely (might be nice to debounce this).\n",
              "    setTimeout(function () { fig.push_to_output() }, 1000);\n",
              "}\n",
              "\n",
              "mpl.figure.prototype._init_toolbar = function() {\n",
              "    var fig = this;\n",
              "\n",
              "    var nav_element = $('<div/>');\n",
              "    nav_element.attr('style', 'width: 100%');\n",
              "    this.root.append(nav_element);\n",
              "\n",
              "    // Define a callback function for later on.\n",
              "    function toolbar_event(event) {\n",
              "        return fig.toolbar_button_onclick(event['data']);\n",
              "    }\n",
              "    function toolbar_mouse_event(event) {\n",
              "        return fig.toolbar_button_onmouseover(event['data']);\n",
              "    }\n",
              "\n",
              "    for(var toolbar_ind in mpl.toolbar_items){\n",
              "        var name = mpl.toolbar_items[toolbar_ind][0];\n",
              "        var tooltip = mpl.toolbar_items[toolbar_ind][1];\n",
              "        var image = mpl.toolbar_items[toolbar_ind][2];\n",
              "        var method_name = mpl.toolbar_items[toolbar_ind][3];\n",
              "\n",
              "        if (!name) { continue; };\n",
              "\n",
              "        var button = $('<button class=\"btn btn-default\" href=\"#\" title=\"' + name + '\"><i class=\"fa ' + image + ' fa-lg\"></i></button>');\n",
              "        button.click(method_name, toolbar_event);\n",
              "        button.mouseover(tooltip, toolbar_mouse_event);\n",
              "        nav_element.append(button);\n",
              "    }\n",
              "\n",
              "    // Add the status bar.\n",
              "    var status_bar = $('<span class=\"mpl-message\" style=\"text-align:right; float: right;\"/>');\n",
              "    nav_element.append(status_bar);\n",
              "    this.message = status_bar[0];\n",
              "\n",
              "    // Add the close button to the window.\n",
              "    var buttongrp = $('<div class=\"btn-group inline pull-right\"></div>');\n",
              "    var button = $('<button class=\"btn btn-mini btn-primary\" href=\"#\" title=\"Stop Interaction\"><i class=\"fa fa-power-off icon-remove icon-large\"></i></button>');\n",
              "    button.click(function (evt) { fig.handle_close(fig, {}); } );\n",
              "    button.mouseover('Stop Interaction', toolbar_mouse_event);\n",
              "    buttongrp.append(button);\n",
              "    var titlebar = this.root.find($('.ui-dialog-titlebar'));\n",
              "    titlebar.prepend(buttongrp);\n",
              "}\n",
              "\n",
              "mpl.figure.prototype._root_extra_style = function(el){\n",
              "    var fig = this\n",
              "    el.on(\"remove\", function(){\n",
              "\tfig.close_ws(fig, {});\n",
              "    });\n",
              "}\n",
              "\n",
              "mpl.figure.prototype._canvas_extra_style = function(el){\n",
              "    // this is important to make the div 'focusable\n",
              "    el.attr('tabindex', 0)\n",
              "    // reach out to IPython and tell the keyboard manager to turn it's self\n",
              "    // off when our div gets focus\n",
              "\n",
              "    // location in version 3\n",
              "    if (IPython.notebook.keyboard_manager) {\n",
              "        IPython.notebook.keyboard_manager.register_events(el);\n",
              "    }\n",
              "    else {\n",
              "        // location in version 2\n",
              "        IPython.keyboard_manager.register_events(el);\n",
              "    }\n",
              "\n",
              "}\n",
              "\n",
              "mpl.figure.prototype._key_event_extra = function(event, name) {\n",
              "    var manager = IPython.notebook.keyboard_manager;\n",
              "    if (!manager)\n",
              "        manager = IPython.keyboard_manager;\n",
              "\n",
              "    // Check for shift+enter\n",
              "    if (event.shiftKey && event.which == 13) {\n",
              "        this.canvas_div.blur();\n",
              "        // select the cell after this one\n",
              "        var index = IPython.notebook.find_cell_index(this.cell_info[0]);\n",
              "        IPython.notebook.select(index + 1);\n",
              "    }\n",
              "}\n",
              "\n",
              "mpl.figure.prototype.handle_save = function(fig, msg) {\n",
              "    fig.ondownload(fig, null);\n",
              "}\n",
              "\n",
              "\n",
              "mpl.find_output_cell = function(html_output) {\n",
              "    // Return the cell and output element which can be found *uniquely* in the notebook.\n",
              "    // Note - this is a bit hacky, but it is done because the \"notebook_saving.Notebook\"\n",
              "    // IPython event is triggered only after the cells have been serialised, which for\n",
              "    // our purposes (turning an active figure into a static one), is too late.\n",
              "    var cells = IPython.notebook.get_cells();\n",
              "    var ncells = cells.length;\n",
              "    for (var i=0; i<ncells; i++) {\n",
              "        var cell = cells[i];\n",
              "        if (cell.cell_type === 'code'){\n",
              "            for (var j=0; j<cell.output_area.outputs.length; j++) {\n",
              "                var data = cell.output_area.outputs[j];\n",
              "                if (data.data) {\n",
              "                    // IPython >= 3 moved mimebundle to data attribute of output\n",
              "                    data = data.data;\n",
              "                }\n",
              "                if (data['text/html'] == html_output) {\n",
              "                    return [cell, data, j];\n",
              "                }\n",
              "            }\n",
              "        }\n",
              "    }\n",
              "}\n",
              "\n",
              "// Register the function which deals with the matplotlib target/channel.\n",
              "// The kernel may be null if the page has been refreshed.\n",
              "if (IPython.notebook.kernel != null) {\n",
              "    IPython.notebook.kernel.comm_manager.register_target('matplotlib', mpl.mpl_figure_comm);\n",
              "}\n"
            ],
            "text/plain": [
              "<IPython.core.display.Javascript object>"
            ]
          },
          "metadata": {
            "tags": []
          }
        },
        {
          "output_type": "display_data",
          "data": {
            "text/html": [
              "<div id='4a5c5c48-f246-465d-9eff-9fe3b34d6b5e'></div>"
            ],
            "text/plain": [
              "<IPython.core.display.HTML object>"
            ]
          },
          "metadata": {
            "tags": []
          }
        },
        {
          "output_type": "stream",
          "text": [
            "/usr/local/lib/python3.6/dist-packages/numpy/lib/histograms.py:839: RuntimeWarning: invalid value encountered in greater_equal\n",
            "  keep = (tmp_a >= first_edge)\n",
            "/usr/local/lib/python3.6/dist-packages/numpy/lib/histograms.py:840: RuntimeWarning: invalid value encountered in less_equal\n",
            "  keep &= (tmp_a <= last_edge)\n"
          ],
          "name": "stderr"
        },
        {
          "output_type": "execute_result",
          "data": {
            "text/plain": [
              "(array([7.0000e+00, 6.0000e+00, 2.0000e+01, 6.5000e+01, 9.4000e+01,\n",
              "        1.4200e+02, 2.9400e+02, 5.2600e+02, 1.2510e+03, 1.8450e+03,\n",
              "        2.5780e+03, 4.0870e+03, 6.1890e+03, 9.6500e+03, 1.3745e+04,\n",
              "        1.8366e+04, 2.0310e+04, 2.0773e+04, 1.9382e+04, 1.8784e+04,\n",
              "        1.5915e+04, 1.1254e+04, 7.5250e+03, 4.9470e+03, 2.8290e+03,\n",
              "        1.4590e+03, 7.4800e+02, 2.2800e+02, 8.4000e+01, 3.9000e+01]),\n",
              " array([33.        , 35.03333333, 37.06666667, 39.1       , 41.13333333,\n",
              "        43.16666667, 45.2       , 47.23333333, 49.26666667, 51.3       ,\n",
              "        53.33333333, 55.36666667, 57.4       , 59.43333333, 61.46666667,\n",
              "        63.5       , 65.53333333, 67.56666667, 69.6       , 71.63333333,\n",
              "        73.66666667, 75.7       , 77.73333333, 79.76666667, 81.8       ,\n",
              "        83.83333333, 85.86666667, 87.9       , 89.93333333, 91.96666667,\n",
              "        94.        ]),\n",
              " <a list of 30 Patch objects>)"
            ]
          },
          "metadata": {
            "tags": []
          },
          "execution_count": 15
        }
      ]
    },
    {
      "cell_type": "markdown",
      "metadata": {
        "colab_type": "text",
        "id": "-Zj_7_fvDMSD"
      },
      "source": [
        "almost normal distribution so we can impute mean value for missing value in target."
      ]
    },
    {
      "cell_type": "code",
      "metadata": {
        "ExecuteTime": {
          "end_time": "2020-08-26T07:59:48.166104Z",
          "start_time": "2020-08-26T07:59:48.133026Z"
        },
        "colab_type": "code",
        "id": "iEvCUfinDMSF",
        "colab": {}
      },
      "source": [
        "y = target.fillna(target.mean())"
      ],
      "execution_count": 16,
      "outputs": []
    },
    {
      "cell_type": "code",
      "metadata": {
        "ExecuteTime": {
          "end_time": "2020-08-26T07:59:49.530282Z",
          "start_time": "2020-08-26T07:59:49.521873Z"
        },
        "colab_type": "code",
        "id": "oM40EGOWDMSK",
        "colab": {
          "base_uri": "https://localhost:8080/",
          "height": 36
        },
        "outputId": "94c92d18-4689-4896-e48d-7a8b3a8d9bcc"
      },
      "source": [
        "y.isnull().values.any()"
      ],
      "execution_count": 17,
      "outputs": [
        {
          "output_type": "execute_result",
          "data": {
            "text/plain": [
              "False"
            ]
          },
          "metadata": {
            "tags": []
          },
          "execution_count": 17
        }
      ]
    },
    {
      "cell_type": "markdown",
      "metadata": {
        "colab_type": "text",
        "id": "9CVJ7hzADMSS"
      },
      "source": [
        "## Data Exploration :"
      ]
    },
    {
      "cell_type": "code",
      "metadata": {
        "ExecuteTime": {
          "end_time": "2020-08-26T07:59:56.357210Z",
          "start_time": "2020-08-26T07:59:56.329366Z"
        },
        "colab_type": "code",
        "id": "Pei2A7WNDMSU",
        "colab": {
          "base_uri": "https://localhost:8080/",
          "height": 203
        },
        "outputId": "9d20d341-664e-4af4-a5fc-c5c815d7db40"
      },
      "source": [
        "df.columns"
      ],
      "execution_count": 18,
      "outputs": [
        {
          "output_type": "execute_result",
          "data": {
            "text/plain": [
              "Index(['id', 'player_fifa_api_id', 'player_api_id', 'date', 'potential',\n",
              "       'preferred_foot', 'attacking_work_rate', 'defensive_work_rate',\n",
              "       'crossing', 'finishing', 'heading_accuracy', 'short_passing', 'volleys',\n",
              "       'dribbling', 'curve', 'free_kick_accuracy', 'long_passing',\n",
              "       'ball_control', 'acceleration', 'sprint_speed', 'agility', 'reactions',\n",
              "       'balance', 'shot_power', 'jumping', 'stamina', 'strength', 'long_shots',\n",
              "       'aggression', 'interceptions', 'positioning', 'vision', 'penalties',\n",
              "       'marking', 'standing_tackle', 'sliding_tackle', 'gk_diving',\n",
              "       'gk_handling', 'gk_kicking', 'gk_positioning', 'gk_reflexes'],\n",
              "      dtype='object')"
            ]
          },
          "metadata": {
            "tags": []
          },
          "execution_count": 18
        }
      ]
    },
    {
      "cell_type": "code",
      "metadata": {
        "ExecuteTime": {
          "end_time": "2020-08-26T07:59:59.585348Z",
          "start_time": "2020-08-26T07:59:59.182365Z"
        },
        "colab_type": "code",
        "id": "Pl2XTKn2DMSc",
        "colab": {
          "base_uri": "https://localhost:8080/",
          "height": 780
        },
        "outputId": "3564cb7e-c880-427c-9ce1-0271d834d4ce"
      },
      "source": [
        "for col in df.columns:\n",
        "    unique_cat = len(df[col].unique())\n",
        "    print(\"{col}--> {unique_cat}..{typ}\".format(col=col, unique_cat=unique_cat, typ=df[col].dtype))"
      ],
      "execution_count": 19,
      "outputs": [
        {
          "output_type": "stream",
          "text": [
            "id--> 183978..int64\n",
            "player_fifa_api_id--> 11062..int64\n",
            "player_api_id--> 11060..int64\n",
            "date--> 197..object\n",
            "potential--> 57..float64\n",
            "preferred_foot--> 3..object\n",
            "attacking_work_rate--> 9..object\n",
            "defensive_work_rate--> 20..object\n",
            "crossing--> 96..float64\n",
            "finishing--> 98..float64\n",
            "heading_accuracy--> 97..float64\n",
            "short_passing--> 96..float64\n",
            "volleys--> 94..float64\n",
            "dribbling--> 98..float64\n",
            "curve--> 93..float64\n",
            "free_kick_accuracy--> 98..float64\n",
            "long_passing--> 96..float64\n",
            "ball_control--> 94..float64\n",
            "acceleration--> 87..float64\n",
            "sprint_speed--> 86..float64\n",
            "agility--> 82..float64\n",
            "reactions--> 79..float64\n",
            "balance--> 82..float64\n",
            "shot_power--> 97..float64\n",
            "jumping--> 80..float64\n",
            "stamina--> 85..float64\n",
            "strength--> 83..float64\n",
            "long_shots--> 97..float64\n",
            "aggression--> 92..float64\n",
            "interceptions--> 97..float64\n",
            "positioning--> 96..float64\n",
            "vision--> 98..float64\n",
            "penalties--> 95..float64\n",
            "marking--> 96..float64\n",
            "standing_tackle--> 96..float64\n",
            "sliding_tackle--> 95..float64\n",
            "gk_diving--> 94..float64\n",
            "gk_handling--> 91..float64\n",
            "gk_kicking--> 98..float64\n",
            "gk_positioning--> 95..float64\n",
            "gk_reflexes--> 93..float64\n"
          ],
          "name": "stdout"
        }
      ]
    },
    {
      "cell_type": "markdown",
      "metadata": {
        "colab_type": "text",
        "id": "jcRinkJGDMSg"
      },
      "source": [
        "we can see only four features have the type 'object'. here the feature named 'date' has no significance in this problem so can ignore it and perform one hot encoding on the rest of 3 features."
      ]
    },
    {
      "cell_type": "code",
      "metadata": {
        "ExecuteTime": {
          "end_time": "2020-08-26T08:00:06.068024Z",
          "start_time": "2020-08-26T08:00:05.487031Z"
        },
        "colab_type": "code",
        "id": "q3M5h6SZDMSi",
        "colab": {
          "base_uri": "https://localhost:8080/",
          "height": 313
        },
        "outputId": "5485b449-9cb3-4e3f-c7c8-cf5322f1761d"
      },
      "source": [
        "dummy_df = pd.get_dummies(df, columns=['preferred_foot', 'attacking_work_rate', 'defensive_work_rate'])\n",
        "dummy_df.head()"
      ],
      "execution_count": 20,
      "outputs": [
        {
          "output_type": "execute_result",
          "data": {
            "text/html": [
              "<div>\n",
              "<style scoped>\n",
              "    .dataframe tbody tr th:only-of-type {\n",
              "        vertical-align: middle;\n",
              "    }\n",
              "\n",
              "    .dataframe tbody tr th {\n",
              "        vertical-align: top;\n",
              "    }\n",
              "\n",
              "    .dataframe thead th {\n",
              "        text-align: right;\n",
              "    }\n",
              "</style>\n",
              "<table border=\"1\" class=\"dataframe\">\n",
              "  <thead>\n",
              "    <tr style=\"text-align: right;\">\n",
              "      <th></th>\n",
              "      <th>id</th>\n",
              "      <th>player_fifa_api_id</th>\n",
              "      <th>player_api_id</th>\n",
              "      <th>date</th>\n",
              "      <th>potential</th>\n",
              "      <th>crossing</th>\n",
              "      <th>finishing</th>\n",
              "      <th>heading_accuracy</th>\n",
              "      <th>short_passing</th>\n",
              "      <th>volleys</th>\n",
              "      <th>dribbling</th>\n",
              "      <th>curve</th>\n",
              "      <th>free_kick_accuracy</th>\n",
              "      <th>long_passing</th>\n",
              "      <th>ball_control</th>\n",
              "      <th>acceleration</th>\n",
              "      <th>sprint_speed</th>\n",
              "      <th>agility</th>\n",
              "      <th>reactions</th>\n",
              "      <th>balance</th>\n",
              "      <th>shot_power</th>\n",
              "      <th>jumping</th>\n",
              "      <th>stamina</th>\n",
              "      <th>strength</th>\n",
              "      <th>long_shots</th>\n",
              "      <th>aggression</th>\n",
              "      <th>interceptions</th>\n",
              "      <th>positioning</th>\n",
              "      <th>vision</th>\n",
              "      <th>penalties</th>\n",
              "      <th>marking</th>\n",
              "      <th>standing_tackle</th>\n",
              "      <th>sliding_tackle</th>\n",
              "      <th>gk_diving</th>\n",
              "      <th>gk_handling</th>\n",
              "      <th>gk_kicking</th>\n",
              "      <th>gk_positioning</th>\n",
              "      <th>gk_reflexes</th>\n",
              "      <th>preferred_foot_left</th>\n",
              "      <th>preferred_foot_right</th>\n",
              "      <th>attacking_work_rate_None</th>\n",
              "      <th>attacking_work_rate_high</th>\n",
              "      <th>attacking_work_rate_le</th>\n",
              "      <th>attacking_work_rate_low</th>\n",
              "      <th>attacking_work_rate_medium</th>\n",
              "      <th>attacking_work_rate_norm</th>\n",
              "      <th>attacking_work_rate_stoc</th>\n",
              "      <th>attacking_work_rate_y</th>\n",
              "      <th>defensive_work_rate_0</th>\n",
              "      <th>defensive_work_rate_1</th>\n",
              "      <th>defensive_work_rate_2</th>\n",
              "      <th>defensive_work_rate_3</th>\n",
              "      <th>defensive_work_rate_4</th>\n",
              "      <th>defensive_work_rate_5</th>\n",
              "      <th>defensive_work_rate_6</th>\n",
              "      <th>defensive_work_rate_7</th>\n",
              "      <th>defensive_work_rate_8</th>\n",
              "      <th>defensive_work_rate_9</th>\n",
              "      <th>defensive_work_rate__0</th>\n",
              "      <th>defensive_work_rate_ean</th>\n",
              "      <th>defensive_work_rate_es</th>\n",
              "      <th>defensive_work_rate_high</th>\n",
              "      <th>defensive_work_rate_low</th>\n",
              "      <th>defensive_work_rate_medium</th>\n",
              "      <th>defensive_work_rate_o</th>\n",
              "      <th>defensive_work_rate_ormal</th>\n",
              "      <th>defensive_work_rate_tocky</th>\n",
              "    </tr>\n",
              "  </thead>\n",
              "  <tbody>\n",
              "    <tr>\n",
              "      <th>0</th>\n",
              "      <td>1</td>\n",
              "      <td>218353</td>\n",
              "      <td>505942</td>\n",
              "      <td>2016-02-18 00:00:00</td>\n",
              "      <td>71.0</td>\n",
              "      <td>49.0</td>\n",
              "      <td>44.0</td>\n",
              "      <td>71.0</td>\n",
              "      <td>61.0</td>\n",
              "      <td>44.0</td>\n",
              "      <td>51.0</td>\n",
              "      <td>45.0</td>\n",
              "      <td>39.0</td>\n",
              "      <td>64.0</td>\n",
              "      <td>49.0</td>\n",
              "      <td>60.0</td>\n",
              "      <td>64.0</td>\n",
              "      <td>59.0</td>\n",
              "      <td>47.0</td>\n",
              "      <td>65.0</td>\n",
              "      <td>55.0</td>\n",
              "      <td>58.0</td>\n",
              "      <td>54.0</td>\n",
              "      <td>76.0</td>\n",
              "      <td>35.0</td>\n",
              "      <td>71.0</td>\n",
              "      <td>70.0</td>\n",
              "      <td>45.0</td>\n",
              "      <td>54.0</td>\n",
              "      <td>48.0</td>\n",
              "      <td>65.0</td>\n",
              "      <td>69.0</td>\n",
              "      <td>69.0</td>\n",
              "      <td>6.0</td>\n",
              "      <td>11.0</td>\n",
              "      <td>10.0</td>\n",
              "      <td>8.0</td>\n",
              "      <td>8.0</td>\n",
              "      <td>0</td>\n",
              "      <td>1</td>\n",
              "      <td>0</td>\n",
              "      <td>0</td>\n",
              "      <td>0</td>\n",
              "      <td>0</td>\n",
              "      <td>1</td>\n",
              "      <td>0</td>\n",
              "      <td>0</td>\n",
              "      <td>0</td>\n",
              "      <td>0</td>\n",
              "      <td>0</td>\n",
              "      <td>0</td>\n",
              "      <td>0</td>\n",
              "      <td>0</td>\n",
              "      <td>0</td>\n",
              "      <td>0</td>\n",
              "      <td>0</td>\n",
              "      <td>0</td>\n",
              "      <td>0</td>\n",
              "      <td>0</td>\n",
              "      <td>0</td>\n",
              "      <td>0</td>\n",
              "      <td>0</td>\n",
              "      <td>0</td>\n",
              "      <td>1</td>\n",
              "      <td>0</td>\n",
              "      <td>0</td>\n",
              "      <td>0</td>\n",
              "    </tr>\n",
              "    <tr>\n",
              "      <th>1</th>\n",
              "      <td>2</td>\n",
              "      <td>218353</td>\n",
              "      <td>505942</td>\n",
              "      <td>2015-11-19 00:00:00</td>\n",
              "      <td>71.0</td>\n",
              "      <td>49.0</td>\n",
              "      <td>44.0</td>\n",
              "      <td>71.0</td>\n",
              "      <td>61.0</td>\n",
              "      <td>44.0</td>\n",
              "      <td>51.0</td>\n",
              "      <td>45.0</td>\n",
              "      <td>39.0</td>\n",
              "      <td>64.0</td>\n",
              "      <td>49.0</td>\n",
              "      <td>60.0</td>\n",
              "      <td>64.0</td>\n",
              "      <td>59.0</td>\n",
              "      <td>47.0</td>\n",
              "      <td>65.0</td>\n",
              "      <td>55.0</td>\n",
              "      <td>58.0</td>\n",
              "      <td>54.0</td>\n",
              "      <td>76.0</td>\n",
              "      <td>35.0</td>\n",
              "      <td>71.0</td>\n",
              "      <td>70.0</td>\n",
              "      <td>45.0</td>\n",
              "      <td>54.0</td>\n",
              "      <td>48.0</td>\n",
              "      <td>65.0</td>\n",
              "      <td>69.0</td>\n",
              "      <td>69.0</td>\n",
              "      <td>6.0</td>\n",
              "      <td>11.0</td>\n",
              "      <td>10.0</td>\n",
              "      <td>8.0</td>\n",
              "      <td>8.0</td>\n",
              "      <td>0</td>\n",
              "      <td>1</td>\n",
              "      <td>0</td>\n",
              "      <td>0</td>\n",
              "      <td>0</td>\n",
              "      <td>0</td>\n",
              "      <td>1</td>\n",
              "      <td>0</td>\n",
              "      <td>0</td>\n",
              "      <td>0</td>\n",
              "      <td>0</td>\n",
              "      <td>0</td>\n",
              "      <td>0</td>\n",
              "      <td>0</td>\n",
              "      <td>0</td>\n",
              "      <td>0</td>\n",
              "      <td>0</td>\n",
              "      <td>0</td>\n",
              "      <td>0</td>\n",
              "      <td>0</td>\n",
              "      <td>0</td>\n",
              "      <td>0</td>\n",
              "      <td>0</td>\n",
              "      <td>0</td>\n",
              "      <td>0</td>\n",
              "      <td>1</td>\n",
              "      <td>0</td>\n",
              "      <td>0</td>\n",
              "      <td>0</td>\n",
              "    </tr>\n",
              "    <tr>\n",
              "      <th>2</th>\n",
              "      <td>3</td>\n",
              "      <td>218353</td>\n",
              "      <td>505942</td>\n",
              "      <td>2015-09-21 00:00:00</td>\n",
              "      <td>66.0</td>\n",
              "      <td>49.0</td>\n",
              "      <td>44.0</td>\n",
              "      <td>71.0</td>\n",
              "      <td>61.0</td>\n",
              "      <td>44.0</td>\n",
              "      <td>51.0</td>\n",
              "      <td>45.0</td>\n",
              "      <td>39.0</td>\n",
              "      <td>64.0</td>\n",
              "      <td>49.0</td>\n",
              "      <td>60.0</td>\n",
              "      <td>64.0</td>\n",
              "      <td>59.0</td>\n",
              "      <td>47.0</td>\n",
              "      <td>65.0</td>\n",
              "      <td>55.0</td>\n",
              "      <td>58.0</td>\n",
              "      <td>54.0</td>\n",
              "      <td>76.0</td>\n",
              "      <td>35.0</td>\n",
              "      <td>63.0</td>\n",
              "      <td>41.0</td>\n",
              "      <td>45.0</td>\n",
              "      <td>54.0</td>\n",
              "      <td>48.0</td>\n",
              "      <td>65.0</td>\n",
              "      <td>66.0</td>\n",
              "      <td>69.0</td>\n",
              "      <td>6.0</td>\n",
              "      <td>11.0</td>\n",
              "      <td>10.0</td>\n",
              "      <td>8.0</td>\n",
              "      <td>8.0</td>\n",
              "      <td>0</td>\n",
              "      <td>1</td>\n",
              "      <td>0</td>\n",
              "      <td>0</td>\n",
              "      <td>0</td>\n",
              "      <td>0</td>\n",
              "      <td>1</td>\n",
              "      <td>0</td>\n",
              "      <td>0</td>\n",
              "      <td>0</td>\n",
              "      <td>0</td>\n",
              "      <td>0</td>\n",
              "      <td>0</td>\n",
              "      <td>0</td>\n",
              "      <td>0</td>\n",
              "      <td>0</td>\n",
              "      <td>0</td>\n",
              "      <td>0</td>\n",
              "      <td>0</td>\n",
              "      <td>0</td>\n",
              "      <td>0</td>\n",
              "      <td>0</td>\n",
              "      <td>0</td>\n",
              "      <td>0</td>\n",
              "      <td>0</td>\n",
              "      <td>1</td>\n",
              "      <td>0</td>\n",
              "      <td>0</td>\n",
              "      <td>0</td>\n",
              "    </tr>\n",
              "    <tr>\n",
              "      <th>3</th>\n",
              "      <td>4</td>\n",
              "      <td>218353</td>\n",
              "      <td>505942</td>\n",
              "      <td>2015-03-20 00:00:00</td>\n",
              "      <td>65.0</td>\n",
              "      <td>48.0</td>\n",
              "      <td>43.0</td>\n",
              "      <td>70.0</td>\n",
              "      <td>60.0</td>\n",
              "      <td>43.0</td>\n",
              "      <td>50.0</td>\n",
              "      <td>44.0</td>\n",
              "      <td>38.0</td>\n",
              "      <td>63.0</td>\n",
              "      <td>48.0</td>\n",
              "      <td>60.0</td>\n",
              "      <td>64.0</td>\n",
              "      <td>59.0</td>\n",
              "      <td>46.0</td>\n",
              "      <td>65.0</td>\n",
              "      <td>54.0</td>\n",
              "      <td>58.0</td>\n",
              "      <td>54.0</td>\n",
              "      <td>76.0</td>\n",
              "      <td>34.0</td>\n",
              "      <td>62.0</td>\n",
              "      <td>40.0</td>\n",
              "      <td>44.0</td>\n",
              "      <td>53.0</td>\n",
              "      <td>47.0</td>\n",
              "      <td>62.0</td>\n",
              "      <td>63.0</td>\n",
              "      <td>66.0</td>\n",
              "      <td>5.0</td>\n",
              "      <td>10.0</td>\n",
              "      <td>9.0</td>\n",
              "      <td>7.0</td>\n",
              "      <td>7.0</td>\n",
              "      <td>0</td>\n",
              "      <td>1</td>\n",
              "      <td>0</td>\n",
              "      <td>0</td>\n",
              "      <td>0</td>\n",
              "      <td>0</td>\n",
              "      <td>1</td>\n",
              "      <td>0</td>\n",
              "      <td>0</td>\n",
              "      <td>0</td>\n",
              "      <td>0</td>\n",
              "      <td>0</td>\n",
              "      <td>0</td>\n",
              "      <td>0</td>\n",
              "      <td>0</td>\n",
              "      <td>0</td>\n",
              "      <td>0</td>\n",
              "      <td>0</td>\n",
              "      <td>0</td>\n",
              "      <td>0</td>\n",
              "      <td>0</td>\n",
              "      <td>0</td>\n",
              "      <td>0</td>\n",
              "      <td>0</td>\n",
              "      <td>0</td>\n",
              "      <td>1</td>\n",
              "      <td>0</td>\n",
              "      <td>0</td>\n",
              "      <td>0</td>\n",
              "    </tr>\n",
              "    <tr>\n",
              "      <th>4</th>\n",
              "      <td>5</td>\n",
              "      <td>218353</td>\n",
              "      <td>505942</td>\n",
              "      <td>2007-02-22 00:00:00</td>\n",
              "      <td>65.0</td>\n",
              "      <td>48.0</td>\n",
              "      <td>43.0</td>\n",
              "      <td>70.0</td>\n",
              "      <td>60.0</td>\n",
              "      <td>43.0</td>\n",
              "      <td>50.0</td>\n",
              "      <td>44.0</td>\n",
              "      <td>38.0</td>\n",
              "      <td>63.0</td>\n",
              "      <td>48.0</td>\n",
              "      <td>60.0</td>\n",
              "      <td>64.0</td>\n",
              "      <td>59.0</td>\n",
              "      <td>46.0</td>\n",
              "      <td>65.0</td>\n",
              "      <td>54.0</td>\n",
              "      <td>58.0</td>\n",
              "      <td>54.0</td>\n",
              "      <td>76.0</td>\n",
              "      <td>34.0</td>\n",
              "      <td>62.0</td>\n",
              "      <td>40.0</td>\n",
              "      <td>44.0</td>\n",
              "      <td>53.0</td>\n",
              "      <td>47.0</td>\n",
              "      <td>62.0</td>\n",
              "      <td>63.0</td>\n",
              "      <td>66.0</td>\n",
              "      <td>5.0</td>\n",
              "      <td>10.0</td>\n",
              "      <td>9.0</td>\n",
              "      <td>7.0</td>\n",
              "      <td>7.0</td>\n",
              "      <td>0</td>\n",
              "      <td>1</td>\n",
              "      <td>0</td>\n",
              "      <td>0</td>\n",
              "      <td>0</td>\n",
              "      <td>0</td>\n",
              "      <td>1</td>\n",
              "      <td>0</td>\n",
              "      <td>0</td>\n",
              "      <td>0</td>\n",
              "      <td>0</td>\n",
              "      <td>0</td>\n",
              "      <td>0</td>\n",
              "      <td>0</td>\n",
              "      <td>0</td>\n",
              "      <td>0</td>\n",
              "      <td>0</td>\n",
              "      <td>0</td>\n",
              "      <td>0</td>\n",
              "      <td>0</td>\n",
              "      <td>0</td>\n",
              "      <td>0</td>\n",
              "      <td>0</td>\n",
              "      <td>0</td>\n",
              "      <td>0</td>\n",
              "      <td>1</td>\n",
              "      <td>0</td>\n",
              "      <td>0</td>\n",
              "      <td>0</td>\n",
              "    </tr>\n",
              "  </tbody>\n",
              "</table>\n",
              "</div>"
            ],
            "text/plain": [
              "   id  player_fifa_api_id  ...  defensive_work_rate_ormal defensive_work_rate_tocky\n",
              "0   1              218353  ...                          0                         0\n",
              "1   2              218353  ...                          0                         0\n",
              "2   3              218353  ...                          0                         0\n",
              "3   4              218353  ...                          0                         0\n",
              "4   5              218353  ...                          0                         0\n",
              "\n",
              "[5 rows x 67 columns]"
            ]
          },
          "metadata": {
            "tags": []
          },
          "execution_count": 20
        }
      ]
    },
    {
      "cell_type": "code",
      "metadata": {
        "ExecuteTime": {
          "end_time": "2020-08-26T08:00:07.226936Z",
          "start_time": "2020-08-26T08:00:07.148640Z"
        },
        "colab_type": "code",
        "id": "dRhHrNnQDMSn",
        "colab": {}
      },
      "source": [
        "X = dummy_df.drop(['id', 'date'], axis=1)"
      ],
      "execution_count": 21,
      "outputs": []
    },
    {
      "cell_type": "markdown",
      "metadata": {
        "colab_type": "text",
        "id": "5EqUC5rMDMSr"
      },
      "source": [
        "***\n",
        "## Feature selection :"
      ]
    },
    {
      "cell_type": "markdown",
      "metadata": {
        "colab_type": "text",
        "id": "lr9IlTXsDMSs"
      },
      "source": [
        "* As tree model doesn't gets affected by missing values present in data set. but feature selection by `SelectFromModel` can not be done on datasets that carries null value. Therefore, we should also perform imputation on dataset. "
      ]
    },
    {
      "cell_type": "code",
      "metadata": {
        "ExecuteTime": {
          "end_time": "2020-08-26T08:00:13.270509Z",
          "start_time": "2020-08-26T08:00:12.999824Z"
        },
        "colab_type": "code",
        "id": "JQYznncKDMSu",
        "colab": {}
      },
      "source": [
        "X_train, X_test, y_train, y_test = train_test_split(X, y, test_size=0.25, random_state=42)"
      ],
      "execution_count": 22,
      "outputs": []
    },
    {
      "cell_type": "code",
      "metadata": {
        "ExecuteTime": {
          "end_time": "2020-08-26T08:00:49.652271Z",
          "start_time": "2020-08-26T08:00:48.894645Z"
        },
        "colab_type": "code",
        "id": "wbgBq4wdDMSw",
        "colab": {}
      },
      "source": [
        "#imputing null value of each column with the mean of that column\n",
        "imput = SimpleImputer()\n",
        "X_train = imput.fit_transform(X_train)\n",
        "X_test = imput.fit_transform(X_test)"
      ],
      "execution_count": 23,
      "outputs": []
    },
    {
      "cell_type": "code",
      "metadata": {
        "ExecuteTime": {
          "end_time": "2020-08-26T08:01:44.702708Z",
          "start_time": "2020-08-26T08:00:51.229431Z"
        },
        "colab_type": "code",
        "id": "FYtv4rVpDMS_",
        "colab": {
          "base_uri": "https://localhost:8080/",
          "height": 240
        },
        "outputId": "04892f1a-27d3-4361-efb1-6f37ca5a53e7"
      },
      "source": [
        "#finding feature_importance for feature selection. from it we'll be able to decide threshold value\n",
        "model = XGBRegressor()\n",
        "model.fit(X_train, y_train)\n",
        "print(model.feature_importances_)"
      ],
      "execution_count": 24,
      "outputs": [
        {
          "output_type": "stream",
          "text": [
            "[09:44:10] WARNING: /workspace/src/objective/regression_obj.cu:152: reg:linear is now deprecated in favor of reg:squarederror.\n",
            "[0.05115651 0.02897777 0.13911739 0.02826106 0.00595768 0.04332646\n",
            " 0.01590659 0.         0.01287898 0.         0.         0.00348626\n",
            " 0.13141693 0.00436716 0.0058711  0.0065089  0.16110069 0.\n",
            " 0.05513685 0.0040621  0.00863542 0.03761797 0.00898127 0.0139806\n",
            " 0.01894557 0.02671051 0.0015188  0.         0.03219567 0.0530614\n",
            " 0.00176505 0.02725989 0.02712863 0.01008714 0.02617038 0.00840923\n",
            " 0.         0.         0.         0.         0.         0.\n",
            " 0.         0.         0.         0.         0.         0.\n",
            " 0.         0.         0.         0.         0.         0.\n",
            " 0.         0.         0.         0.         0.         0.\n",
            " 0.         0.         0.         0.         0.        ]\n"
          ],
          "name": "stdout"
        }
      ]
    },
    {
      "cell_type": "code",
      "metadata": {
        "ExecuteTime": {
          "end_time": "2020-08-26T08:26:33.901821Z",
          "start_time": "2020-08-26T08:26:33.463713Z"
        },
        "colab_type": "code",
        "id": "hvl6bt6LDMTC",
        "colab": {}
      },
      "source": [
        "selection = SelectFromModel(model, threshold=0.01, prefit=True)\n",
        "\n",
        "select_X_train = selection.transform(X_train)\n",
        "select_X_test = selection.transform(X_test)"
      ],
      "execution_count": 25,
      "outputs": []
    },
    {
      "cell_type": "code",
      "metadata": {
        "ExecuteTime": {
          "end_time": "2020-08-26T08:26:36.131432Z",
          "start_time": "2020-08-26T08:26:36.093816Z"
        },
        "colab_type": "code",
        "id": "7sqTc4sTDMTF",
        "colab": {
          "base_uri": "https://localhost:8080/",
          "height": 36
        },
        "outputId": "c7961bfb-0fe9-47cd-fab9-308be24c4dcd"
      },
      "source": [
        "select_X_train.shape"
      ],
      "execution_count": 26,
      "outputs": [
        {
          "output_type": "execute_result",
          "data": {
            "text/plain": [
              "(137983, 20)"
            ]
          },
          "metadata": {
            "tags": []
          },
          "execution_count": 26
        }
      ]
    },
    {
      "cell_type": "markdown",
      "metadata": {
        "colab_type": "text",
        "id": "0j6TvWQcDMTI"
      },
      "source": [
        "## Training different models :"
      ]
    },
    {
      "cell_type": "markdown",
      "metadata": {
        "colab_type": "text",
        "id": "i5VPckscL4bs"
      },
      "source": [
        "### 1. Linear Regression :"
      ]
    },
    {
      "cell_type": "code",
      "metadata": {
        "ExecuteTime": {
          "end_time": "2020-08-26T08:26:43.377209Z",
          "start_time": "2020-08-26T08:26:43.362103Z"
        },
        "colab_type": "code",
        "id": "8jBCiW43MGWB",
        "colab": {}
      },
      "source": [
        "pipe = make_pipeline(StandardScaler(),             #preprocessing(standard scalling)\n",
        "                     LinearRegression())           #estimator(linear regression)\n",
        "\n",
        "cv = ShuffleSplit(random_state=0)   #defining type of cross_validation(shuffle spliting)\n",
        "\n",
        "param_grid = {'linearregression__n_jobs': [-1]}     #parameters for model tunning\n",
        "\n",
        "grid = GridSearchCV(pipe, param_grid=param_grid, cv=cv)"
      ],
      "execution_count": 27,
      "outputs": []
    },
    {
      "cell_type": "code",
      "metadata": {
        "ExecuteTime": {
          "end_time": "2020-08-26T08:26:52.092318Z",
          "start_time": "2020-08-26T08:26:48.136481Z"
        },
        "colab_type": "code",
        "id": "Q5YuQsmRMGc8",
        "colab": {
          "base_uri": "https://localhost:8080/",
          "height": 333
        },
        "outputId": "21d5f260-0b61-41f6-b6a1-d4234b6a2059"
      },
      "source": [
        "grid.fit(select_X_train, y_train)          #training "
      ],
      "execution_count": 28,
      "outputs": [
        {
          "output_type": "execute_result",
          "data": {
            "text/plain": [
              "GridSearchCV(cv=ShuffleSplit(n_splits=10, random_state=0, test_size=None, train_size=None),\n",
              "             error_score=nan,\n",
              "             estimator=Pipeline(memory=None,\n",
              "                                steps=[('standardscaler',\n",
              "                                        StandardScaler(copy=True,\n",
              "                                                       with_mean=True,\n",
              "                                                       with_std=True)),\n",
              "                                       ('linearregression',\n",
              "                                        LinearRegression(copy_X=True,\n",
              "                                                         fit_intercept=True,\n",
              "                                                         n_jobs=None,\n",
              "                                                         normalize=False))],\n",
              "                                verbose=False),\n",
              "             iid='deprecated', n_jobs=None,\n",
              "             param_grid={'linearregression__n_jobs': [-1]},\n",
              "             pre_dispatch='2*n_jobs', refit=True, return_train_score=False,\n",
              "             scoring=None, verbose=0)"
            ]
          },
          "metadata": {
            "tags": []
          },
          "execution_count": 28
        }
      ]
    },
    {
      "cell_type": "code",
      "metadata": {
        "ExecuteTime": {
          "end_time": "2020-08-26T08:26:55.296253Z",
          "start_time": "2020-08-26T08:26:55.285963Z"
        },
        "colab_type": "code",
        "id": "-3eGL__MPkhh",
        "colab": {
          "base_uri": "https://localhost:8080/",
          "height": 36
        },
        "outputId": "8045ab2c-40f3-49cd-c5a7-926fd15cf275"
      },
      "source": [
        "grid.best_params_"
      ],
      "execution_count": 29,
      "outputs": [
        {
          "output_type": "execute_result",
          "data": {
            "text/plain": [
              "{'linearregression__n_jobs': -1}"
            ]
          },
          "metadata": {
            "tags": []
          },
          "execution_count": 29
        }
      ]
    },
    {
      "cell_type": "code",
      "metadata": {
        "ExecuteTime": {
          "end_time": "2020-08-26T08:26:58.262512Z",
          "start_time": "2020-08-26T08:26:58.233850Z"
        },
        "colab_type": "code",
        "id": "wIhIICZgQnHx",
        "colab": {}
      },
      "source": [
        "lin_reg = pickle.dumps(grid)"
      ],
      "execution_count": 30,
      "outputs": []
    },
    {
      "cell_type": "markdown",
      "metadata": {
        "colab_type": "text",
        "id": "ycqocdHZYX9j"
      },
      "source": [
        "### 2. Decision Tree :"
      ]
    },
    {
      "cell_type": "code",
      "metadata": {
        "ExecuteTime": {
          "end_time": "2020-08-26T08:27:02.189867Z",
          "start_time": "2020-08-26T08:27:02.171918Z"
        },
        "colab_type": "code",
        "id": "qlIJwsCWYc0K",
        "colab": {}
      },
      "source": [
        "pipe = make_pipeline(StandardScaler(),                  #preprocessing\n",
        "                     DecisionTreeRegressor(criterion='mse', random_state=0))          #estimator\n",
        "\n",
        "cv = ShuffleSplit(n_splits=10, random_state=42)        #cross validation\n",
        "\n",
        "param_grid = {'decisiontreeregressor__max_depth': [3, 5, 7, 9, 13]}\n",
        "\n",
        "grid = GridSearchCV(pipe, param_grid=param_grid, cv=cv)"
      ],
      "execution_count": 31,
      "outputs": []
    },
    {
      "cell_type": "code",
      "metadata": {
        "ExecuteTime": {
          "end_time": "2020-08-26T08:28:15.723895Z",
          "start_time": "2020-08-26T08:27:04.066040Z"
        },
        "colab_type": "code",
        "id": "dhU3N14ZYc60",
        "colab": {
          "base_uri": "https://localhost:8080/",
          "height": 501
        },
        "outputId": "a13c1902-04ff-4343-f22b-adde5b86597d"
      },
      "source": [
        "grid.fit(select_X_train, y_train)          #training "
      ],
      "execution_count": 32,
      "outputs": [
        {
          "output_type": "execute_result",
          "data": {
            "text/plain": [
              "GridSearchCV(cv=ShuffleSplit(n_splits=10, random_state=42, test_size=None, train_size=None),\n",
              "             error_score=nan,\n",
              "             estimator=Pipeline(memory=None,\n",
              "                                steps=[('standardscaler',\n",
              "                                        StandardScaler(copy=True,\n",
              "                                                       with_mean=True,\n",
              "                                                       with_std=True)),\n",
              "                                       ('decisiontreeregressor',\n",
              "                                        DecisionTreeRegressor(ccp_alpha=0.0,\n",
              "                                                              criterion='mse',\n",
              "                                                              max_depth=None,\n",
              "                                                              max_features=None,\n",
              "                                                              max_leaf_nodes=None,\n",
              "                                                              min...y_decrease=0.0,\n",
              "                                                              min_impurity_split=None,\n",
              "                                                              min_samples_leaf=1,\n",
              "                                                              min_samples_split=2,\n",
              "                                                              min_weight_fraction_leaf=0.0,\n",
              "                                                              presort='deprecated',\n",
              "                                                              random_state=0,\n",
              "                                                              splitter='best'))],\n",
              "                                verbose=False),\n",
              "             iid='deprecated', n_jobs=None,\n",
              "             param_grid={'decisiontreeregressor__max_depth': [3, 5, 7, 9, 13]},\n",
              "             pre_dispatch='2*n_jobs', refit=True, return_train_score=False,\n",
              "             scoring=None, verbose=0)"
            ]
          },
          "metadata": {
            "tags": []
          },
          "execution_count": 32
        }
      ]
    },
    {
      "cell_type": "code",
      "metadata": {
        "ExecuteTime": {
          "end_time": "2020-08-26T08:30:09.570901Z",
          "start_time": "2020-08-26T08:30:09.482253Z"
        },
        "colab_type": "code",
        "id": "6SRj368DYdMX",
        "colab": {
          "base_uri": "https://localhost:8080/",
          "height": 36
        },
        "outputId": "e166e3d9-5fe4-4924-83cf-29736e5f5917"
      },
      "source": [
        "grid.best_params_"
      ],
      "execution_count": 33,
      "outputs": [
        {
          "output_type": "execute_result",
          "data": {
            "text/plain": [
              "{'decisiontreeregressor__max_depth': 13}"
            ]
          },
          "metadata": {
            "tags": []
          },
          "execution_count": 33
        }
      ]
    },
    {
      "cell_type": "code",
      "metadata": {
        "ExecuteTime": {
          "end_time": "2020-08-26T08:30:11.187211Z",
          "start_time": "2020-08-26T08:30:11.155686Z"
        },
        "colab_type": "code",
        "id": "PTLIxQF9Yc5P",
        "colab": {}
      },
      "source": [
        "Dectree_reg = pickle.dumps(grid)"
      ],
      "execution_count": 34,
      "outputs": []
    },
    {
      "cell_type": "markdown",
      "metadata": {
        "colab_type": "text",
        "id": "-dJ_uGELbZSx"
      },
      "source": [
        "### 3. Random Forest :"
      ]
    },
    {
      "cell_type": "code",
      "metadata": {
        "ExecuteTime": {
          "end_time": "2020-08-26T08:30:16.252994Z",
          "start_time": "2020-08-26T08:30:16.227597Z"
        },
        "colab_type": "code",
        "id": "vJLhkkegbjVB",
        "colab": {}
      },
      "source": [
        "pipe = make_pipeline(StandardScaler(),\n",
        "                     RandomForestRegressor(n_estimators=500, random_state=123))\n",
        "\n",
        "cv = ShuffleSplit(test_size=0.2, random_state=0)\n",
        "\n",
        "param_grid = {'randomforestregressor__max_features':['sqrt', 'log2', 10],\n",
        "              'randomforestregressor__max_depth':[9, 11, 13]}                 \n",
        "\n",
        "grid = GridSearchCV(pipe, param_grid=param_grid, cv=cv)"
      ],
      "execution_count": 35,
      "outputs": []
    },
    {
      "cell_type": "code",
      "metadata": {
        "ExecuteTime": {
          "start_time": "2020-08-26T08:30:18.632Z"
        },
        "colab_type": "code",
        "id": "19ii05xDbjb2",
        "colab": {
          "base_uri": "https://localhost:8080/",
          "height": 538
        },
        "outputId": "9e5008eb-ed28-4d80-d8c6-8bbb865ccee2"
      },
      "source": [
        "grid.fit(select_X_train, y_train)          #training "
      ],
      "execution_count": 36,
      "outputs": [
        {
          "output_type": "execute_result",
          "data": {
            "text/plain": [
              "GridSearchCV(cv=ShuffleSplit(n_splits=10, random_state=0, test_size=0.2, train_size=None),\n",
              "             error_score=nan,\n",
              "             estimator=Pipeline(memory=None,\n",
              "                                steps=[('standardscaler',\n",
              "                                        StandardScaler(copy=True,\n",
              "                                                       with_mean=True,\n",
              "                                                       with_std=True)),\n",
              "                                       ('randomforestregressor',\n",
              "                                        RandomForestRegressor(bootstrap=True,\n",
              "                                                              ccp_alpha=0.0,\n",
              "                                                              criterion='mse',\n",
              "                                                              max_depth=None,\n",
              "                                                              max_features='auto',\n",
              "                                                              max_leaf...\n",
              "                                                              min_weight_fraction_leaf=0.0,\n",
              "                                                              n_estimators=500,\n",
              "                                                              n_jobs=None,\n",
              "                                                              oob_score=False,\n",
              "                                                              random_state=123,\n",
              "                                                              verbose=0,\n",
              "                                                              warm_start=False))],\n",
              "                                verbose=False),\n",
              "             iid='deprecated', n_jobs=None,\n",
              "             param_grid={'randomforestregressor__max_depth': [9, 11, 13],\n",
              "                         'randomforestregressor__max_features': ['sqrt', 'log2',\n",
              "                                                                 10]},\n",
              "             pre_dispatch='2*n_jobs', refit=True, return_train_score=False,\n",
              "             scoring=None, verbose=0)"
            ]
          },
          "metadata": {
            "tags": []
          },
          "execution_count": 36
        }
      ]
    },
    {
      "cell_type": "code",
      "metadata": {
        "colab_type": "code",
        "id": "1c9kqH3Pbjip",
        "colab": {
          "base_uri": "https://localhost:8080/",
          "height": 54
        },
        "outputId": "4564a1a9-4b51-47e5-f21d-15da928f35a0"
      },
      "source": [
        "grid.best_params_"
      ],
      "execution_count": 37,
      "outputs": [
        {
          "output_type": "execute_result",
          "data": {
            "text/plain": [
              "{'randomforestregressor__max_depth': 13,\n",
              " 'randomforestregressor__max_features': 10}"
            ]
          },
          "metadata": {
            "tags": []
          },
          "execution_count": 37
        }
      ]
    },
    {
      "cell_type": "code",
      "metadata": {
        "colab_type": "code",
        "id": "RYC89pGzbjhM",
        "colab": {}
      },
      "source": [
        "Randfor_reg = pickle.dumps(grid)"
      ],
      "execution_count": 38,
      "outputs": []
    },
    {
      "cell_type": "markdown",
      "metadata": {
        "colab_type": "text",
        "id": "sBRwKR42P_6i"
      },
      "source": [
        "### 4. Xgboost regressor :"
      ]
    },
    {
      "cell_type": "code",
      "metadata": {
        "colab_type": "code",
        "id": "rq4LHkAEDMTK",
        "colab": {}
      },
      "source": [
        "pipe = make_pipeline(StandardScaler(),\n",
        "                     XGBRegressor(n_estimators= 500, random_state=42))\n",
        "\n",
        "cv = ShuffleSplit(n_splits=10, random_state=0)\n",
        "\n",
        "param_grid = {'xgbregressor__max_depth': [5, 7],\n",
        "              'xgbregressor__learning_rate': [0.1, 0.3]}\n",
        "\n",
        "grid = GridSearchCV(pipe, param_grid=param_grid, cv=cv, n_jobs= -1)"
      ],
      "execution_count": 39,
      "outputs": []
    },
    {
      "cell_type": "code",
      "metadata": {
        "colab_type": "code",
        "id": "NzHo57QgDMTM",
        "colab": {
          "base_uri": "https://localhost:8080/",
          "height": 576
        },
        "outputId": "67917bb2-77d4-4799-f954-58183c0d2cff"
      },
      "source": [
        "grid.fit(select_X_train, y_train)"
      ],
      "execution_count": 40,
      "outputs": [
        {
          "output_type": "stream",
          "text": [
            "[14:13:06] WARNING: /workspace/src/objective/regression_obj.cu:152: reg:linear is now deprecated in favor of reg:squarederror.\n"
          ],
          "name": "stdout"
        },
        {
          "output_type": "execute_result",
          "data": {
            "text/plain": [
              "GridSearchCV(cv=ShuffleSplit(n_splits=10, random_state=0, test_size=None, train_size=None),\n",
              "             error_score=nan,\n",
              "             estimator=Pipeline(memory=None,\n",
              "                                steps=[('standardscaler',\n",
              "                                        StandardScaler(copy=True,\n",
              "                                                       with_mean=True,\n",
              "                                                       with_std=True)),\n",
              "                                       ('xgbregressor',\n",
              "                                        XGBRegressor(base_score=0.5,\n",
              "                                                     booster='gbtree',\n",
              "                                                     colsample_bylevel=1,\n",
              "                                                     colsample_bynode=1,\n",
              "                                                     colsample_bytree=1,\n",
              "                                                     gamma=0,\n",
              "                                                     importa...\n",
              "                                                     nthread=None,\n",
              "                                                     objective='reg:linear',\n",
              "                                                     random_state=42,\n",
              "                                                     reg_alpha=0, reg_lambda=1,\n",
              "                                                     scale_pos_weight=1,\n",
              "                                                     seed=None, silent=None,\n",
              "                                                     subsample=1,\n",
              "                                                     verbosity=1))],\n",
              "                                verbose=False),\n",
              "             iid='deprecated', n_jobs=-1,\n",
              "             param_grid={'xgbregressor__learning_rate': [0.1, 0.3],\n",
              "                         'xgbregressor__max_depth': [5, 7]},\n",
              "             pre_dispatch='2*n_jobs', refit=True, return_train_score=False,\n",
              "             scoring=None, verbose=0)"
            ]
          },
          "metadata": {
            "tags": []
          },
          "execution_count": 40
        }
      ]
    },
    {
      "cell_type": "code",
      "metadata": {
        "colab_type": "code",
        "id": "kG08UnpuDMTW",
        "colab": {
          "base_uri": "https://localhost:8080/",
          "height": 36
        },
        "outputId": "2ae5aa1d-2fc5-4548-f25d-85d7b535bf2f"
      },
      "source": [
        "grid.best_params_"
      ],
      "execution_count": 41,
      "outputs": [
        {
          "output_type": "execute_result",
          "data": {
            "text/plain": [
              "{'xgbregressor__learning_rate': 0.3, 'xgbregressor__max_depth': 7}"
            ]
          },
          "metadata": {
            "tags": []
          },
          "execution_count": 41
        }
      ]
    },
    {
      "cell_type": "code",
      "metadata": {
        "colab_type": "code",
        "id": "8jWP033hf4t5",
        "colab": {}
      },
      "source": [
        "xgbreg = pickle.dumps(grid)"
      ],
      "execution_count": 42,
      "outputs": []
    },
    {
      "cell_type": "markdown",
      "metadata": {
        "colab_type": "text",
        "id": "g3m4adxqhpxa"
      },
      "source": [
        "## <u>Comparision between different models</u> :"
      ]
    },
    {
      "cell_type": "code",
      "metadata": {
        "id": "cDEXOdSVGrV2",
        "colab_type": "code",
        "colab": {
          "base_uri": "https://localhost:8080/",
          "height": 36
        },
        "outputId": "5dccb522-b5e3-482a-d79c-fd3796be2b32"
      },
      "source": [
        "lin_reg = pickle.loads(lin_reg)\n",
        "Dectree_reg = pickle.loads(Dectree_reg)\n",
        "Randfor_reg = pickle.loads(Randfor_reg)\n",
        "xgbreg = pickle.loads(xgbreg)"
      ],
      "execution_count": 43,
      "outputs": [
        {
          "output_type": "stream",
          "text": [
            "[14:25:28] WARNING: /workspace/src/objective/regression_obj.cu:152: reg:linear is now deprecated in favor of reg:squarederror.\n"
          ],
          "name": "stdout"
        }
      ]
    },
    {
      "cell_type": "code",
      "metadata": {
        "colab_type": "code",
        "id": "PYxBPcV9hvc-",
        "colab": {
          "base_uri": "https://localhost:8080/",
          "height": 91
        },
        "outputId": "395b2872-e6cd-4bb4-ae55-b00769d2f82f"
      },
      "source": [
        "print(\"\"\"Linear Regressor accuracy is {lin}\n",
        "DecisionTree Regressor accuracy is {Dec}\n",
        "RandomForest regressor accuracy is {ran}\n",
        "XGBoost regressor accuracy is {xgb}\"\"\".format(lin=lin_reg.score(select_X_test, y_test),\n",
        "                                                       Dec=Dectree_reg.score(select_X_test, y_test),\n",
        "                                                       ran=Randfor_reg.score(select_X_test, y_test),\n",
        "                                                       xgb=xgbreg.score(select_X_test, y_test)))"
      ],
      "execution_count": 44,
      "outputs": [
        {
          "output_type": "stream",
          "text": [
            "Linear Regressor accuracy is 0.8536768959300971\n",
            "DecisionTree Regressor accuracy is 0.9270795886776287\n",
            "RandomForest regressor accuracy is 0.9615008079149985\n",
            "XGBoost regressor accuracy is 0.9797578207551222\n"
          ],
          "name": "stdout"
        }
      ]
    },
    {
      "cell_type": "markdown",
      "metadata": {
        "id": "172xMmeBGrWI",
        "colab_type": "text"
      },
      "source": [
        "By accuracy comparision performed above we can say hear that XGBoost regressor gives better result than any other model. and it can predict the target function with approx 98% accuracy."
      ]
    },
    {
      "cell_type": "code",
      "metadata": {
        "id": "rnPKBJAOGrWJ",
        "colab_type": "code",
        "colab": {}
      },
      "source": [
        ""
      ],
      "execution_count": null,
      "outputs": []
    }
  ]
}