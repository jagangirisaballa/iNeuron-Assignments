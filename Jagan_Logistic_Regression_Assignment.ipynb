{
  "nbformat": 4,
  "nbformat_minor": 0,
  "metadata": {
    "colab": {
      "name": "Jagan Logistic Regression Assignment.ipynb",
      "provenance": [],
      "authorship_tag": "ABX9TyN8TtQAh77YNB3oLUWZ9s4x",
      "include_colab_link": true
    },
    "kernelspec": {
      "name": "python3",
      "display_name": "Python 3"
    }
  },
  "cells": [
    {
      "cell_type": "markdown",
      "metadata": {
        "id": "view-in-github",
        "colab_type": "text"
      },
      "source": [
        "<a href=\"https://colab.research.google.com/github/jagangirisaballa/iNeuron-Assignments/blob/master/Jagan_Logistic_Regression_Assignment.ipynb\" target=\"_parent\"><img src=\"https://colab.research.google.com/assets/colab-badge.svg\" alt=\"Open In Colab\"/></a>"
      ]
    },
    {
      "cell_type": "markdown",
      "metadata": {
        "id": "B6Wmox3rjaSR",
        "colab_type": "text"
      },
      "source": [
        "## Import Modules"
      ]
    },
    {
      "cell_type": "code",
      "metadata": {
        "id": "y2WslYIei-Eo",
        "colab_type": "code",
        "colab": {}
      },
      "source": [
        "import numpy as np\n",
        "import pandas as pd\n",
        "import statsmodels.api as sm\n",
        "import matplotlib.pyplot as plt\n",
        "from patsy import dmatrices\n",
        "from sklearn.linear_model import LogisticRegression\n",
        "from sklearn.model_selection import train_test_split\n",
        "from sklearn import metrics\n",
        "from sklearn.model_selection import cross_val_score\n",
        "from __future__ import unicode_literals\n",
        "\n",
        "%matplotlib inline"
      ],
      "execution_count": 8,
      "outputs": []
    },
    {
      "cell_type": "markdown",
      "metadata": {
        "id": "ymARMzLEjdIe",
        "colab_type": "text"
      },
      "source": [
        "## Data Pre-processing"
      ]
    },
    {
      "cell_type": "code",
      "metadata": {
        "id": "cdSMocUrjh84",
        "colab_type": "code",
        "colab": {}
      },
      "source": [
        "# Load dataset\n",
        "train = sm.datasets.fair.load_pandas().data\n",
        "\n",
        "# Add 'affair' column: 1 rpresents having affair, 0 doesn't\n",
        "train['affair'] = (train.affairs > 0).astype(int)"
      ],
      "execution_count": 5,
      "outputs": []
    },
    {
      "cell_type": "markdown",
      "metadata": {
        "id": "pIulddZqj4CR",
        "colab_type": "text"
      },
      "source": [
        "## Data Exploration"
      ]
    },
    {
      "cell_type": "code",
      "metadata": {
        "id": "nXQjSupcjivE",
        "colab_type": "code",
        "colab": {
          "base_uri": "https://localhost:8080/",
          "height": 136
        },
        "outputId": "d3391f61-c051-43a8-ea10-fad27e8a7b15"
      },
      "source": [
        "train.groupby('affair').mean()"
      ],
      "execution_count": 6,
      "outputs": [
        {
          "output_type": "execute_result",
          "data": {
            "text/html": [
              "<div>\n",
              "<style scoped>\n",
              "    .dataframe tbody tr th:only-of-type {\n",
              "        vertical-align: middle;\n",
              "    }\n",
              "\n",
              "    .dataframe tbody tr th {\n",
              "        vertical-align: top;\n",
              "    }\n",
              "\n",
              "    .dataframe thead th {\n",
              "        text-align: right;\n",
              "    }\n",
              "</style>\n",
              "<table border=\"1\" class=\"dataframe\">\n",
              "  <thead>\n",
              "    <tr style=\"text-align: right;\">\n",
              "      <th></th>\n",
              "      <th>rate_marriage</th>\n",
              "      <th>age</th>\n",
              "      <th>yrs_married</th>\n",
              "      <th>children</th>\n",
              "      <th>religious</th>\n",
              "      <th>educ</th>\n",
              "      <th>occupation</th>\n",
              "      <th>occupation_husb</th>\n",
              "      <th>affairs</th>\n",
              "    </tr>\n",
              "    <tr>\n",
              "      <th>affair</th>\n",
              "      <th></th>\n",
              "      <th></th>\n",
              "      <th></th>\n",
              "      <th></th>\n",
              "      <th></th>\n",
              "      <th></th>\n",
              "      <th></th>\n",
              "      <th></th>\n",
              "      <th></th>\n",
              "    </tr>\n",
              "  </thead>\n",
              "  <tbody>\n",
              "    <tr>\n",
              "      <th>0</th>\n",
              "      <td>4.329701</td>\n",
              "      <td>28.390679</td>\n",
              "      <td>7.989335</td>\n",
              "      <td>1.238813</td>\n",
              "      <td>2.504521</td>\n",
              "      <td>14.322977</td>\n",
              "      <td>3.405286</td>\n",
              "      <td>3.833758</td>\n",
              "      <td>0.000000</td>\n",
              "    </tr>\n",
              "    <tr>\n",
              "      <th>1</th>\n",
              "      <td>3.647345</td>\n",
              "      <td>30.537019</td>\n",
              "      <td>11.152460</td>\n",
              "      <td>1.728933</td>\n",
              "      <td>2.261568</td>\n",
              "      <td>13.972236</td>\n",
              "      <td>3.463712</td>\n",
              "      <td>3.884559</td>\n",
              "      <td>2.187243</td>\n",
              "    </tr>\n",
              "  </tbody>\n",
              "</table>\n",
              "</div>"
            ],
            "text/plain": [
              "        rate_marriage        age  ...  occupation_husb   affairs\n",
              "affair                            ...                           \n",
              "0            4.329701  28.390679  ...         3.833758  0.000000\n",
              "1            3.647345  30.537019  ...         3.884559  2.187243\n",
              "\n",
              "[2 rows x 9 columns]"
            ]
          },
          "metadata": {
            "tags": []
          },
          "execution_count": 6
        }
      ]
    },
    {
      "cell_type": "code",
      "metadata": {
        "id": "UAfudZb4j9Ua",
        "colab_type": "code",
        "colab": {
          "base_uri": "https://localhost:8080/",
          "height": 225
        },
        "outputId": "e3178bb0-6d48-4c5a-a081-db5448da4a58"
      },
      "source": [
        "train.groupby('rate_marriage').mean()"
      ],
      "execution_count": 7,
      "outputs": [
        {
          "output_type": "execute_result",
          "data": {
            "text/html": [
              "<div>\n",
              "<style scoped>\n",
              "    .dataframe tbody tr th:only-of-type {\n",
              "        vertical-align: middle;\n",
              "    }\n",
              "\n",
              "    .dataframe tbody tr th {\n",
              "        vertical-align: top;\n",
              "    }\n",
              "\n",
              "    .dataframe thead th {\n",
              "        text-align: right;\n",
              "    }\n",
              "</style>\n",
              "<table border=\"1\" class=\"dataframe\">\n",
              "  <thead>\n",
              "    <tr style=\"text-align: right;\">\n",
              "      <th></th>\n",
              "      <th>age</th>\n",
              "      <th>yrs_married</th>\n",
              "      <th>children</th>\n",
              "      <th>religious</th>\n",
              "      <th>educ</th>\n",
              "      <th>occupation</th>\n",
              "      <th>occupation_husb</th>\n",
              "      <th>affairs</th>\n",
              "      <th>affair</th>\n",
              "    </tr>\n",
              "    <tr>\n",
              "      <th>rate_marriage</th>\n",
              "      <th></th>\n",
              "      <th></th>\n",
              "      <th></th>\n",
              "      <th></th>\n",
              "      <th></th>\n",
              "      <th></th>\n",
              "      <th></th>\n",
              "      <th></th>\n",
              "      <th></th>\n",
              "    </tr>\n",
              "  </thead>\n",
              "  <tbody>\n",
              "    <tr>\n",
              "      <th>1.0</th>\n",
              "      <td>33.823232</td>\n",
              "      <td>13.914141</td>\n",
              "      <td>2.308081</td>\n",
              "      <td>2.343434</td>\n",
              "      <td>13.848485</td>\n",
              "      <td>3.232323</td>\n",
              "      <td>3.838384</td>\n",
              "      <td>1.201671</td>\n",
              "      <td>0.747475</td>\n",
              "    </tr>\n",
              "    <tr>\n",
              "      <th>2.0</th>\n",
              "      <td>30.471264</td>\n",
              "      <td>10.727011</td>\n",
              "      <td>1.735632</td>\n",
              "      <td>2.330460</td>\n",
              "      <td>13.864943</td>\n",
              "      <td>3.327586</td>\n",
              "      <td>3.764368</td>\n",
              "      <td>1.615745</td>\n",
              "      <td>0.635057</td>\n",
              "    </tr>\n",
              "    <tr>\n",
              "      <th>3.0</th>\n",
              "      <td>30.008056</td>\n",
              "      <td>10.239174</td>\n",
              "      <td>1.638469</td>\n",
              "      <td>2.308157</td>\n",
              "      <td>14.001007</td>\n",
              "      <td>3.402820</td>\n",
              "      <td>3.798590</td>\n",
              "      <td>1.371281</td>\n",
              "      <td>0.550856</td>\n",
              "    </tr>\n",
              "    <tr>\n",
              "      <th>4.0</th>\n",
              "      <td>28.856601</td>\n",
              "      <td>8.816905</td>\n",
              "      <td>1.369536</td>\n",
              "      <td>2.400981</td>\n",
              "      <td>14.144514</td>\n",
              "      <td>3.420161</td>\n",
              "      <td>3.835861</td>\n",
              "      <td>0.674837</td>\n",
              "      <td>0.322926</td>\n",
              "    </tr>\n",
              "    <tr>\n",
              "      <th>5.0</th>\n",
              "      <td>28.574702</td>\n",
              "      <td>8.311662</td>\n",
              "      <td>1.252794</td>\n",
              "      <td>2.506334</td>\n",
              "      <td>14.399776</td>\n",
              "      <td>3.454918</td>\n",
              "      <td>3.892697</td>\n",
              "      <td>0.348174</td>\n",
              "      <td>0.181446</td>\n",
              "    </tr>\n",
              "  </tbody>\n",
              "</table>\n",
              "</div>"
            ],
            "text/plain": [
              "                     age  yrs_married  ...   affairs    affair\n",
              "rate_marriage                          ...                    \n",
              "1.0            33.823232    13.914141  ...  1.201671  0.747475\n",
              "2.0            30.471264    10.727011  ...  1.615745  0.635057\n",
              "3.0            30.008056    10.239174  ...  1.371281  0.550856\n",
              "4.0            28.856601     8.816905  ...  0.674837  0.322926\n",
              "5.0            28.574702     8.311662  ...  0.348174  0.181446\n",
              "\n",
              "[5 rows x 9 columns]"
            ]
          },
          "metadata": {
            "tags": []
          },
          "execution_count": 7
        }
      ]
    },
    {
      "cell_type": "markdown",
      "metadata": {
        "id": "3Xy1mC-6kPP1",
        "colab_type": "text"
      },
      "source": [
        "## Inference\n",
        "##### An increase in age, yrs_married, and children appears to correlate with a declining marriage rating."
      ]
    },
    {
      "cell_type": "markdown",
      "metadata": {
        "id": "-rTyU_3mkoQF",
        "colab_type": "text"
      },
      "source": [
        "## Data Visualisation"
      ]
    },
    {
      "cell_type": "code",
      "metadata": {
        "id": "bRD9yhE4kG7k",
        "colab_type": "code",
        "colab": {
          "base_uri": "https://localhost:8080/",
          "height": 312
        },
        "outputId": "c557bd16-7e1e-4179-b89f-8de7eede9696"
      },
      "source": [
        "# histogram of education\n",
        "train.educ.hist()\n",
        "plt.title('Histogram of Education')\n",
        "plt.xlabel('Education Level')\n",
        "plt.ylabel('Frequency')"
      ],
      "execution_count": 9,
      "outputs": [
        {
          "output_type": "execute_result",
          "data": {
            "text/plain": [
              "Text(0, 0.5, 'Frequency')"
            ]
          },
          "metadata": {
            "tags": []
          },
          "execution_count": 9
        },
        {
          "output_type": "display_data",
          "data": {
            "image/png": "[encoded data removed]",
            "text/plain": [
              "<Figure size 432x288 with 1 Axes>"
            ]
          },
          "metadata": {
            "tags": [],
            "needs_background": "light"
          }
        }
      ]
    },
    {
      "cell_type": "code",
      "metadata": {
        "id": "3z1uTDTYktoF",
        "colab_type": "code",
        "colab": {
          "base_uri": "https://localhost:8080/",
          "height": 312
        },
        "outputId": "0b53704a-6bc4-4cec-bd7c-ec9176638ac3"
      },
      "source": [
        "# histogram of marriage rating\n",
        "train.rate_marriage.hist()\n",
        "plt.title('Histogram of Marriage Rating')\n",
        "plt.xlabel('Marriage Rating')\n",
        "plt.ylabel('Frequency')"
      ],
      "execution_count": 10,
      "outputs": [
        {
          "output_type": "execute_result",
          "data": {
            "text/plain": [
              "Text(0, 0.5, 'Frequency')"
            ]
          },
          "metadata": {
            "tags": []
          },
          "execution_count": 10
        },
        {
          "output_type": "display_data",
          "data": {
            "image/png": "[encoded data removed]",
            "text/plain": [
              "<Figure size 432x288 with 1 Axes>"
            ]
          },
          "metadata": {
            "tags": [],
            "needs_background": "light"
          }
        }
      ]
    },
    {
      "cell_type": "code",
      "metadata": {
        "id": "_e_6Joc5kyfF",
        "colab_type": "code",
        "colab": {
          "base_uri": "https://localhost:8080/",
          "height": 318
        },
        "outputId": "36c855fd-8358-421f-c948-ddfa21dfeb5e"
      },
      "source": [
        "# barplot of marriage rating grouped by affair (True or False)\n",
        "pd.crosstab(train.rate_marriage, train.affair.astype(bool)).plot(kind='bar')\n",
        "plt.title('Marriage Rating Distribution by Affair Status')\n",
        "plt.xlabel('Marriage Rating')\n",
        "plt.ylabel('Frequency')"
      ],
      "execution_count": 11,
      "outputs": [
        {
          "output_type": "execute_result",
          "data": {
            "text/plain": [
              "Text(0, 0.5, 'Frequency')"
            ]
          },
          "metadata": {
            "tags": []
          },
          "execution_count": 11
        },
        {
          "output_type": "display_data",
          "data": {
            "image/png": "[encoded data removed]",
            "text/plain": [
              "<Figure size 432x288 with 1 Axes>"
            ]
          },
          "metadata": {
            "tags": [],
            "needs_background": "light"
          }
        }
      ]
    },
    {
      "cell_type": "code",
      "metadata": {
        "id": "N7JQnCtgk3ni",
        "colab_type": "code",
        "colab": {
          "base_uri": "https://localhost:8080/",
          "height": 325
        },
        "outputId": "0483a682-c87c-4415-f84f-4d2516848027"
      },
      "source": [
        "affair_yrs_married = pd.crosstab(train.yrs_married, train.affair.astype(bool))\n",
        "affair_yrs_married.div(affair_yrs_married.sum(1).astype(float), axis=0).plot(kind='bar', stacked=True)\n",
        "plt.title('Affair Percentage by Years Married')\n",
        "plt.xlabel('Years Married')\n",
        "plt.ylabel('Percentage')"
      ],
      "execution_count": 12,
      "outputs": [
        {
          "output_type": "execute_result",
          "data": {
            "text/plain": [
              "Text(0, 0.5, 'Percentage')"
            ]
          },
          "metadata": {
            "tags": []
          },
          "execution_count": 12
        },
        {
          "output_type": "display_data",
          "data": {
            "image/png": "[encoded data removed]",
            "text/plain": [
              "<Figure size 432x288 with 1 Axes>"
            ]
          },
          "metadata": {
            "tags": [],
            "needs_background": "light"
          }
        }
      ]
    },
    {
      "cell_type": "markdown",
      "metadata": {
        "id": "7Xqq0-XJlbFp",
        "colab_type": "text"
      },
      "source": [
        "## Data Preparation "
      ]
    },
    {
      "cell_type": "code",
      "metadata": {
        "id": "fPH9HBKalCHH",
        "colab_type": "code",
        "colab": {
          "base_uri": "https://localhost:8080/",
          "height": 134
        },
        "outputId": "2c4cbf69-fb56-4960-b339-2c8739e0fa7d"
      },
      "source": [
        "y, X = dmatrices('affair ~ rate_marriage + age + yrs_married + children + religious + educ + C(occupation) + C(occupation_husb)', train, return_type=\"dataframe\")\n",
        "print (X.columns)"
      ],
      "execution_count": 14,
      "outputs": [
        {
          "output_type": "stream",
          "text": [
            "Index(['Intercept', 'C(occupation)[T.2.0]', 'C(occupation)[T.3.0]',\n",
            "       'C(occupation)[T.4.0]', 'C(occupation)[T.5.0]', 'C(occupation)[T.6.0]',\n",
            "       'C(occupation_husb)[T.2.0]', 'C(occupation_husb)[T.3.0]',\n",
            "       'C(occupation_husb)[T.4.0]', 'C(occupation_husb)[T.5.0]',\n",
            "       'C(occupation_husb)[T.6.0]', 'rate_marriage', 'age', 'yrs_married',\n",
            "       'children', 'religious', 'educ'],\n",
            "      dtype='object')\n"
          ],
          "name": "stdout"
        }
      ]
    },
    {
      "cell_type": "code",
      "metadata": {
        "id": "pkhqAGInlhH3",
        "colab_type": "code",
        "colab": {}
      },
      "source": [
        "# fix column names of X\n",
        "X = X.rename(columns = {'C(occupation)[T.2.0]':'occ_2',\n",
        "                        'C(occupation)[T.3.0]':'occ_3',\n",
        "                        'C(occupation)[T.4.0]':'occ_4',\n",
        "                        'C(occupation)[T.5.0]':'occ_5',\n",
        "                        'C(occupation)[T.6.0]':'occ_6',\n",
        "                        'C(occupation_husb)[T.2.0]':'occ_husb_2',\n",
        "                        'C(occupation_husb)[T.3.0]':'occ_husb_3',\n",
        "                        'C(occupation_husb)[T.4.0]':'occ_husb_4',\n",
        "                        'C(occupation_husb)[T.5.0]':'occ_husb_5',\n",
        "                        'C(occupation_husb)[T.6.0]':'occ_husb_6'})"
      ],
      "execution_count": 15,
      "outputs": []
    },
    {
      "cell_type": "code",
      "metadata": {
        "id": "WCK6iucQl287",
        "colab_type": "code",
        "colab": {}
      },
      "source": [
        "# flatten y into a 1-D array\n",
        "y = np.ravel(y)"
      ],
      "execution_count": 16,
      "outputs": []
    },
    {
      "cell_type": "markdown",
      "metadata": {
        "id": "nUF8EeSMl_nY",
        "colab_type": "text"
      },
      "source": [
        "## Apply Logistice Regression"
      ]
    },
    {
      "cell_type": "code",
      "metadata": {
        "id": "auMqzlNHl6ua",
        "colab_type": "code",
        "colab": {
          "base_uri": "https://localhost:8080/",
          "height": 188
        },
        "outputId": "3b42ce1a-cc4d-46bb-f8b4-725d4aeee702"
      },
      "source": [
        "# instantiate a logistic regression model, and fit with X and y\n",
        "model = LogisticRegression()\n",
        "model = model.fit(X, y)\n",
        "\n",
        "# check the accuracy on the training set\n",
        "model.score(X, y)"
      ],
      "execution_count": 17,
      "outputs": [
        {
          "output_type": "stream",
          "text": [
            "/usr/local/lib/python3.6/dist-packages/sklearn/linear_model/_logistic.py:940: ConvergenceWarning: lbfgs failed to converge (status=1):\n",
            "STOP: TOTAL NO. of ITERATIONS REACHED LIMIT.\n",
            "\n",
            "Increase the number of iterations (max_iter) or scale the data as shown in:\n",
            "    https://scikit-learn.org/stable/modules/preprocessing.html\n",
            "Please also refer to the documentation for alternative solver options:\n",
            "    https://scikit-learn.org/stable/modules/linear_model.html#logistic-regression\n",
            "  extra_warning_msg=_LOGISTIC_SOLVER_CONVERGENCE_MSG)\n"
          ],
          "name": "stderr"
        },
        {
          "output_type": "execute_result",
          "data": {
            "text/plain": [
              "0.7255733584668552"
            ]
          },
          "metadata": {
            "tags": []
          },
          "execution_count": 17
        }
      ]
    },
    {
      "cell_type": "code",
      "metadata": {
        "id": "-a67xwpFmD8I",
        "colab_type": "code",
        "colab": {
          "base_uri": "https://localhost:8080/",
          "height": 34
        },
        "outputId": "f1630fa5-d6ab-4f37-e0ba-31b1e9a6a277"
      },
      "source": [
        "# what percentage had affairs?\n",
        "y.mean()"
      ],
      "execution_count": 18,
      "outputs": [
        {
          "output_type": "execute_result",
          "data": {
            "text/plain": [
              "0.3224945020420987"
            ]
          },
          "metadata": {
            "tags": []
          },
          "execution_count": 18
        }
      ]
    },
    {
      "cell_type": "code",
      "metadata": {
        "id": "58IIStoAmRLU",
        "colab_type": "code",
        "colab": {
          "base_uri": "https://localhost:8080/",
          "height": 550
        },
        "outputId": "ed02c0af-35c9-4b64-f15d-a55c1b3ceec1"
      },
      "source": [
        "# examine the coefficients\n",
        "pd.DataFrame(zip(X.columns, np.transpose(model.coef_)))"
      ],
      "execution_count": 19,
      "outputs": [
        {
          "output_type": "execute_result",
          "data": {
            "text/html": [
              "<div>\n",
              "<style scoped>\n",
              "    .dataframe tbody tr th:only-of-type {\n",
              "        vertical-align: middle;\n",
              "    }\n",
              "\n",
              "    .dataframe tbody tr th {\n",
              "        vertical-align: top;\n",
              "    }\n",
              "\n",
              "    .dataframe thead th {\n",
              "        text-align: right;\n",
              "    }\n",
              "</style>\n",
              "<table border=\"1\" class=\"dataframe\">\n",
              "  <thead>\n",
              "    <tr style=\"text-align: right;\">\n",
              "      <th></th>\n",
              "      <th>0</th>\n",
              "      <th>1</th>\n",
              "    </tr>\n",
              "  </thead>\n",
              "  <tbody>\n",
              "    <tr>\n",
              "      <th>0</th>\n",
              "      <td>Intercept</td>\n",
              "      <td>[1.4550861870687934]</td>\n",
              "    </tr>\n",
              "    <tr>\n",
              "      <th>1</th>\n",
              "      <td>occ_2</td>\n",
              "      <td>[0.10292150333947396]</td>\n",
              "    </tr>\n",
              "    <tr>\n",
              "      <th>2</th>\n",
              "      <td>occ_3</td>\n",
              "      <td>[0.38270064127397885]</td>\n",
              "    </tr>\n",
              "    <tr>\n",
              "      <th>3</th>\n",
              "      <td>occ_4</td>\n",
              "      <td>[0.13054714879775478]</td>\n",
              "    </tr>\n",
              "    <tr>\n",
              "      <th>4</th>\n",
              "      <td>occ_5</td>\n",
              "      <td>[0.7433030056434439]</td>\n",
              "    </tr>\n",
              "    <tr>\n",
              "      <th>5</th>\n",
              "      <td>occ_6</td>\n",
              "      <td>[0.3070337820441653]</td>\n",
              "    </tr>\n",
              "    <tr>\n",
              "      <th>6</th>\n",
              "      <td>occ_husb_2</td>\n",
              "      <td>[0.29318726956911484]</td>\n",
              "    </tr>\n",
              "    <tr>\n",
              "      <th>7</th>\n",
              "      <td>occ_husb_3</td>\n",
              "      <td>[0.42656052502250386]</td>\n",
              "    </tr>\n",
              "    <tr>\n",
              "      <th>8</th>\n",
              "      <td>occ_husb_4</td>\n",
              "      <td>[0.2540265384475038]</td>\n",
              "    </tr>\n",
              "    <tr>\n",
              "      <th>9</th>\n",
              "      <td>occ_husb_5</td>\n",
              "      <td>[0.28378879705938265]</td>\n",
              "    </tr>\n",
              "    <tr>\n",
              "      <th>10</th>\n",
              "      <td>occ_husb_6</td>\n",
              "      <td>[0.31142600061384845]</td>\n",
              "    </tr>\n",
              "    <tr>\n",
              "      <th>11</th>\n",
              "      <td>rate_marriage</td>\n",
              "      <td>[-0.6908296357667554]</td>\n",
              "    </tr>\n",
              "    <tr>\n",
              "      <th>12</th>\n",
              "      <td>age</td>\n",
              "      <td>[-0.06754747651844235]</td>\n",
              "    </tr>\n",
              "    <tr>\n",
              "      <th>13</th>\n",
              "      <td>yrs_married</td>\n",
              "      <td>[0.11593390817913965]</td>\n",
              "    </tr>\n",
              "    <tr>\n",
              "      <th>14</th>\n",
              "      <td>children</td>\n",
              "      <td>[-0.0002182708649257261]</td>\n",
              "    </tr>\n",
              "    <tr>\n",
              "      <th>15</th>\n",
              "      <td>religious</td>\n",
              "      <td>[-0.37154047142786517]</td>\n",
              "    </tr>\n",
              "    <tr>\n",
              "      <th>16</th>\n",
              "      <td>educ</td>\n",
              "      <td>[0.018510707859239132]</td>\n",
              "    </tr>\n",
              "  </tbody>\n",
              "</table>\n",
              "</div>"
            ],
            "text/plain": [
              "                0                         1\n",
              "0       Intercept      [1.4550861870687934]\n",
              "1           occ_2     [0.10292150333947396]\n",
              "2           occ_3     [0.38270064127397885]\n",
              "3           occ_4     [0.13054714879775478]\n",
              "4           occ_5      [0.7433030056434439]\n",
              "5           occ_6      [0.3070337820441653]\n",
              "6      occ_husb_2     [0.29318726956911484]\n",
              "7      occ_husb_3     [0.42656052502250386]\n",
              "8      occ_husb_4      [0.2540265384475038]\n",
              "9      occ_husb_5     [0.28378879705938265]\n",
              "10     occ_husb_6     [0.31142600061384845]\n",
              "11  rate_marriage     [-0.6908296357667554]\n",
              "12            age    [-0.06754747651844235]\n",
              "13    yrs_married     [0.11593390817913965]\n",
              "14       children  [-0.0002182708649257261]\n",
              "15      religious    [-0.37154047142786517]\n",
              "16           educ    [0.018510707859239132]"
            ]
          },
          "metadata": {
            "tags": []
          },
          "execution_count": 19
        }
      ]
    },
    {
      "cell_type": "markdown",
      "metadata": {
        "id": "KCkty9xwmzbQ",
        "colab_type": "text"
      },
      "source": [
        "## Inferences\n",
        "##### From the above output we can say-Increases in marriage rating and religiousness correspond to a decrease in the likelihood of having an affair. \n",
        "\n",
        "##### For both the wife's occupation and the husband's occupation, the lowest likelihood of having an affair corresponds to the baseline occupation (student), since all of the dummy coefficients are positive."
      ]
    },
    {
      "cell_type": "markdown",
      "metadata": {
        "id": "PgRKlNVGm-jV",
        "colab_type": "text"
      },
      "source": [
        "## Model Evaluation on the validation set"
      ]
    },
    {
      "cell_type": "code",
      "metadata": {
        "id": "jll4t-dcmVpk",
        "colab_type": "code",
        "colab": {
          "base_uri": "https://localhost:8080/",
          "height": 255
        },
        "outputId": "6494c49a-0a62-4a2e-cb42-607435653f6a"
      },
      "source": [
        "X_train, X_test, y_train, y_test = train_test_split(X, y, test_size=0.3, random_state=0)\n",
        "model2 = LogisticRegression()\n",
        "model2.fit(X_train, y_train)"
      ],
      "execution_count": 20,
      "outputs": [
        {
          "output_type": "stream",
          "text": [
            "/usr/local/lib/python3.6/dist-packages/sklearn/linear_model/_logistic.py:940: ConvergenceWarning: lbfgs failed to converge (status=1):\n",
            "STOP: TOTAL NO. of ITERATIONS REACHED LIMIT.\n",
            "\n",
            "Increase the number of iterations (max_iter) or scale the data as shown in:\n",
            "    https://scikit-learn.org/stable/modules/preprocessing.html\n",
            "Please also refer to the documentation for alternative solver options:\n",
            "    https://scikit-learn.org/stable/modules/linear_model.html#logistic-regression\n",
            "  extra_warning_msg=_LOGISTIC_SOLVER_CONVERGENCE_MSG)\n"
          ],
          "name": "stderr"
        },
        {
          "output_type": "execute_result",
          "data": {
            "text/plain": [
              "LogisticRegression(C=1.0, class_weight=None, dual=False, fit_intercept=True,\n",
              "                   intercept_scaling=1, l1_ratio=None, max_iter=100,\n",
              "                   multi_class='auto', n_jobs=None, penalty='l2',\n",
              "                   random_state=None, solver='lbfgs', tol=0.0001, verbose=0,\n",
              "                   warm_start=False)"
            ]
          },
          "metadata": {
            "tags": []
          },
          "execution_count": 20
        }
      ]
    },
    {
      "cell_type": "code",
      "metadata": {
        "id": "VTL8Nq0Znipd",
        "colab_type": "code",
        "colab": {
          "base_uri": "https://localhost:8080/",
          "height": 34
        },
        "outputId": "a528f6a0-a849-4fb2-ce4b-5d60d7b4d74d"
      },
      "source": [
        "predicted = model2.predict(X_test)\n",
        "print(predicted)"
      ],
      "execution_count": 21,
      "outputs": [
        {
          "output_type": "stream",
          "text": [
            "[1. 0. 0. ... 0. 0. 0.]\n"
          ],
          "name": "stdout"
        }
      ]
    },
    {
      "cell_type": "code",
      "metadata": {
        "id": "ijxRHiD4ntxE",
        "colab_type": "code",
        "colab": {
          "base_uri": "https://localhost:8080/",
          "height": 134
        },
        "outputId": "0fca94da-6c19-474a-a8e0-48f1389498cf"
      },
      "source": [
        "probs = model2.predict_proba(X_test)\n",
        "print(probs)"
      ],
      "execution_count": 22,
      "outputs": [
        {
          "output_type": "stream",
          "text": [
            "[[0.35116502 0.64883498]\n",
            " [0.90707384 0.09292616]\n",
            " [0.71745264 0.28254736]\n",
            " ...\n",
            " [0.5447706  0.4552294 ]\n",
            " [0.81676353 0.18323647]\n",
            " [0.7412916  0.2587084 ]]\n"
          ],
          "name": "stdout"
        }
      ]
    },
    {
      "cell_type": "markdown",
      "metadata": {
        "id": "LhPjRAuiotHe",
        "colab_type": "text"
      },
      "source": [
        "## Evaluate our model"
      ]
    },
    {
      "cell_type": "code",
      "metadata": {
        "id": "eXxdXLF5n2YM",
        "colab_type": "code",
        "colab": {
          "base_uri": "https://localhost:8080/",
          "height": 50
        },
        "outputId": "08dc46d8-2d4b-4de8-d443-e9e6990aa315"
      },
      "source": [
        "print(metrics.accuracy_score(y_test, predicted))\n",
        "print(metrics.roc_auc_score(y_test, probs[:,1]))"
      ],
      "execution_count": 23,
      "outputs": [
        {
          "output_type": "stream",
          "text": [
            "0.7329842931937173\n",
            "0.7458760103727173\n"
          ],
          "name": "stdout"
        }
      ]
    },
    {
      "cell_type": "code",
      "metadata": {
        "id": "R7bd0Ru8ocTC",
        "colab_type": "code",
        "colab": {
          "base_uri": "https://localhost:8080/",
          "height": 202
        },
        "outputId": "b09efe4d-047f-4b08-96f5-6db146e40cd6"
      },
      "source": [
        "print(metrics.confusion_matrix(y_test, predicted))\n",
        "print(metrics.classification_report(y_test, predicted))"
      ],
      "execution_count": 24,
      "outputs": [
        {
          "output_type": "stream",
          "text": [
            "[[1173  130]\n",
            " [ 380  227]]\n",
            "              precision    recall  f1-score   support\n",
            "\n",
            "         0.0       0.76      0.90      0.82      1303\n",
            "         1.0       0.64      0.37      0.47       607\n",
            "\n",
            "    accuracy                           0.73      1910\n",
            "   macro avg       0.70      0.64      0.65      1910\n",
            "weighted avg       0.72      0.73      0.71      1910\n",
            "\n"
          ],
          "name": "stdout"
        }
      ]
    },
    {
      "cell_type": "code",
      "metadata": {
        "id": "gT8VVpkmoWPb",
        "colab_type": "code",
        "colab": {}
      },
      "source": [
        ""
      ],
      "execution_count": null,
      "outputs": []
    }
  ]
}