{
  "nbformat": 4,
  "nbformat_minor": 0,
  "metadata": {
    "colab": {
      "name": "Jagan Python Assignment 4.ipynb",
      "provenance": [],
      "authorship_tag": "ABX9TyPOLGHCwsni0+h89rclx2gV",
      "include_colab_link": true
    },
    "kernelspec": {
      "name": "python3",
      "display_name": "Python 3"
    }
  },
  "cells": [
    {
      "cell_type": "markdown",
      "metadata": {
        "id": "view-in-github",
        "colab_type": "text"
      },
      "source": [
        "<a href=\"https://colab.research.google.com/github/jagangirisaballa/iNeuron-Assignments/blob/master/Jagan_Python_Assignment_4.ipynb\" target=\"_parent\"><img src=\"https://colab.research.google.com/assets/colab-badge.svg\" alt=\"Open In Colab\"/></a>"
      ]
    },
    {
      "cell_type": "markdown",
      "metadata": {
        "id": "YapBcuPFDK1o",
        "colab_type": "text"
      },
      "source": [
        "1.1 Write a Python Program(with class concepts) to find the area of the triangle using the below\n",
        "formula.\n",
        "area = (s*(s-a)*(s-b)*(s-c)) ** 0.5\n",
        "Function to take the length of the sides of triangle from user should be defined in the parent\n",
        "class and function to calculate the area should be defined in subclass."
      ]
    },
    {
      "cell_type": "code",
      "metadata": {
        "id": "5ILn94rd7IFW",
        "colab_type": "code",
        "colab": {}
      },
      "source": [
        "import math"
      ],
      "execution_count": 0,
      "outputs": []
    },
    {
      "cell_type": "code",
      "metadata": {
        "id": "i2SopfEL2gKk",
        "colab_type": "code",
        "outputId": "c2dfe2a2-4a51-4a28-94a5-12f1337977be",
        "colab": {
          "base_uri": "https://localhost:8080/",
          "height": 35
        }
      },
      "source": [
        "class triangle:\n",
        "\n",
        "  def __init__(self, a, b, c):\n",
        "    self.a=a\n",
        "    self.b=b\n",
        "    self.c=c\n",
        "  def area(self):\n",
        "    s=(self.a+self.b+self.c)/2\n",
        "    area=math.sqrt(s*(s-self.a)*(s-self.b)*(s-self.c))\n",
        "    return area\n",
        "if __name__=='__main__':\n",
        "  t1=triangle(4,13,15)\n",
        "  print ('area = ',t1.area())\n"
      ],
      "execution_count": 2,
      "outputs": [
        {
          "output_type": "stream",
          "text": [
            "area =  24.0\n"
          ],
          "name": "stdout"
        }
      ]
    },
    {
      "cell_type": "markdown",
      "metadata": {
        "id": "8NHH7oJ7DTvZ",
        "colab_type": "text"
      },
      "source": [
        "1.2 Write a function filter_long_words() that takes a list of words and an integer n and returns\n",
        "the list of words that are longer than n."
      ]
    },
    {
      "cell_type": "code",
      "metadata": {
        "id": "upLPf_Nq8whY",
        "colab_type": "code",
        "outputId": "b2a7addc-91df-4df6-f20a-5a9bcb450097",
        "colab": {
          "base_uri": "https://localhost:8080/",
          "height": 35
        }
      },
      "source": [
        "list = ['abc', 'abcd', 'abcde']\n",
        "int = 4\n",
        "\n",
        "def filter_long_words(list, int):\n",
        "  words = []\n",
        "  for i in range(len(list)):\n",
        "    if len(list[i]) > int:\n",
        "      words.append(list[i])\n",
        "  return words\n",
        "\n",
        "filter_long_words(list, int)"
      ],
      "execution_count": 4,
      "outputs": [
        {
          "output_type": "execute_result",
          "data": {
            "text/plain": [
              "['abcde']"
            ]
          },
          "metadata": {
            "tags": []
          },
          "execution_count": 4
        }
      ]
    },
    {
      "cell_type": "markdown",
      "metadata": {
        "id": "6dN0BWOwArhd",
        "colab_type": "text"
      },
      "source": [
        "2.1 Write a Python program using function concept that maps list of words into a list of integers\n",
        "representing the lengths of the corresponding words.\n",
        "Hint: If a list [ ab,cde,erty] is passed on to the python function output should come as [2,3,4]\n",
        "Here 2,3 and 4 are the lengths of the words in the list."
      ]
    },
    {
      "cell_type": "code",
      "metadata": {
        "id": "AOANfi3r-aiS",
        "colab_type": "code",
        "outputId": "95d79936-7f0a-478b-8572-c7b84279f9e6",
        "colab": {
          "base_uri": "https://localhost:8080/",
          "height": 35
        }
      },
      "source": [
        "list = ['abc', 'abc', 'abcde']\n",
        "\n",
        "def wordlength(list):\n",
        "  length = []\n",
        "  for i in range(len(list)):\n",
        "    length.append(len(list[i]))\n",
        "  return length\n",
        "\n",
        "wordlength(list)"
      ],
      "execution_count": 5,
      "outputs": [
        {
          "output_type": "execute_result",
          "data": {
            "text/plain": [
              "[3, 3, 5]"
            ]
          },
          "metadata": {
            "tags": []
          },
          "execution_count": 5
        }
      ]
    },
    {
      "cell_type": "markdown",
      "metadata": {
        "id": "so7ZneKYBhub",
        "colab_type": "text"
      },
      "source": [
        "Write a Python function which takes a character (i.e. a string of length 1) and returns True if\n",
        "it is a vowel, False otherwise."
      ]
    },
    {
      "cell_type": "code",
      "metadata": {
        "id": "WIVGg4WpBg17",
        "colab_type": "code",
        "outputId": "bdcb71df-55ff-4f3f-f94a-bafb13d5dfa7",
        "colab": {
          "base_uri": "https://localhost:8080/",
          "height": 52
        }
      },
      "source": [
        "letter = input(\"please enter the alphabet:  \")\n",
        "\n",
        "def vowel_check(letter):\n",
        "  for i in letter:\n",
        "    if i == 'a' or i == 'e' or i == 'i' or i == 'o' or i == 'u':\n",
        "      print('True')\n",
        "    else:\n",
        "      print('False')\n",
        "\n",
        "vowel_check(letter)"
      ],
      "execution_count": 6,
      "outputs": [
        {
          "output_type": "stream",
          "text": [
            "please enter the alphabet:  f\n",
            "False\n"
          ],
          "name": "stdout"
        }
      ]
    },
    {
      "cell_type": "code",
      "metadata": {
        "id": "s2b2W2YpBT7O",
        "colab_type": "code",
        "colab": {}
      },
      "source": [
        ""
      ],
      "execution_count": 0,
      "outputs": []
    }
  ]
}